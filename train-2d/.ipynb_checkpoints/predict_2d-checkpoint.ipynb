{
 "cells": [
  {
   "cell_type": "code",
   "execution_count": 5,
   "metadata": {},
   "outputs": [],
   "source": [
    "import gzip\n",
    "import pickle\n",
    "import networkx as nx\n",
    "import pandas as pd\n",
    "import numpy as np"
   ]
  },
  {
   "cell_type": "code",
   "execution_count": 3,
   "metadata": {},
   "outputs": [],
   "source": [
    "import random"
   ]
  },
  {
   "cell_type": "code",
   "execution_count": 4,
   "metadata": {},
   "outputs": [],
   "source": [
    "filename = 'reversible-inductive-construction/data/laman/low_decomp_sahil_dataset.pkl.gz'"
   ]
  },
  {
   "cell_type": "code",
   "execution_count": 5,
   "metadata": {},
   "outputs": [],
   "source": [
    "total_laman_data = None\n",
    "\n",
    "with gzip.open(filename, 'r') as f:\n",
    "    total_laman_data = pickle.load(f)\n",
    "    "
   ]
  },
  {
   "cell_type": "code",
   "execution_count": 6,
   "metadata": {},
   "outputs": [],
   "source": [
    "laman_data, not_laman_data = total_laman_data"
   ]
  },
  {
   "cell_type": "code",
   "execution_count": 7,
   "metadata": {},
   "outputs": [],
   "source": [
    "num_laman_entries = int(len(laman_data) * 0.8)\n",
    "num_not_laman_entries = int(len(not_laman_data) * 0.8)"
   ]
  },
  {
   "cell_type": "code",
   "execution_count": 8,
   "metadata": {},
   "outputs": [],
   "source": [
    "held_out_laman_data = laman_data[num_laman_entries:]\n",
    "held_out_not_laman_data = not_laman_data[num_not_laman_entries:]"
   ]
  },
  {
   "cell_type": "code",
   "execution_count": 9,
   "metadata": {},
   "outputs": [],
   "source": [
    "laman_data = laman_data[0:num_laman_entries]\n",
    "not_laman_data = not_laman_data[0:num_not_laman_entries]"
   ]
  },
  {
   "cell_type": "code",
   "execution_count": 10,
   "metadata": {},
   "outputs": [
    {
     "name": "stdout",
     "output_type": "stream",
     "text": [
      "8054\n"
     ]
    }
   ],
   "source": [
    "print(len(laman_data))"
   ]
  },
  {
   "cell_type": "code",
   "execution_count": 11,
   "metadata": {},
   "outputs": [
    {
     "name": "stdout",
     "output_type": "stream",
     "text": [
      "7945\n"
     ]
    }
   ],
   "source": [
    "print(len(not_laman_data))"
   ]
  },
  {
   "cell_type": "code",
   "execution_count": 12,
   "metadata": {},
   "outputs": [],
   "source": [
    "from stellargraph import StellarGraph"
   ]
  },
  {
   "cell_type": "code",
   "execution_count": 13,
   "metadata": {},
   "outputs": [],
   "source": [
    "graphs = []\n",
    "graph_labels = []\n",
    "indices = []\n",
    "index = 0\n",
    "\n",
    "for graph in laman_data:\n",
    "    edges = graph.edges\n",
    "    source = []\n",
    "    dest = []\n",
    "    nodes = {}\n",
    "    for e1, e2 in edges:\n",
    "        source.append(e1)\n",
    "        dest.append(e2)\n",
    "        if e1 in nodes:\n",
    "            nodes[e1] += 1\n",
    "        else:\n",
    "            nodes[e1] = 1\n",
    "        \n",
    "        if e2 in nodes:\n",
    "            nodes[e2] += 1\n",
    "        else:\n",
    "            nodes[e2] = 1\n",
    "    \n",
    "    nodes_keys = list(nodes.keys())\n",
    "    nodes_vals = list(nodes.values())\n",
    "    pd_node_data = pd.DataFrame({\"x\": nodes_vals}, index=nodes_keys)\n",
    "\n",
    "    pd_edges = pd.DataFrame({\"source\": source, \"target\": dest})\n",
    "    pd_graph = StellarGraph(pd_node_data, edges=pd_edges)\n",
    "    graphs.append(pd_graph)\n",
    "    \n",
    "    indices.append(index)\n",
    "    graph_labels.append(1)\n",
    "    index += 1\n"
   ]
  },
  {
   "cell_type": "code",
   "execution_count": 14,
   "metadata": {},
   "outputs": [],
   "source": [
    "for graph in not_laman_data:\n",
    "    edges = graph.edges\n",
    "    source = []\n",
    "    dest = []\n",
    "    nodes = {}\n",
    "    for e1, e2 in edges:\n",
    "        source.append(e1)\n",
    "        dest.append(e2)\n",
    "        if e1 in nodes:\n",
    "            nodes[e1] += 1\n",
    "        else:\n",
    "            nodes[e1] = 1\n",
    "        \n",
    "        if e2 in nodes:\n",
    "            nodes[e2] += 1\n",
    "        else:\n",
    "            nodes[e2] = 1\n",
    "    \n",
    "    nodes_keys = list(nodes.keys())\n",
    "    nodes_vals = list(nodes.values())\n",
    "    pd_node_data = pd.DataFrame({\"x\": nodes_vals}, index=nodes_keys)\n",
    "        \n",
    "    pd_edges = pd.DataFrame({\"source\": source, \"target\": dest})\n",
    "    pd_graph = StellarGraph(pd_node_data, edges=pd_edges)\n",
    "    graphs.append(pd_graph)\n",
    "    \n",
    "    indices.append(index)\n",
    "    graph_labels.append(0)\n",
    "    index += 1\n"
   ]
  },
  {
   "cell_type": "code",
   "execution_count": 15,
   "metadata": {},
   "outputs": [
    {
     "data": {
      "text/html": [
       "<div>\n",
       "<style scoped>\n",
       "    .dataframe tbody tr th:only-of-type {\n",
       "        vertical-align: middle;\n",
       "    }\n",
       "\n",
       "    .dataframe tbody tr th {\n",
       "        vertical-align: top;\n",
       "    }\n",
       "\n",
       "    .dataframe thead th {\n",
       "        text-align: right;\n",
       "    }\n",
       "</style>\n",
       "<table border=\"1\" class=\"dataframe\">\n",
       "  <thead>\n",
       "    <tr style=\"text-align: right;\">\n",
       "      <th></th>\n",
       "      <th>nodes</th>\n",
       "      <th>edges</th>\n",
       "    </tr>\n",
       "  </thead>\n",
       "  <tbody>\n",
       "    <tr>\n",
       "      <th>count</th>\n",
       "      <td>15999.0</td>\n",
       "      <td>15999.0</td>\n",
       "    </tr>\n",
       "    <tr>\n",
       "      <th>mean</th>\n",
       "      <td>39.7</td>\n",
       "      <td>72.6</td>\n",
       "    </tr>\n",
       "    <tr>\n",
       "      <th>std</th>\n",
       "      <td>23.5</td>\n",
       "      <td>44.8</td>\n",
       "    </tr>\n",
       "    <tr>\n",
       "      <th>min</th>\n",
       "      <td>2.0</td>\n",
       "      <td>1.0</td>\n",
       "    </tr>\n",
       "    <tr>\n",
       "      <th>25%</th>\n",
       "      <td>21.0</td>\n",
       "      <td>37.0</td>\n",
       "    </tr>\n",
       "    <tr>\n",
       "      <th>50%</th>\n",
       "      <td>37.0</td>\n",
       "      <td>67.0</td>\n",
       "    </tr>\n",
       "    <tr>\n",
       "      <th>75%</th>\n",
       "      <td>55.0</td>\n",
       "      <td>101.0</td>\n",
       "    </tr>\n",
       "    <tr>\n",
       "      <th>max</th>\n",
       "      <td>154.0</td>\n",
       "      <td>305.0</td>\n",
       "    </tr>\n",
       "  </tbody>\n",
       "</table>\n",
       "</div>"
      ],
      "text/plain": [
       "         nodes    edges\n",
       "count  15999.0  15999.0\n",
       "mean      39.7     72.6\n",
       "std       23.5     44.8\n",
       "min        2.0      1.0\n",
       "25%       21.0     37.0\n",
       "50%       37.0     67.0\n",
       "75%       55.0    101.0\n",
       "max      154.0    305.0"
      ]
     },
     "execution_count": 15,
     "metadata": {},
     "output_type": "execute_result"
    }
   ],
   "source": [
    "summary = pd.DataFrame(\n",
    "    [(g.number_of_nodes(), g.number_of_edges()) for g in graphs],\n",
    "    columns=[\"nodes\", \"edges\"],\n",
    ")\n",
    "summary.describe().round(1)"
   ]
  },
  {
   "cell_type": "code",
   "execution_count": 16,
   "metadata": {},
   "outputs": [],
   "source": [
    "graph_labels = pd.DataFrame(graph_labels) "
   ]
  },
  {
   "cell_type": "code",
   "execution_count": 17,
   "metadata": {},
   "outputs": [
    {
     "data": {
      "text/html": [
       "<div>\n",
       "<style scoped>\n",
       "    .dataframe tbody tr th:only-of-type {\n",
       "        vertical-align: middle;\n",
       "    }\n",
       "\n",
       "    .dataframe tbody tr th {\n",
       "        vertical-align: top;\n",
       "    }\n",
       "\n",
       "    .dataframe thead th {\n",
       "        text-align: right;\n",
       "    }\n",
       "</style>\n",
       "<table border=\"1\" class=\"dataframe\">\n",
       "  <thead>\n",
       "    <tr style=\"text-align: right;\">\n",
       "      <th></th>\n",
       "      <th>0</th>\n",
       "    </tr>\n",
       "    <tr>\n",
       "      <th>0</th>\n",
       "      <th></th>\n",
       "    </tr>\n",
       "  </thead>\n",
       "  <tbody>\n",
       "    <tr>\n",
       "      <th>1</th>\n",
       "      <td>8054</td>\n",
       "    </tr>\n",
       "    <tr>\n",
       "      <th>0</th>\n",
       "      <td>7945</td>\n",
       "    </tr>\n",
       "  </tbody>\n",
       "</table>\n",
       "</div>"
      ],
      "text/plain": [
       "      0\n",
       "0      \n",
       "1  8054\n",
       "0  7945"
      ]
     },
     "execution_count": 17,
     "metadata": {},
     "output_type": "execute_result"
    }
   ],
   "source": [
    "graph_labels.value_counts().to_frame()"
   ]
  },
  {
   "cell_type": "code",
   "execution_count": 18,
   "metadata": {},
   "outputs": [],
   "source": [
    "graph_labels = pd.get_dummies(graph_labels, drop_first=True)"
   ]
  },
  {
   "cell_type": "code",
   "execution_count": 19,
   "metadata": {},
   "outputs": [
    {
     "data": {
      "text/html": [
       "<div>\n",
       "<style scoped>\n",
       "    .dataframe tbody tr th:only-of-type {\n",
       "        vertical-align: middle;\n",
       "    }\n",
       "\n",
       "    .dataframe tbody tr th {\n",
       "        vertical-align: top;\n",
       "    }\n",
       "\n",
       "    .dataframe thead th {\n",
       "        text-align: right;\n",
       "    }\n",
       "</style>\n",
       "<table border=\"1\" class=\"dataframe\">\n",
       "  <thead>\n",
       "    <tr style=\"text-align: right;\">\n",
       "      <th></th>\n",
       "      <th>0</th>\n",
       "    </tr>\n",
       "    <tr>\n",
       "      <th>0</th>\n",
       "      <th></th>\n",
       "    </tr>\n",
       "  </thead>\n",
       "  <tbody>\n",
       "    <tr>\n",
       "      <th>1</th>\n",
       "      <td>8054</td>\n",
       "    </tr>\n",
       "    <tr>\n",
       "      <th>0</th>\n",
       "      <td>7945</td>\n",
       "    </tr>\n",
       "  </tbody>\n",
       "</table>\n",
       "</div>"
      ],
      "text/plain": [
       "      0\n",
       "0      \n",
       "1  8054\n",
       "0  7945"
      ]
     },
     "execution_count": 19,
     "metadata": {},
     "output_type": "execute_result"
    }
   ],
   "source": [
    "graph_labels.value_counts().to_frame()"
   ]
  },
  {
   "cell_type": "code",
   "execution_count": 20,
   "metadata": {},
   "outputs": [],
   "source": [
    "generator = PaddedGraphGenerator(graphs=graphs)"
   ]
  },
  {
   "cell_type": "code",
   "execution_count": 21,
   "metadata": {},
   "outputs": [
    {
     "name": "stdout",
     "output_type": "stream",
     "text": [
      "WARNING:tensorflow:From /opt/anaconda3/envs/cos429-7/lib/python3.7/site-packages/tensorflow/python/util/deprecation.py:574: calling map_fn_v2 (from tensorflow.python.ops.map_fn) with dtype is deprecated and will be removed in a future version.\n",
      "Instructions for updating:\n",
      "Use fn_output_signature instead\n"
     ]
    }
   ],
   "source": [
    "k = 35  # the number of rows for the output tensor\n",
    "layer_sizes = [32, 32, 32, 1]\n",
    "\n",
    "dgcnn_model = DeepGraphCNN(\n",
    "    layer_sizes=layer_sizes,\n",
    "    activations=[\"tanh\", \"tanh\", \"tanh\", \"tanh\"],\n",
    "    k=k,\n",
    "    bias=False,\n",
    "    generator=generator,\n",
    ")\n",
    "x_inp, x_out = dgcnn_model.in_out_tensors()"
   ]
  },
  {
   "cell_type": "code",
   "execution_count": 22,
   "metadata": {},
   "outputs": [],
   "source": [
    "x_out = Conv1D(filters=16, kernel_size=sum(layer_sizes), strides=sum(layer_sizes))(x_out)\n",
    "x_out = MaxPool1D(pool_size=2)(x_out)\n",
    "\n",
    "x_out = Conv1D(filters=32, kernel_size=5, strides=1)(x_out)\n",
    "\n",
    "x_out = Flatten()(x_out)\n",
    "\n",
    "x_out = Dense(units=128, activation=\"relu\")(x_out)\n",
    "x_out = Dropout(rate=0.5)(x_out)\n",
    "\n",
    "predictions = Dense(units=1, activation=\"sigmoid\")(x_out)"
   ]
  },
  {
   "cell_type": "code",
   "execution_count": 23,
   "metadata": {},
   "outputs": [],
   "source": [
    "model = Model(inputs=x_inp, outputs=predictions)\n",
    "\n",
    "model.compile(\n",
    "    optimizer=Adam(lr=0.0001), loss=binary_crossentropy, metrics=[\"acc\"],\n",
    ")"
   ]
  },
  {
   "cell_type": "code",
   "execution_count": 24,
   "metadata": {},
   "outputs": [],
   "source": [
    "train_graphs, test_graphs = model_selection.train_test_split(\n",
    "    graph_labels, train_size=0.75, test_size=None, stratify=graph_labels,\n",
    ")"
   ]
  },
  {
   "cell_type": "code",
   "execution_count": 25,
   "metadata": {},
   "outputs": [],
   "source": [
    "gen = PaddedGraphGenerator(graphs=graphs)\n",
    "\n",
    "train_gen = gen.flow(\n",
    "    list(train_graphs.index - 1),\n",
    "    targets=train_graphs.values,\n",
    "    batch_size=64,\n",
    "    symmetric_normalization=False,\n",
    ")\n",
    "\n",
    "test_gen = gen.flow(\n",
    "    list(test_graphs.index - 1),\n",
    "    targets=test_graphs.values,\n",
    "    batch_size=1,\n",
    "    symmetric_normalization=False,\n",
    ")"
   ]
  },
  {
   "cell_type": "code",
   "execution_count": 26,
   "metadata": {},
   "outputs": [],
   "source": [
    "epochs = 20"
   ]
  },
  {
   "cell_type": "code",
   "execution_count": 27,
   "metadata": {
    "scrolled": true
   },
   "outputs": [
    {
     "name": "stdout",
     "output_type": "stream",
     "text": [
      "Epoch 1/20\n"
     ]
    },
    {
     "name": "stderr",
     "output_type": "stream",
     "text": [
      "/opt/anaconda3/envs/cos429-7/lib/python3.7/site-packages/tensorflow/python/framework/indexed_slices.py:433: UserWarning: Converting sparse IndexedSlices to a dense Tensor of unknown shape. This may consume a large amount of memory.\n",
      "  \"Converting sparse IndexedSlices to a dense Tensor of unknown shape. \"\n"
     ]
    },
    {
     "name": "stdout",
     "output_type": "stream",
     "text": [
      "188/188 [==============================] - 9s 49ms/step - loss: 0.6938 - acc: 0.5090 - val_loss: 0.6898 - val_acc: 0.5163\n",
      "Epoch 2/20\n",
      "188/188 [==============================] - 9s 47ms/step - loss: 0.6847 - acc: 0.5623 - val_loss: 0.6776 - val_acc: 0.5403\n",
      "Epoch 3/20\n",
      "188/188 [==============================] - 13s 69ms/step - loss: 0.6534 - acc: 0.6399 - val_loss: 0.6214 - val_acc: 0.6948\n",
      "Epoch 4/20\n",
      "188/188 [==============================] - 9s 47ms/step - loss: 0.5545 - acc: 0.7458 - val_loss: 0.5191 - val_acc: 0.7710\n",
      "Epoch 5/20\n",
      "188/188 [==============================] - 14s 73ms/step - loss: 0.4632 - acc: 0.7916 - val_loss: 0.4437 - val_acc: 0.8085\n",
      "Epoch 6/20\n",
      "188/188 [==============================] - 11s 58ms/step - loss: 0.4222 - acc: 0.8153 - val_loss: 0.4061 - val_acc: 0.8227\n",
      "Epoch 7/20\n",
      "188/188 [==============================] - 12s 63ms/step - loss: 0.3979 - acc: 0.8299 - val_loss: 0.4019 - val_acc: 0.8210\n",
      "Epoch 8/20\n",
      "188/188 [==============================] - 15s 79ms/step - loss: 0.3863 - acc: 0.8317 - val_loss: 0.3909 - val_acc: 0.8275\n",
      "Epoch 9/20\n",
      "188/188 [==============================] - 12s 62ms/step - loss: 0.3743 - acc: 0.8347 - val_loss: 0.3637 - val_acc: 0.8413\n",
      "Epoch 10/20\n",
      "188/188 [==============================] - 10s 54ms/step - loss: 0.3604 - acc: 0.8418 - val_loss: 0.3566 - val_acc: 0.8460\n",
      "Epoch 11/20\n",
      "188/188 [==============================] - 14s 76ms/step - loss: 0.3572 - acc: 0.8440 - val_loss: 0.3424 - val_acc: 0.8525\n",
      "Epoch 12/20\n",
      "188/188 [==============================] - 12s 62ms/step - loss: 0.3402 - acc: 0.8517 - val_loss: 0.3386 - val_acc: 0.8547\n",
      "Epoch 13/20\n",
      "188/188 [==============================] - 12s 63ms/step - loss: 0.3393 - acc: 0.8531 - val_loss: 0.3923 - val_acc: 0.8192\n",
      "Epoch 14/20\n",
      "188/188 [==============================] - 14s 74ms/step - loss: 0.3340 - acc: 0.8529 - val_loss: 0.3274 - val_acc: 0.8575\n",
      "Epoch 15/20\n",
      "188/188 [==============================] - 9s 50ms/step - loss: 0.3280 - acc: 0.8582 - val_loss: 0.3582 - val_acc: 0.8397\n",
      "Epoch 16/20\n",
      "188/188 [==============================] - 9s 48ms/step - loss: 0.3197 - acc: 0.8603 - val_loss: 0.3166 - val_acc: 0.8608\n",
      "Epoch 17/20\n",
      "188/188 [==============================] - 10s 54ms/step - loss: 0.3201 - acc: 0.8606 - val_loss: 0.3139 - val_acc: 0.8602\n",
      "Epoch 18/20\n",
      "188/188 [==============================] - 11s 60ms/step - loss: 0.3146 - acc: 0.8615 - val_loss: 0.3166 - val_acc: 0.8595\n",
      "Epoch 19/20\n",
      "188/188 [==============================] - 11s 59ms/step - loss: 0.3174 - acc: 0.8597 - val_loss: 0.3109 - val_acc: 0.8633\n",
      "Epoch 20/20\n",
      "188/188 [==============================] - 10s 54ms/step - loss: 0.3085 - acc: 0.8632 - val_loss: 0.3057 - val_acc: 0.8648\n"
     ]
    }
   ],
   "source": [
    "history = model.fit(\n",
    "    train_gen, epochs=epochs, verbose=1, validation_data=test_gen, shuffle=True,\n",
    ")"
   ]
  },
  {
   "cell_type": "code",
   "execution_count": 28,
   "metadata": {},
   "outputs": [
    {
     "name": "stdout",
     "output_type": "stream",
     "text": [
      "4000/4000 [==============================] - 3s 827us/step - loss: 0.3057 - acc: 0.8648\n",
      "\n",
      "Test Set Metrics:\n",
      "\tloss: 0.3057\n",
      "\tacc: 0.8648\n"
     ]
    }
   ],
   "source": [
    "test_metrics = model.evaluate(test_gen)\n",
    "print(\"\\nTest Set Metrics:\")\n",
    "for name, val in zip(model.metrics_names, test_metrics):\n",
    "    print(\"\\t{}: {:0.4f}\".format(name, val))"
   ]
  },
  {
   "cell_type": "code",
   "execution_count": null,
   "metadata": {},
   "outputs": [],
   "source": [
    "# Analyze the test generator output \n",
    "\n",
    "\n"
   ]
  },
  {
   "cell_type": "code",
   "execution_count": 37,
   "metadata": {},
   "outputs": [
    {
     "name": "stdout",
     "output_type": "stream",
     "text": [
      "2014/2014 [==============================] - 3s 1ms/step - loss: 0.2653 - acc: 0.9156\n",
      "[0.26526209712028503, 0.9155908823013306]\n"
     ]
    }
   ],
   "source": [
    "# Evaluate performance on test set\n",
    "generator_for_test_set = PaddedGraphGenerator(graphs=held_out_laman_data_stellar)\n",
    "test_gen = generator_for_test_set.flow(held_out_laman_data_stellar_indices, targets=held_out_laman_tgt, batch_size=1, symmetric_normalization=False)\n",
    "result = model.evaluate(test_gen)\n",
    "print(result)"
   ]
  },
  {
   "cell_type": "code",
   "execution_count": 38,
   "metadata": {},
   "outputs": [
    {
     "name": "stdout",
     "output_type": "stream",
     "text": [
      "1987/1987 [==============================] - 2s 1ms/step - loss: 0.2975 - acc: 0.8405\n",
      "[0.297455757856369, 0.8404629826545715]\n"
     ]
    }
   ],
   "source": [
    "# Evaluate performance on test set\n",
    "generator_for_test_set = PaddedGraphGenerator(graphs=held_out_not_laman_data_stellar)\n",
    "test_gen = generator_for_test_set.flow(held_out_not_laman_data_stellar_indices, targets=held_out_not_laman_tgt, batch_size=1, symmetric_normalization=False)\n",
    "result = model.evaluate(test_gen)\n",
    "print(result)"
   ]
  },
  {
   "cell_type": "code",
   "execution_count": 32,
   "metadata": {},
   "outputs": [
    {
     "data": {
      "image/png": "[encoded data removed]",
      "text/plain": [
       "<Figure size 504x576 with 2 Axes>"
      ]
     },
     "metadata": {
      "needs_background": "light"
     },
     "output_type": "display_data"
    }
   ],
   "source": [
    "sg.utils.plot_history(history)"
   ]
  },
  {
   "cell_type": "code",
   "execution_count": null,
   "metadata": {},
   "outputs": [],
   "source": []
  },
  {
   "cell_type": "code",
   "execution_count": null,
   "metadata": {},
   "outputs": [],
   "source": [
    "# Try 50/50 split test/train\n",
    "\n",
    "# Play with ranges\n",
    "# Find if there's some heuristic that it has found\n",
    "\n",
    "# Play with the number of layers (fewer layers make it harder to approximate the pebble game)\n",
    "# Try to break it and convince myself that there is nothing buggy going on\n",
    "\n",
    "# Look into the number "
   ]
  },
  {
   "cell_type": "code",
   "execution_count": 35,
   "metadata": {},
   "outputs": [],
   "source": [
    "def network_graph_to_stellar(graph):\n",
    "    edges = graph.edges\n",
    "    source = []\n",
    "    dest = []\n",
    "    nodes = {}\n",
    "    for e1, e2 in edges:\n",
    "        source.append(e1)\n",
    "        dest.append(e2)\n",
    "        if e1 in nodes:\n",
    "            nodes[e1] += 1\n",
    "        else:\n",
    "            nodes[e1] = 1\n",
    "        \n",
    "        if e2 in nodes:\n",
    "            nodes[e2] += 1\n",
    "        else:\n",
    "            nodes[e2] = 1\n",
    "    \n",
    "    nodes_keys = list(nodes.keys())\n",
    "    nodes_vals = list(nodes.values())\n",
    "    pd_node_data = pd.DataFrame({\"x\": nodes_vals}, index=nodes_keys)\n",
    "        \n",
    "    pd_edges = pd.DataFrame({\"source\": source, \"target\": dest})\n",
    "    pd_graph = StellarGraph(pd_node_data, edges=pd_edges)\n",
    "    return pd_graph"
   ]
  },
  {
   "cell_type": "code",
   "execution_count": 36,
   "metadata": {},
   "outputs": [],
   "source": [
    "held_out_laman_data_stellar_indices = []\n",
    "held_out_laman_data_stellar = []\n",
    "held_out_not_laman_data_stellar_indices = []\n",
    "held_out_not_laman_data_stellar = []\n",
    "\n",
    "held_out_laman_tgt = [1] * len(held_out_laman_data)\n",
    "held_out_not_laman_tgt = [0] * len(held_out_not_laman_data)\n",
    "\n",
    "ind = 0\n",
    "for graph in held_out_laman_data:\n",
    "    held_out_laman_data_stellar_indices.append(ind)\n",
    "    ind += 1\n",
    "    held_out_laman_data_stellar.append(network_graph_to_stellar(graph))\n",
    "    \n",
    "ind = 0\n",
    "for graph in held_out_not_laman_data:\n",
    "    held_out_not_laman_data_stellar_indices.append(ind)\n",
    "    ind += 1\n",
    "    held_out_not_laman_data_stellar.append(network_graph_to_stellar(graph))\n",
    "    \n"
   ]
  },
  {
   "cell_type": "code",
   "execution_count": null,
   "metadata": {},
   "outputs": [],
   "source": []
  },
  {
   "cell_type": "code",
   "execution_count": null,
   "metadata": {},
   "outputs": [],
   "source": []
  },
  {
   "cell_type": "markdown",
   "metadata": {},
   "source": [
    "### Test on a Custom Graph\n",
    "\n",
    "Given an input graph, predict the rigidity in 2-dimensions "
   ]
  },
  {
   "cell_type": "code",
   "execution_count": null,
   "metadata": {},
   "outputs": [],
   "source": [
    "# sample of a triangle, nodes: 0, 1, 2; 0->1, 1->2, 0->2\n",
    "\n",
    "source = [0, 0, 1]\n",
    "dest = [1, 2, 2]\n",
    "\n",
    "nodes = {0:2, 1:2, 2:2}\n",
    "nodes_keys = list(nodes.keys())\n",
    "nodes_vals = list(nodes.values())\n",
    "pd_node_data = pd.DataFrame({\"x\": nodes_vals}, index=nodes_keys)\n",
    "\n",
    "pd_edges = pd.DataFrame({\"source\": source, \"target\": dest})\n",
    "sample_graph = StellarGraph(pd_node_data, edges=pd_edges)"
   ]
  },
  {
   "cell_type": "code",
   "execution_count": null,
   "metadata": {},
   "outputs": [],
   "source": [
    "# Evaluate performance on test set\n",
    "single_sample_generator = PaddedGraphGenerator(graphs=[sample_graph])\n",
    "test_gen = generator_for_test_set.flow([0], targets=[1], batch_size=1, symmetric_normalization=False)\n",
    "result = model.evaluate(test_gen)\n",
    "print(result)"
   ]
  },
  {
   "cell_type": "code",
   "execution_count": null,
   "metadata": {},
   "outputs": [],
   "source": [
    "# sample of a square, nodes: 0, 1, 2, 3: 0->1, 1->2, 2->3, 3->0\n",
    "# Questions: are edges encoded as directed edges in this case?\n",
    "\n",
    "source = [0, 1, 2, 3]\n",
    "dest = [1, 2, 3, 0]\n",
    "\n",
    "nodes = {0:2, 1:2, 2:2, 3:2}\n",
    "nodes_keys = list(nodes.keys())\n",
    "nodes_vals = list(nodes.values())\n",
    "pd_node_data = pd.DataFrame({\"x\": nodes_vals}, index=nodes_keys)\n",
    "\n",
    "pd_edges = pd.DataFrame({\"source\": source, \"target\": dest})\n",
    "sample_graph = StellarGraph(pd_node_data, edges=pd_edges)"
   ]
  },
  {
   "cell_type": "code",
   "execution_count": null,
   "metadata": {},
   "outputs": [],
   "source": [
    "# Evaluate performance on test set\n",
    "single_sample_generator = PaddedGraphGenerator(graphs=[sample_graph])\n",
    "test_gen = generator_for_test_set.flow([0], targets=[0], batch_size=1, symmetric_normalization=False)\n",
    "result = model.evaluate(test_gen)\n",
    "print(result)"
   ]
  },
  {
   "cell_type": "code",
   "execution_count": 39,
   "metadata": {},
   "outputs": [],
   "source": [
    "# Get it to go to 100% accuracy on the training data"
   ]
  },
  {
   "cell_type": "code",
   "execution_count": null,
   "metadata": {},
   "outputs": [],
   "source": []
  }
 ],
 "metadata": {
  "kernelspec": {
   "display_name": "Python 3 (ipykernel)",
   "language": "python",
   "name": "python3"
  },
  "language_info": {
   "codemirror_mode": {
    "name": "ipython",
    "version": 3
   },
   "file_extension": ".py",
   "mimetype": "text/x-python",
   "name": "python",
   "nbconvert_exporter": "python",
   "pygments_lexer": "ipython3",
   "version": "3.10.9"
  }
 },
 "nbformat": 4,
 "nbformat_minor": 4
}
