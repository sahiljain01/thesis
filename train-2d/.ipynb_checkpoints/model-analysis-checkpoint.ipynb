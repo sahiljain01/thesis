{
 "cells": [
  {
   "cell_type": "code",
   "execution_count": 2,
   "id": "1ba137c2",
   "metadata": {},
   "outputs": [],
   "source": [
    "import gzip\n",
    "import pickle\n",
    "import networkx as nx\n",
    "import pandas as pd\n",
    "import numpy as np\n",
    "import random\n",
    "import os\n",
    "from pebble import lattice\n",
    "\n",
    "from torch.optim import SGD\n",
    "from torch.optim.lr_scheduler import ReduceLROnPlateau\n",
    "\n",
    "from torch_geometric.data import InMemoryDataset\n",
    "from torch_geometric.loader import DataLoader\n",
    "\n",
    "from torch_geometric.utils import from_networkx, to_networkx\n",
    "\n",
    "from basic_gcn.gcn_k_layers import GCN\n",
    "import torch"
   ]
  },
  {
   "cell_type": "code",
   "execution_count": 6,
   "id": "7d592349",
   "metadata": {},
   "outputs": [],
   "source": [
    "from gin import gin_k_layers\n",
    "from basic_gcn import gcn_k_layers"
   ]
  },
  {
   "cell_type": "code",
   "execution_count": 7,
   "id": "25e5b8df",
   "metadata": {},
   "outputs": [],
   "source": [
    "architecture = \"GIN-2D\"\n",
    "layers = 5\n",
    "lr = 0.001"
   ]
  },
  {
   "cell_type": "code",
   "execution_count": 8,
   "id": "21032e80",
   "metadata": {},
   "outputs": [
    {
     "data": {
      "text/plain": [
       "<All keys matched successfully>"
      ]
     },
     "execution_count": 8,
     "metadata": {},
     "output_type": "execute_result"
    }
   ],
   "source": [
    "hard_coded_mapping = {} # key: layer, value: dim_H\n",
    "hard_coded_mapping[1] = 40\n",
    "hard_coded_mapping[2] = 20\n",
    "hard_coded_mapping[3] = 13\n",
    "hard_coded_mapping[4] = 10\n",
    "hard_coded_mapping[5] = 8\n",
    "hard_coded_mapping[6] = 7\n",
    "\n",
    "model = None\n",
    "if architecture == 'GIN-2D':\n",
    "    model = gin_k_layers.GIN(num_features=4, layers=layers, dim_h = hard_coded_mapping[layers])\n",
    "elif architecture == 'GCN-2D':\n",
    "    model = gcn_k_layers.GCN(num_features=4, layers=layers, dim_h = hard_coded_mapping[layers])\n",
    "\n",
    "model.load_state_dict(torch.load(\"best_model-64-500-0.001-5.pt\"))"
   ]
  },
  {
   "cell_type": "code",
   "execution_count": 9,
   "id": "876e5183",
   "metadata": {},
   "outputs": [],
   "source": [
    "# check on inference "
   ]
  },
  {
   "cell_type": "code",
   "execution_count": 10,
   "id": "5a38fa12",
   "metadata": {},
   "outputs": [
    {
     "data": {
      "text/plain": [
       "GIN(\n",
       "  (conv_layers): ModuleList(\n",
       "    (0): GINConv(nn=Sequential(\n",
       "      (0): Linear(in_features=4, out_features=8, bias=True)\n",
       "      (1): BatchNorm1d(8, eps=1e-05, momentum=0.1, affine=True, track_running_stats=True)\n",
       "      (2): ReLU()\n",
       "      (3): Linear(in_features=8, out_features=8, bias=True)\n",
       "      (4): ReLU()\n",
       "    ))\n",
       "    (1): GINConv(nn=Sequential(\n",
       "      (0): Linear(in_features=8, out_features=8, bias=True)\n",
       "      (1): BatchNorm1d(8, eps=1e-05, momentum=0.1, affine=True, track_running_stats=True)\n",
       "      (2): ReLU()\n",
       "      (3): Linear(in_features=8, out_features=8, bias=True)\n",
       "      (4): ReLU()\n",
       "    ))\n",
       "    (2): GINConv(nn=Sequential(\n",
       "      (0): Linear(in_features=8, out_features=8, bias=True)\n",
       "      (1): BatchNorm1d(8, eps=1e-05, momentum=0.1, affine=True, track_running_stats=True)\n",
       "      (2): ReLU()\n",
       "      (3): Linear(in_features=8, out_features=8, bias=True)\n",
       "      (4): ReLU()\n",
       "    ))\n",
       "    (3): GINConv(nn=Sequential(\n",
       "      (0): Linear(in_features=8, out_features=8, bias=True)\n",
       "      (1): BatchNorm1d(8, eps=1e-05, momentum=0.1, affine=True, track_running_stats=True)\n",
       "      (2): ReLU()\n",
       "      (3): Linear(in_features=8, out_features=8, bias=True)\n",
       "      (4): ReLU()\n",
       "    ))\n",
       "    (4): GINConv(nn=Sequential(\n",
       "      (0): Linear(in_features=8, out_features=8, bias=True)\n",
       "      (1): BatchNorm1d(8, eps=1e-05, momentum=0.1, affine=True, track_running_stats=True)\n",
       "      (2): ReLU()\n",
       "      (3): Linear(in_features=8, out_features=8, bias=True)\n",
       "      (4): ReLU()\n",
       "    ))\n",
       "  )\n",
       "  (lin1): Linear(in_features=120, out_features=120, bias=True)\n",
       "  (lin2): Linear(in_features=120, out_features=1, bias=True)\n",
       ")"
      ]
     },
     "execution_count": 10,
     "metadata": {},
     "output_type": "execute_result"
    }
   ],
   "source": [
    "model.eval()"
   ]
  },
  {
   "cell_type": "code",
   "execution_count": 11,
   "id": "1d224f6b",
   "metadata": {},
   "outputs": [],
   "source": [
    "from train import load_data"
   ]
  },
  {
   "cell_type": "code",
   "execution_count": 12,
   "id": "df07de54",
   "metadata": {},
   "outputs": [],
   "source": [
    "train_loader, test_loader = load_data(\"data/lim1-4-output.pkl.gz\")"
   ]
  },
  {
   "cell_type": "code",
   "execution_count": 13,
   "id": "1874dc98",
   "metadata": {},
   "outputs": [],
   "source": [
    "# iterate through the train loader "
   ]
  },
  {
   "cell_type": "code",
   "execution_count": 14,
   "id": "90f5b61b",
   "metadata": {},
   "outputs": [],
   "source": [
    "# pick a minimally rigid graph"
   ]
  },
  {
   "cell_type": "code",
   "execution_count": 16,
   "id": "45d2ac88",
   "metadata": {},
   "outputs": [],
   "source": [
    "num_correct = 0\n",
    "num_samples = 0\n",
    "\n",
    "# pick a random graph that is flexible and predicted correctly\n",
    "flexible_graphs = []\n",
    "\n",
    "with torch.no_grad():\n",
    "    for batch in test_loader:\n",
    "        pred, embedding, _ = model(batch.x, batch.edge_index, batch.batch)\n",
    "        pred = torch.squeeze(pred)\n",
    "        y = batch.label\n",
    "        predictions = (pred > 0.5).long() \n",
    "        num_correct += (predictions == y).sum() \n",
    "        num_samples += predictions.size(0)"
   ]
  },
  {
   "cell_type": "code",
   "execution_count": 17,
   "id": "bf754082",
   "metadata": {},
   "outputs": [
    {
     "name": "stdout",
     "output_type": "stream",
     "text": [
      "tensor(10527)\n"
     ]
    }
   ],
   "source": [
    "print(num_correct)"
   ]
  },
  {
   "cell_type": "code",
   "execution_count": 18,
   "id": "d3fd8b71",
   "metadata": {},
   "outputs": [
    {
     "name": "stdout",
     "output_type": "stream",
     "text": [
      "10568\n"
     ]
    }
   ],
   "source": [
    "print(num_samples)"
   ]
  },
  {
   "cell_type": "code",
   "execution_count": 19,
   "id": "97546aeb",
   "metadata": {},
   "outputs": [
    {
     "name": "stdout",
     "output_type": "stream",
     "text": [
      "0.9961203633610901\n"
     ]
    }
   ],
   "source": [
    "print(10527/10568)"
   ]
  },
  {
   "cell_type": "code",
   "execution_count": 20,
   "id": "54a039fb",
   "metadata": {},
   "outputs": [],
   "source": [
    "# generate a random minimally rigid graph\n",
    "from utils import clustering_coefficient, generate_feature_vector"
   ]
  },
  {
   "cell_type": "code",
   "execution_count": 41,
   "id": "e8728de4",
   "metadata": {},
   "outputs": [],
   "source": [
    "# triangle\n",
    "import networkx as nx\n",
    "triangle = nx.Graph()\n",
    "triangle.add_edge(0, 1)\n",
    "triangle.add_edge(0, 2)\n",
    "triangle.add_edge(1, 2)"
   ]
  },
  {
   "cell_type": "code",
   "execution_count": 42,
   "id": "882a3db3",
   "metadata": {},
   "outputs": [],
   "source": [
    "# square\n",
    "import networkx as nx\n",
    "three_rods = nx.Graph()\n",
    "three_rods.add_edge(0, 1)\n",
    "three_rods.add_edge(1, 3)\n",
    "three_rods.add_edge(0, 2)\n"
   ]
  },
  {
   "cell_type": "code",
   "execution_count": 43,
   "id": "7163647a",
   "metadata": {},
   "outputs": [],
   "source": [
    "# square\n",
    "import networkx as nx\n",
    "square = nx.Graph()\n",
    "square.add_edge(0, 1)\n",
    "square.add_edge(1, 3)\n",
    "square.add_edge(0, 2)\n",
    "square.add_edge(2, 3)"
   ]
  },
  {
   "cell_type": "code",
   "execution_count": 44,
   "id": "801ad9a2",
   "metadata": {},
   "outputs": [],
   "source": [
    "# square with cross bar (rigid)\n",
    "import networkx as nx\n",
    "square_bar = nx.Graph()\n",
    "square_bar.add_edge(0, 1)\n",
    "square_bar.add_edge(1, 3)\n",
    "square_bar.add_edge(0, 2)\n",
    "square_bar.add_edge(2, 3)\n",
    "square_bar.add_edge(0, 3)"
   ]
  },
  {
   "cell_type": "code",
   "execution_count": 45,
   "id": "cf965901",
   "metadata": {},
   "outputs": [],
   "source": [
    "# pentagon\n",
    "import networkx as nx\n",
    "pentagon = nx.Graph()\n",
    "pentagon.add_edge(0, 1)\n",
    "pentagon.add_edge(1, 3)\n",
    "pentagon.add_edge(3, 4)\n",
    "pentagon.add_edge(4, 2)\n",
    "pentagon.add_edge(2, 0)"
   ]
  },
  {
   "cell_type": "code",
   "execution_count": 48,
   "id": "d6e7abab",
   "metadata": {},
   "outputs": [
    {
     "name": "stdout",
     "output_type": "stream",
     "text": [
      "tensor([[1.]])\n",
      "15\n",
      "tensor([[5.8625, 7.3087, 0.0000, 0.0000, 0.0000, 0.0000, 0.0000, 0.0000]])\n"
     ]
    }
   ],
   "source": [
    "graph_as_data = from_networkx(three_rods)\n",
    "graph_as_data.x = generate_feature_vector(three_rods)\n",
    "validation_set = DataLoader([graph_as_data], batch_size = 1, shuffle=True)\n",
    "for batch in validation_set:\n",
    "    model.eval()\n",
    "    with torch.no_grad():\n",
    "        pred = model(batch.x[:, [0, 1, 2, 3]], batch.edge_index, batch.batch)\n",
    "        print(pred[0])\n",
    "        print(len(pred[2]))\n",
    "        print(pred[2][0])\n",
    "    "
   ]
  },
  {
   "cell_type": "code",
   "execution_count": 49,
   "id": "0f7ee19d",
   "metadata": {},
   "outputs": [
    {
     "name": "stdout",
     "output_type": "stream",
     "text": [
      "tensor([[1.]])\n",
      "15\n",
      "tensor([[4.4366, 6.0889, 0.0000, 0.0000, 0.0000, 0.0000, 0.0000, 0.0000]])\n"
     ]
    }
   ],
   "source": [
    "graph_as_data = from_networkx(square)\n",
    "graph_as_data.x = generate_feature_vector(square)\n",
    "validation_set = DataLoader([graph_as_data], batch_size = 1, shuffle=True)\n",
    "for batch in validation_set:\n",
    "    model.eval()\n",
    "    with torch.no_grad():\n",
    "        pred = model(batch.x[:, [0, 1, 2, 3]], batch.edge_index, batch.batch)\n",
    "        print(pred[0])\n",
    "        print(len(pred[2]))\n",
    "        print(pred[2][0])\n",
    "    "
   ]
  },
  {
   "cell_type": "code",
   "execution_count": 50,
   "id": "22971d5f",
   "metadata": {},
   "outputs": [
    {
     "name": "stdout",
     "output_type": "stream",
     "text": [
      "tensor([[1.]])\n",
      "15\n",
      "tensor([[1.7106, 3.5901, 0.0000, 0.0000, 1.0286, 0.0000, 0.0000, 0.0000]])\n"
     ]
    }
   ],
   "source": [
    "graph_as_data = from_networkx(square_bar)\n",
    "graph_as_data.x = generate_feature_vector(square_bar)\n",
    "validation_set = DataLoader([graph_as_data], batch_size = 1, shuffle=True)\n",
    "for batch in validation_set:\n",
    "    model.eval()\n",
    "    with torch.no_grad():\n",
    "        pred = model(batch.x[:, [0, 1, 2, 3]], batch.edge_index, batch.batch)\n",
    "        print(pred[0])\n",
    "        print(len(pred[2]))\n",
    "        print(pred[2][0])\n",
    "    "
   ]
  },
  {
   "cell_type": "code",
   "execution_count": 61,
   "id": "cdb0f28c",
   "metadata": {},
   "outputs": [
    {
     "name": "stdout",
     "output_type": "stream",
     "text": [
      "failed\n"
     ]
    }
   ],
   "source": [
    "rigid_graphs = []\n",
    "flexible_graphs = []\n",
    "for batch in test_loader:\n",
    "    try:\n",
    "        g = to_networkx(batch[10], to_undirected=True)\n",
    "        if batch[10].label == 1:\n",
    "            flexible_graphs.append(g)\n",
    "        else:\n",
    "            rigid_graphs.append(g)\n",
    "    except:\n",
    "        print(\"failed\")"
   ]
  },
  {
   "cell_type": "code",
   "execution_count": 78,
   "id": "522f55ed",
   "metadata": {},
   "outputs": [],
   "source": [
    "complete_graph = nx.complete_graph(20)"
   ]
  },
  {
   "cell_type": "code",
   "execution_count": 87,
   "id": "c338a2bc",
   "metadata": {},
   "outputs": [
    {
     "name": "stdout",
     "output_type": "stream",
     "text": [
      "tensor([[1.]])\n",
      "tensor([[219.7715]])\n",
      "15\n",
      "tensor([[0.0000, 0.4188, 0.0000, 0.0000, 0.0000, 1.0485, 0.0000, 1.3478]])\n"
     ]
    }
   ],
   "source": [
    "graph_as_data = from_networkx(triangle)\n",
    "graph_as_data.x = generate_feature_vector(triangle)\n",
    "validation_set = DataLoader([graph_as_data], batch_size = 1, shuffle=True)\n",
    "for batch in validation_set:\n",
    "    model.eval()\n",
    "    with torch.no_grad():\n",
    "        pred = model(batch.x[:, [0, 1, 2, 3]], batch.edge_index, batch.batch)\n",
    "        print(pred[0])\n",
    "        print(pred[1])\n",
    "        print(len(pred[2]))\n",
    "        print(pred[2][12])\n",
    "    "
   ]
  },
  {
   "cell_type": "code",
   "execution_count": 62,
   "id": "d8a92b40",
   "metadata": {},
   "outputs": [
    {
     "name": "stdout",
     "output_type": "stream",
     "text": [
      "77\n"
     ]
    }
   ],
   "source": [
    "print(len(rigid_graphs))"
   ]
  },
  {
   "cell_type": "code",
   "execution_count": 86,
   "id": "93ac9334",
   "metadata": {},
   "outputs": [
    {
     "name": "stdout",
     "output_type": "stream",
     "text": [
      "tensor([[3.3783e-06]])\n",
      "tensor([[-12.5981]])\n",
      "15\n",
      "tensor([[ 0.0000,  2.1452,  0.0000, 29.6577,  0.0000, 21.7806,  5.7738, 12.3867]])\n"
     ]
    }
   ],
   "source": [
    "graph_as_data = from_networkx(rigid_graphs[0])\n",
    "graph_as_data.x = generate_feature_vector(rigid_graphs[0])\n",
    "validation_set = DataLoader([graph_as_data], batch_size = 1, shuffle=True)\n",
    "for batch in validation_set:\n",
    "    model.eval()\n",
    "    with torch.no_grad():\n",
    "        pred = model(batch.x[:, [0, 1, 2, 3]], batch.edge_index, batch.batch)\n",
    "        print(pred[0])\n",
    "        print(pred[1])\n",
    "        print(len(pred[2]))\n",
    "        print(pred[2][12])\n",
    "    "
   ]
  },
  {
   "cell_type": "code",
   "execution_count": 85,
   "id": "6f60f53b",
   "metadata": {},
   "outputs": [
    {
     "name": "stdout",
     "output_type": "stream",
     "text": [
      "tensor([[0.0002]])\n",
      "tensor([[-8.4433]])\n",
      "15\n",
      "tensor([[ 0.0000,  3.6340,  3.4012,  8.6312, 14.4363, 21.8264, 11.7316,  3.6534]])\n"
     ]
    }
   ],
   "source": [
    "graph_as_data = from_networkx(rigid_graphs[1])\n",
    "graph_as_data.x = generate_feature_vector(rigid_graphs[1])\n",
    "validation_set = DataLoader([graph_as_data], batch_size = 1, shuffle=True)\n",
    "for batch in validation_set:\n",
    "    model.eval()\n",
    "    with torch.no_grad():\n",
    "        pred = model(batch.x[:, [0, 1, 2, 3]], batch.edge_index, batch.batch)\n",
    "        print(pred[0])\n",
    "        print(pred[1])\n",
    "        print(len(pred[2]))\n",
    "        print(pred[2][12])\n",
    "    "
   ]
  },
  {
   "cell_type": "code",
   "execution_count": 84,
   "id": "eb5009f9",
   "metadata": {},
   "outputs": [
    {
     "name": "stdout",
     "output_type": "stream",
     "text": [
      "tensor([[0.0022]])\n",
      "tensor([[-6.1005]])\n",
      "15\n",
      "tensor([[ 0.0000,  3.1883,  9.5962,  6.7890, 16.1807, 16.9393, 11.5642,  4.0545]])\n"
     ]
    }
   ],
   "source": [
    "graph_as_data = from_networkx(rigid_graphs[2])\n",
    "graph_as_data.x = generate_feature_vector(rigid_graphs[2])\n",
    "validation_set = DataLoader([graph_as_data], batch_size = 1, shuffle=True)\n",
    "for batch in validation_set:\n",
    "    model.eval()\n",
    "    with torch.no_grad():\n",
    "        pred = model(batch.x[:, [0, 1, 2, 3]], batch.edge_index, batch.batch)\n",
    "        print(pred[0])\n",
    "        print(pred[1])\n",
    "        print(len(pred[2]))\n",
    "        print(pred[2][12])\n",
    "    "
   ]
  },
  {
   "cell_type": "code",
   "execution_count": 83,
   "id": "aa96ab68",
   "metadata": {},
   "outputs": [
    {
     "name": "stdout",
     "output_type": "stream",
     "text": [
      "tensor([[1.]])\n",
      "tensor([[17.2845]])\n",
      "15\n",
      "tensor([[ 0.0000,  2.7681,  4.0482,  7.2007, 10.0705, 24.9738,  4.9216,  2.7519]])\n"
     ]
    }
   ],
   "source": [
    "graph_as_data = from_networkx(flexible_graphs[0])\n",
    "graph_as_data.x = generate_feature_vector(flexible_graphs[0])\n",
    "validation_set = DataLoader([graph_as_data], batch_size = 1, shuffle=True)\n",
    "for batch in validation_set:\n",
    "    model.eval()\n",
    "    with torch.no_grad():\n",
    "        pred = model(batch.x[:, [0, 1, 2, 3]], batch.edge_index, batch.batch)\n",
    "        print(pred[0])\n",
    "        print(pred[1])\n",
    "        print(len(pred[2]))\n",
    "        print(pred[2][12])\n",
    "    "
   ]
  },
  {
   "cell_type": "code",
   "execution_count": 82,
   "id": "21b0b130",
   "metadata": {},
   "outputs": [
    {
     "name": "stdout",
     "output_type": "stream",
     "text": [
      "tensor([[1.]])\n",
      "tensor([[103.5234]])\n",
      "15\n",
      "tensor([[ 0.0000,  0.9370, 26.5224,  3.9067, 29.1302, 29.0722,  2.1948,  2.2303]])\n"
     ]
    }
   ],
   "source": [
    "graph_as_data = from_networkx(flexible_graphs[1])\n",
    "graph_as_data.x = generate_feature_vector(flexible_graphs[1])\n",
    "validation_set = DataLoader([graph_as_data], batch_size = 1, shuffle=True)\n",
    "for batch in validation_set:\n",
    "    model.eval()\n",
    "    with torch.no_grad():\n",
    "        pred = model(batch.x[:, [0, 1, 2, 3]], batch.edge_index, batch.batch)\n",
    "        print(pred[0])\n",
    "        print(pred[1])\n",
    "        print(len(pred[2]))\n",
    "        print(pred[2][12])\n",
    "    "
   ]
  },
  {
   "cell_type": "code",
   "execution_count": 81,
   "id": "4b90a997",
   "metadata": {},
   "outputs": [
    {
     "name": "stdout",
     "output_type": "stream",
     "text": [
      "tensor([[1.]])\n",
      "tensor([[53.1056]])\n",
      "15\n",
      "tensor([[ 0.0000,  2.2218,  0.8823, 12.0530, 15.5891, 25.4943,  8.1392,  2.9712]])\n"
     ]
    }
   ],
   "source": [
    "graph_as_data = from_networkx(flexible_graphs[2])\n",
    "graph_as_data.x = generate_feature_vector(flexible_graphs[2])\n",
    "validation_set = DataLoader([graph_as_data], batch_size = 1, shuffle=True)\n",
    "for batch in validation_set:\n",
    "    model.eval()\n",
    "    with torch.no_grad():\n",
    "        pred = model(batch.x[:, [0, 1, 2, 3]], batch.edge_index, batch.batch)\n",
    "        print(pred[0])\n",
    "        print(pred[1])\n",
    "        print(len(pred[2]))\n",
    "        print(pred[2][12])\n",
    "    "
   ]
  },
  {
   "cell_type": "code",
   "execution_count": 90,
   "id": "b020ffd1",
   "metadata": {},
   "outputs": [
    {
     "name": "stdout",
     "output_type": "stream",
     "text": [
      "tensor([[ 1., 19.,  1.,  0.],\n",
      "        [ 1., 19.,  1.,  1.],\n",
      "        [ 1., 19.,  1.,  2.],\n",
      "        [ 1., 19.,  1.,  3.],\n",
      "        [ 1., 19.,  1.,  4.],\n",
      "        [ 1., 19.,  1.,  5.],\n",
      "        [ 1., 19.,  1.,  6.],\n",
      "        [ 1., 19.,  1.,  7.],\n",
      "        [ 1., 19.,  1.,  8.],\n",
      "        [ 1., 19.,  1.,  9.],\n",
      "        [ 1., 19.,  1., 10.],\n",
      "        [ 1., 19.,  1., 11.],\n",
      "        [ 1., 19.,  1., 12.],\n",
      "        [ 1., 19.,  1., 13.],\n",
      "        [ 1., 19.,  1., 14.],\n",
      "        [ 1., 19.,  1., 15.],\n",
      "        [ 1., 19.,  1., 16.],\n",
      "        [ 1., 19.,  1., 17.],\n",
      "        [ 1., 19.,  1., 18.],\n",
      "        [ 1., 19.,  1., 19.]])\n",
      "tensor([[1.]])\n",
      "tensor([[16630.7051]])\n",
      "15\n",
      "tensor([[   0.0000,    0.0000, 3834.3445,    0.0000, 4155.9131, 3582.5239,\n",
      "            0.0000,    0.0000]])\n"
     ]
    }
   ],
   "source": [
    "graph_as_data = from_networkx(complete_graph)\n",
    "graph_as_data.x = generate_feature_vector(complete_graph)\n",
    "print(graph_as_data.x)\n",
    "validation_set = DataLoader([graph_as_data], batch_size = 1, shuffle=True)\n",
    "for batch in validation_set:\n",
    "    model.eval()\n",
    "    with torch.no_grad():\n",
    "        pred = model(batch.x[:, [0, 1, 2, 3]], batch.edge_index, batch.batch)\n",
    "        print(pred[0o\n",
    "        print(pred[1])\n",
    "        print(len(pred[2]))\n",
    "        print(pred[2][12])"
   ]
  },
  {
   "cell_type": "code",
   "execution_count": 88,
   "id": "157684b3",
   "metadata": {},
   "outputs": [],
   "source": [
    "import networkx as nx\n",
    "import random\n",
    "\n",
    "# Create a graph with 20 nodes and 40 edges\n",
    "G = nx.Graph()\n",
    "num_nodes = 20\n",
    "num_edges = 40\n",
    "for i in range(num_nodes):\n",
    "    G.add_node(i)\n",
    "for i in range(num_edges):\n",
    "    u = random.randint(0, num_nodes - 1)\n",
    "    v = random.randint(0, num_nodes - 1)\n",
    "    if u != v and not G.has_edge(u, v):\n",
    "        G.add_edge(u, v)\n",
    "\n",
    "# Find the minimum spanning tree\n",
    "T = nx.minimum_spanning_tree(G)\n"
   ]
  },
  {
   "cell_type": "code",
   "execution_count": 91,
   "id": "e46d2df2",
   "metadata": {},
   "outputs": [
    {
     "name": "stdout",
     "output_type": "stream",
     "text": [
      "tensor([[ 1.,  3.,  0.,  0.],\n",
      "        [ 1.,  7.,  0.,  1.],\n",
      "        [ 1.,  5.,  0.,  2.],\n",
      "        [ 1.,  3.,  0.,  3.],\n",
      "        [ 1.,  2.,  0.,  4.],\n",
      "        [ 1.,  2.,  0.,  5.],\n",
      "        [ 1.,  1.,  0.,  6.],\n",
      "        [ 1.,  1.,  0.,  7.],\n",
      "        [ 1.,  1.,  0.,  8.],\n",
      "        [ 1.,  1.,  0.,  9.],\n",
      "        [ 1.,  1.,  0., 10.],\n",
      "        [ 1.,  0.,  0., 11.],\n",
      "        [ 1.,  1.,  0., 12.],\n",
      "        [ 1.,  1.,  0., 13.],\n",
      "        [ 1.,  1.,  0., 14.],\n",
      "        [ 1.,  2.,  0., 15.],\n",
      "        [ 1.,  1.,  0., 16.],\n",
      "        [ 1.,  1.,  0., 17.],\n",
      "        [ 1.,  1.,  0., 18.],\n",
      "        [ 1.,  1.,  0., 19.]])\n",
      "tensor([[1.]])\n",
      "tensor([[938.0854]])\n",
      "15\n",
      "tensor([[ 0.0000,  2.9987,  0.0000,  4.3917,  0.0000,  1.6821, 14.1657,  3.3814]])\n"
     ]
    }
   ],
   "source": [
    "graph_as_data = from_networkx(T)\n",
    "graph_as_data.x = generate_feature_vector(T)\n",
    "print(graph_as_data.x)\n",
    "validation_set = DataLoader([graph_as_data], batch_size = 1, shuffle=True)\n",
    "for batch in validation_set:\n",
    "    model.eval()\n",
    "    with torch.no_grad():\n",
    "        pred = model(batch.x[:, [0, 1, 2, 3]], batch.edge_index, batch.batch)\n",
    "        print(pred[0])\n",
    "        print(pred[1])\n",
    "        print(len(pred[2]))\n",
    "        print(pred[2][12])"
   ]
  },
  {
   "cell_type": "code",
   "execution_count": null,
   "id": "7b9ff2cc",
   "metadata": {},
   "outputs": [],
   "source": []
  },
  {
   "cell_type": "code",
   "execution_count": null,
   "id": "21e32f2d",
   "metadata": {},
   "outputs": [],
   "source": []
  },
  {
   "cell_type": "code",
   "execution_count": null,
   "id": "c87c00ee",
   "metadata": {},
   "outputs": [],
   "source": []
  },
  {
   "cell_type": "code",
   "execution_count": null,
   "id": "c716a599",
   "metadata": {},
   "outputs": [],
   "source": []
  },
  {
   "cell_type": "code",
   "execution_count": 92,
   "id": "6dba3bf0",
   "metadata": {},
   "outputs": [],
   "source": [
    "def edge_swap(G):\n",
    "    # Get the list of edges in the graph G\n",
    "    edges = list(G.edges())\n",
    "\n",
    "    # Choose two non-adjacent edges at random\n",
    "    while True:\n",
    "        e1, e2 = random.sample(edges, 2)\n",
    "        if not G.has_edge(e1[0], e2[0]) and not G.has_edge(e1[1], e2[1]):\n",
    "            break\n",
    "\n",
    "    # Swap the edges\n",
    "    G.remove_edges_from([e1, e2])\n",
    "    G.add_edges_from([(e1[0], e2[0]), (e1[1], e2[1])])\n",
    "    \n",
    "    # Return the modified graph\n",
    "    return G"
   ]
  },
  {
   "cell_type": "code",
   "execution_count": 112,
   "id": "f832c6f4",
   "metadata": {},
   "outputs": [],
   "source": [
    "g = nx.erdos_renyi_graph(20, 0.5)"
   ]
  },
  {
   "cell_type": "code",
   "execution_count": 113,
   "id": "6f9815f3",
   "metadata": {},
   "outputs": [
    {
     "data": {
      "text/plain": [
       "<networkx.classes.graph.Graph at 0x7f872c27dff0>"
      ]
     },
     "execution_count": 113,
     "metadata": {},
     "output_type": "execute_result"
    }
   ],
   "source": [
    "edge_swap(g)"
   ]
  },
  {
   "cell_type": "code",
   "execution_count": 141,
   "id": "67acd95a",
   "metadata": {},
   "outputs": [],
   "source": [
    "def edge_replace(G):\n",
    "    # Get the list of edges in the graph G with both endpoints having degree > 2\n",
    "    edges_deg_gt_2 = [edge for edge in G.edges() if G.degree(edge[0]) > 2 and G.degree(edge[1]) > 2]\n",
    "    \n",
    "    if not edges_deg_gt_2:\n",
    "        # There are no edges in G that satisfy the criteria\n",
    "        return G\n",
    "\n",
    "    # Choose an edge at random from the list\n",
    "    edge = random.choice(edges_deg_gt_2)\n",
    "\n",
    "    # Get the degrees of the endpoints of the edge\n",
    "    deg_a, deg_b = G.degree(edge[0]), G.degree(edge[1])\n",
    "\n",
    "    # Get the list of nodes in the graph G with degree = deg_a-1 or deg_b-1\n",
    "    nodes_deg_1 = [node for node in G.nodes() if G.degree(node) == deg_a-1]\n",
    "    nodes_deg_2 = [node for node in G.nodes() if G.degree(node) == deg_b-1]\n",
    "\n",
    "    # Choose two nodes at random from the list\n",
    "    if len(nodes_deg_1) < 1 or len(nodes_deg_2) < 1:\n",
    "        return G\n",
    "    \n",
    "    node_a_1, node_b_1 = random.sample(nodes_deg_1, k=1), random.sample(nodes_deg_2, k=1)\n",
    "\n",
    "    # Add the edge between the nodes with degrees a-1 and b-1\n",
    "    if node_a_1 == node_b_1:\n",
    "        return G \n",
    "    \n",
    "#     print(\"added edge: \", node_a_1, \" \", node_b_1)\n",
    "    G.add_edge(node_a_1[0], node_b_1[0])\n",
    "\n",
    "    # Remove the edge between the nodes with degrees a and b\n",
    "#     print(\"remove edge: \", edge[0], \" \", edge[1])\n",
    "    G.remove_edge(edge[0], edge[1])\n",
    "\n",
    "    # Return the modified graph\n",
    "    return G\n"
   ]
  },
  {
   "cell_type": "code",
   "execution_count": 142,
   "id": "82be05e2",
   "metadata": {},
   "outputs": [
    {
     "name": "stdout",
     "output_type": "stream",
     "text": [
      "added edge:  [18]   [13]\n",
      "remove edge:  4   16\n"
     ]
    },
    {
     "data": {
      "text/plain": [
       "<networkx.classes.graph.Graph at 0x7f872c27dff0>"
      ]
     },
     "execution_count": 142,
     "metadata": {},
     "output_type": "execute_result"
    }
   ],
   "source": [
    "edge_replace(g)"
   ]
  },
  {
   "cell_type": "code",
   "execution_count": null,
   "id": "db28506d",
   "metadata": {},
   "outputs": [],
   "source": []
  }
 ],
 "metadata": {
  "kernelspec": {
   "display_name": "Python 3 (ipykernel)",
   "language": "python",
   "name": "python3"
  },
  "language_info": {
   "codemirror_mode": {
    "name": "ipython",
    "version": 3
   },
   "file_extension": ".py",
   "mimetype": "text/x-python",
   "name": "python",
   "nbconvert_exporter": "python",
   "pygments_lexer": "ipython3",
   "version": "3.10.9"
  }
 },
 "nbformat": 4,
 "nbformat_minor": 5
}
