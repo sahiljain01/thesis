{
 "cells": [
  {
   "cell_type": "code",
   "execution_count": 2,
   "metadata": {},
   "outputs": [],
   "source": [
    "import gzip\n",
    "import pickle\n",
    "import networkx as nx\n",
    "import pandas as pd\n",
    "import numpy as np\n",
    "import random\n",
    "import os"
   ]
  },
  {
   "cell_type": "code",
   "execution_count": 3,
   "metadata": {},
   "outputs": [
    {
     "name": "stderr",
     "output_type": "stream",
     "text": [
      "/opt/anaconda3/envs/thesis/lib/python3.10/site-packages/tqdm/auto.py:22: TqdmWarning: IProgress not found. Please update jupyter and ipywidgets. See https://ipywidgets.readthedocs.io/en/stable/user_install.html\n",
      "  from .autonotebook import tqdm as notebook_tqdm\n"
     ]
    }
   ],
   "source": [
    "from torch.optim import SGD\n",
    "from torch.optim.lr_scheduler import ReduceLROnPlateau"
   ]
  },
  {
   "cell_type": "markdown",
   "metadata": {},
   "source": [
    "## Data Loading"
   ]
  },
  {
   "cell_type": "markdown",
   "metadata": {},
   "source": [
    "### Writing PyG Dataset"
   ]
  },
  {
   "cell_type": "code",
   "execution_count": 4,
   "metadata": {},
   "outputs": [],
   "source": [
    "import torch"
   ]
  },
  {
   "cell_type": "code",
   "execution_count": 5,
   "metadata": {},
   "outputs": [],
   "source": [
    "from torch_geometric.data import InMemoryDataset\n",
    "from torch.utils.data import DataLoader"
   ]
  },
  {
   "cell_type": "code",
   "execution_count": 6,
   "metadata": {},
   "outputs": [],
   "source": [
    "from torch_geometric.utils import from_networkx, to_networkx"
   ]
  },
  {
   "cell_type": "code",
   "execution_count": 7,
   "metadata": {},
   "outputs": [],
   "source": [
    "def clustering_coefficient(G, node):\n",
    "    ns = [n for n in G.neighbors(node)]\n",
    "    if len(ns) <= 1:\n",
    "        return 0\n",
    "    \n",
    "    numerator = 0\n",
    "    denominator = len(ns) * (len(ns) - 1) / 2\n",
    "    for i in range(0, len(ns)):\n",
    "        for j in range(i+1, len(ns)):\n",
    "            n1, n2 = ns[i], ns[j]\n",
    "            numerator += G.has_edge(n1, n2)\n",
    "    \n",
    "    return numerator / denominator\n",
    "                "
   ]
  },
  {
   "cell_type": "code",
   "execution_count": 8,
   "metadata": {},
   "outputs": [],
   "source": [
    "def generate_feature_vector(G):\n",
    "    x = torch.randn(G.number_of_nodes(), 4)\n",
    "    ind = 0\n",
    "    for node in G.nodes():\n",
    "        x[ind][0] = 1 # uniform\n",
    "        x[ind][1] = G.degree[node] # node degree as a scalar \n",
    "        x[ind][2] = clustering_coefficient(G, node) # triangle counting?\n",
    "        x[ind][3] = ind # node ID features\n",
    "        ind += 1\n",
    "    return x"
   ]
  },
  {
   "cell_type": "code",
   "execution_count": 9,
   "metadata": {},
   "outputs": [],
   "source": [
    "class LamanDataset(InMemoryDataset):\n",
    "    def __init__(self, root, data_dir, transform=None, pre_transform=None, pre_filter=None):\n",
    "        self.data_dir = data_dir\n",
    "        super().__init__(root, transform, pre_transform, pre_filter)\n",
    "        self.data, self.slices = torch.load(self.processed_paths[0])\n",
    "        \n",
    "    @property\n",
    "    def processed_file_names(self):\n",
    "        return ['data.pt']\n",
    "        \n",
    "    def process(self):\n",
    "        total_laman_data = None\n",
    "        with gzip.open(self.data_dir, 'r') as f:\n",
    "            total_laman_data = pickle.load(f)\n",
    "            \n",
    "        data_list = []\n",
    "        for ind, graph in enumerate(total_laman_dalta[0]):\n",
    "            x = generate_feature_vector(graph)\n",
    "            graph_as_data = from_networkx(graph)\n",
    "            graph_as_data.x = x\n",
    "            graph_as_data.label = 0\n",
    "            data_list.append(graph_as_data)\n",
    "            \n",
    "        for ind, graph in enumerate(total_laman_data[1]):\n",
    "            x = generate_feature_vector(graph)\n",
    "            graph_as_data = from_networkx(graph)\n",
    "            graph_as_data.x = x\n",
    "            graph_as_data.label = 1\n",
    "            data_list.append(graph_as_data)\n",
    "            \n",
    "        data, slices = self.collate(data_list)\n",
    "        torch.save((data, slices), self.processed_paths[0])"
   ]
  },
  {
   "cell_type": "code",
   "execution_count": null,
   "metadata": {},
   "outputs": [],
   "source": []
  },
  {
   "cell_type": "code",
   "execution_count": 10,
   "metadata": {},
   "outputs": [],
   "source": [
    "DATA_PATH = \"data/lim1-4-output.pkl.gz\""
   ]
  },
  {
   "cell_type": "code",
   "execution_count": 11,
   "metadata": {},
   "outputs": [],
   "source": [
    "import torch_geometric.transforms as T\n",
    "laman_data = LamanDataset(\"\", DATA_PATH)"
   ]
  },
  {
   "cell_type": "code",
   "execution_count": 40,
   "metadata": {},
   "outputs": [
    {
     "data": {
      "text/plain": [
       "Data(edge_index=[2, 74], x=[20, 4], label=[1], num_nodes=20)"
      ]
     },
     "execution_count": 40,
     "metadata": {},
     "output_type": "execute_result"
    }
   ],
   "source": [
    "laman_data[0]"
   ]
  },
  {
   "cell_type": "markdown",
   "metadata": {},
   "source": [
    "## Split into Train / Test"
   ]
  },
  {
   "cell_type": "code",
   "execution_count": 13,
   "metadata": {},
   "outputs": [],
   "source": [
    "from torch.utils.data import random_split\n",
    "\n",
    "proportions = [.7, .3]\n",
    "lengths = [int(p * len(laman_data)) for p in proportions]\n",
    "lengths[-1] = len(laman_data) - sum(lengths[:-1])\n",
    "\n",
    "generator1 = torch.Generator().manual_seed(42)\n",
    "train_data, test_data = random_split(laman_data, lengths, generator=generator1)"
   ]
  },
  {
   "cell_type": "code",
   "execution_count": 14,
   "metadata": {},
   "outputs": [
    {
     "name": "stdout",
     "output_type": "stream",
     "text": [
      "<class 'torch.utils.data.dataset.Subset'>\n"
     ]
    }
   ],
   "source": [
    "print(type(train_data))"
   ]
  },
  {
   "cell_type": "code",
   "execution_count": 15,
   "metadata": {},
   "outputs": [],
   "source": [
    "from torch_geometric.loader import DataLoader\n",
    "train_loader = DataLoader(train_data, batch_size = 64, shuffle=True)\n",
    "test_loader = DataLoader(test_data, batch_size = 64, shuffle=True)"
   ]
  },
  {
   "cell_type": "code",
   "execution_count": 16,
   "metadata": {},
   "outputs": [
    {
     "name": "stdout",
     "output_type": "stream",
     "text": [
      "Number of train batches:  386\n",
      "Number of test batches:  166\n"
     ]
    }
   ],
   "source": [
    "print(\"Number of train batches: \", len(train_loader))\n",
    "print(\"Number of test batches: \", len(test_loader))"
   ]
  },
  {
   "cell_type": "code",
   "execution_count": 17,
   "metadata": {},
   "outputs": [
    {
     "name": "stdout",
     "output_type": "stream",
     "text": [
      "DataBatch(edge_index=[2, 4736], x=[1280, 4], label=[64], num_nodes=1280, batch=[1280], ptr=[65])\n"
     ]
    }
   ],
   "source": [
    "for data in train_loader:\n",
    "    print(data)\n",
    "    break"
   ]
  },
  {
   "cell_type": "code",
   "execution_count": null,
   "metadata": {},
   "outputs": [],
   "source": [
    " "
   ]
  },
  {
   "cell_type": "markdown",
   "metadata": {},
   "source": [
    "## Model Architecture & Training"
   ]
  },
  {
   "cell_type": "code",
   "execution_count": 18,
   "metadata": {},
   "outputs": [],
   "source": [
    "from gin.gin_k_layers import GIN"
   ]
  },
  {
   "cell_type": "code",
   "execution_count": 38,
   "metadata": {
    "scrolled": true
   },
   "outputs": [
    {
     "name": "stdout",
     "output_type": "stream",
     "text": [
      "GIN(\n",
      "  (conv_layers): ModuleList(\n",
      "    (0): GINConv(nn=Sequential(\n",
      "      (0): Linear(in_features=4, out_features=7, bias=True)\n",
      "      (1): BatchNorm1d(7, eps=1e-05, momentum=0.1, affine=True, track_running_stats=True)\n",
      "      (2): ReLU()\n",
      "      (3): Linear(in_features=7, out_features=7, bias=True)\n",
      "      (4): ReLU()\n",
      "    ))\n",
      "    (1): GINConv(nn=Sequential(\n",
      "      (0): Linear(in_features=7, out_features=7, bias=True)\n",
      "      (1): BatchNorm1d(7, eps=1e-05, momentum=0.1, affine=True, track_running_stats=True)\n",
      "      (2): ReLU()\n",
      "      (3): Linear(in_features=7, out_features=7, bias=True)\n",
      "      (4): ReLU()\n",
      "    ))\n",
      "    (2): GINConv(nn=Sequential(\n",
      "      (0): Linear(in_features=7, out_features=7, bias=True)\n",
      "      (1): BatchNorm1d(7, eps=1e-05, momentum=0.1, affine=True, track_running_stats=True)\n",
      "      (2): ReLU()\n",
      "      (3): Linear(in_features=7, out_features=7, bias=True)\n",
      "      (4): ReLU()\n",
      "    ))\n",
      "    (3): GINConv(nn=Sequential(\n",
      "      (0): Linear(in_features=7, out_features=7, bias=True)\n",
      "      (1): BatchNorm1d(7, eps=1e-05, momentum=0.1, affine=True, track_running_stats=True)\n",
      "      (2): ReLU()\n",
      "      (3): Linear(in_features=7, out_features=7, bias=True)\n",
      "      (4): ReLU()\n",
      "    ))\n",
      "    (4): GINConv(nn=Sequential(\n",
      "      (0): Linear(in_features=7, out_features=7, bias=True)\n",
      "      (1): BatchNorm1d(7, eps=1e-05, momentum=0.1, affine=True, track_running_stats=True)\n",
      "      (2): ReLU()\n",
      "      (3): Linear(in_features=7, out_features=7, bias=True)\n",
      "      (4): ReLU()\n",
      "    ))\n",
      "    (5): GINConv(nn=Sequential(\n",
      "      (0): Linear(in_features=7, out_features=7, bias=True)\n",
      "      (1): BatchNorm1d(7, eps=1e-05, momentum=0.1, affine=True, track_running_stats=True)\n",
      "      (2): ReLU()\n",
      "      (3): Linear(in_features=7, out_features=7, bias=True)\n",
      "      (4): ReLU()\n",
      "    ))\n",
      "  )\n",
      "  (lin1): Linear(in_features=126, out_features=126, bias=True)\n",
      "  (lin2): Linear(in_features=126, out_features=1, bias=True)\n",
      ")\n",
      "Number of parameters:  16864\n"
     ]
    }
   ],
   "source": [
    "# model = GIN(num_layers = 10, num_features=4, dim=4)\n",
    "model = GIN(layers = 6, num_features=4, dim_h=7)\n",
    "print(model)\n",
    "print(\"Number of parameters: \", sum(p.numel() for p in model.parameters()))"
   ]
  },
  {
   "cell_type": "code",
   "execution_count": 20,
   "metadata": {},
   "outputs": [],
   "source": [
    "from torch_geometric.data import DataLoader\n",
    "from torch.nn import BCELoss\n",
    "import warnings\n",
    "warnings.filterwarnings(\"ignore\")\n",
    "\n",
    "loss_fn = torch.nn.BCELoss()\n",
    "optimizer = torch.optim.Adam(model.parameters(),\n",
    "                                      lr=0.001)\n",
    "\n",
    "# scheduler = ReduceLROnPlateau(optimizer, 'min', min_lr=1e-6, verbose=True, patience=10)"
   ]
  },
  {
   "cell_type": "code",
   "execution_count": 21,
   "metadata": {},
   "outputs": [],
   "source": [
    "def train(model, data, features_to_use):\n",
    "    ind = 0\n",
    "    for batch in data:\n",
    "#         print(batch)\n",
    "        optimizer.zero_grad()\n",
    "        pred, embedding = model(batch.x[:, features_to_use], batch.edge_index, batch.batch)\n",
    "        pred = torch.squeeze(pred)\n",
    "        loss = loss_fn(pred.float(), batch.label.float())\n",
    "        loss.backward()\n",
    "        optimizer.step()\n",
    "        ind += 1\n",
    "\n",
    "    return loss, model"
   ]
  },
  {
   "cell_type": "code",
   "execution_count": 22,
   "metadata": {},
   "outputs": [],
   "source": [
    "def check_accuracy(model, loader, features_to_use):\n",
    "    num_correct = 0\n",
    "    num_samples = 0\n",
    "    model.eval()\n",
    "\n",
    "    with torch.no_grad():\n",
    "        for batch in loader:\n",
    "            y = batch.label\n",
    "            batch.label = 0\n",
    "            pred, embedding = model(batch.x[:, features_to_use], batch.edge_index, batch.batch)\n",
    "            pred = torch.squeeze(pred)\n",
    "            predictions = (pred > 0.5).long() \n",
    "            num_correct += (predictions == y).sum() \n",
    "            num_samples += predictions.size(0)\n",
    "            \n",
    "    return float(num_correct)/float(num_samples)*100"
   ]
  },
  {
   "cell_type": "code",
   "execution_count": 23,
   "metadata": {
    "scrolled": true
   },
   "outputs": [
    {
     "name": "stdout",
     "output_type": "stream",
     "text": [
      "Starting training...\n",
      "Epoch 0 | Train loss 0.5749751925468445\n",
      "Train Accuracy 75.65495985075837 | Test Accuracy 75.78538985616957\n",
      "Epoch 1 | Train loss 0.710007905960083\n",
      "Train Accuracy 77.81247465325654 | Test Accuracy 78.01854655563967\n",
      "Epoch 2 | Train loss 0.4121203124523163\n",
      "Train Accuracy 76.76616108362397 | Test Accuracy 76.2112036336109\n",
      "Epoch 3 | Train loss 0.41011834144592285\n",
      "Train Accuracy 78.62762592262146 | Test Accuracy 78.29295987887964\n",
      "Epoch 4 | Train loss 0.3282865285873413\n",
      "Train Accuracy 78.7492902911834 | Test Accuracy 78.59576078728236\n",
      "Epoch 5 | Train loss 0.2933710515499115\n",
      "Train Accuracy 79.0210073809717 | Test Accuracy 78.52006056018168\n",
      "Epoch 6 | Train loss 0.6611989140510559\n",
      "Train Accuracy 79.483331981507 | Test Accuracy 79.26760030280091\n",
      "Epoch 7 | Train loss 0.6330145597457886\n",
      "Train Accuracy 79.66988401330197 | Test Accuracy 79.0783497350492\n",
      "Epoch 8 | Train loss 0.753358781337738\n",
      "Train Accuracy 79.45494362884257 | Test Accuracy 78.72823618470855\n",
      "Epoch 9 | Train loss 0.26296859979629517\n",
      "Train Accuracy 79.53199772893178 | Test Accuracy 79.21082513247539\n",
      "Epoch 10 | Train loss 0.3717920482158661\n",
      "Train Accuracy 80.02271068213156 | Test Accuracy 79.62717638152914\n",
      "Epoch 11 | Train loss 0.3741968870162964\n",
      "Train Accuracy 79.93754562413821 | Test Accuracy 79.29598788796366\n",
      "Epoch 12 | Train loss 0.5762310028076172\n",
      "Train Accuracy 80.32687160353638 | Test Accuracy 79.93943981831946\n",
      "Epoch 13 | Train loss 0.532524824142456\n",
      "Train Accuracy 80.1200421769811 | Test Accuracy 79.68395155185466\n",
      "Epoch 14 | Train loss 0.3129482865333557\n",
      "Train Accuracy 80.52153459323547 | Test Accuracy 79.84481453444361\n",
      "Epoch 15 | Train loss 0.47411829233169556\n",
      "Train Accuracy 78.95611971773866 | Test Accuracy 78.70931112793338\n",
      "Epoch 16 | Train loss 0.44532087445259094\n",
      "Train Accuracy 80.68780923027009 | Test Accuracy 79.93943981831946\n",
      "Epoch 17 | Train loss 0.30606380105018616\n",
      "Train Accuracy 80.82569551464029 | Test Accuracy 80.18546555639668\n",
      "Epoch 18 | Train loss 0.41853922605514526\n",
      "Train Accuracy 80.41203666152973 | Test Accuracy 79.52308856926571\n",
      "Epoch 19 | Train loss 0.5006982088088989\n",
      "Train Accuracy 81.37318517316895 | Test Accuracy 80.56396669190008\n",
      "Epoch 20 | Train loss 0.3591034412384033\n",
      "Train Accuracy 80.6431989617974 | Test Accuracy 80.24224072672219\n",
      "Epoch 21 | Train loss 0.34589239954948425\n",
      "Train Accuracy 80.31470516668018 | Test Accuracy 80.02460257380773\n",
      "Epoch 22 | Train loss 0.27225056290626526\n",
      "Train Accuracy 81.81117689999189 | Test Accuracy 80.93300529901589\n",
      "Epoch 23 | Train loss 0.5133962631225586\n",
      "Train Accuracy 80.38770378781734 | Test Accuracy 79.84481453444361\n",
      "Epoch 24 | Train loss 0.4870244264602661\n",
      "Train Accuracy 81.7746775894233 | Test Accuracy 81.00870552611657\n",
      "Epoch 25 | Train loss 0.3190384805202484\n",
      "Train Accuracy 81.45023927325818 | Test Accuracy 80.62074186222559\n",
      "Epoch 26 | Train loss 0.6331861019134521\n",
      "Train Accuracy 82.38299943223295 | Test Accuracy 81.33043149129448\n",
      "Epoch 27 | Train loss 0.12612834572792053\n",
      "Train Accuracy 81.3691296942169 | Test Accuracy 79.9110522331567\n",
      "Epoch 28 | Train loss 0.16630032658576965\n",
      "Train Accuracy 82.37488847432883 | Test Accuracy 81.1884935654807\n",
      "Epoch 29 | Train loss 0.2706714868545532\n",
      "Train Accuracy 80.41203666152973 | Test Accuracy 78.97426192278577\n",
      "Epoch 30 | Train loss 0.4354954957962036\n",
      "Train Accuracy 80.80947359883203 | Test Accuracy 80.09084027252081\n",
      "Epoch 31 | Train loss 0.2587954103946686\n",
      "Train Accuracy 82.71960418525428 | Test Accuracy 81.40613171839516\n",
      "Epoch 32 | Train loss 0.6417944431304932\n",
      "Train Accuracy 82.72365966420634 | Test Accuracy 81.48183194549584\n",
      "Epoch 33 | Train loss 0.22856783866882324\n",
      "Train Accuracy 82.82910211696002 | Test Accuracy 81.42505677517032\n",
      "Epoch 34 | Train loss 0.43508923053741455\n",
      "Train Accuracy 82.52494119555519 | Test Accuracy 81.21688115064345\n",
      "Epoch 35 | Train loss 0.24494750797748566\n",
      "Train Accuracy 81.58001459972422 | Test Accuracy 80.29901589704768\n",
      "Epoch 36 | Train loss 0.23610112071037292\n",
      "Train Accuracy 81.41779544164166 | Test Accuracy 79.75965177895533\n",
      "Epoch 37 | Train loss 0.5567834973335266\n",
      "Train Accuracy 82.74393705896667 | Test Accuracy 81.72785768357305\n",
      "Epoch 38 | Train loss 0.517718493938446\n",
      "Train Accuracy 83.1373185173169 | Test Accuracy 82.05904617713853\n",
      "Epoch 39 | Train loss 0.24755613505840302\n",
      "Train Accuracy 81.78278854732743 | Test Accuracy 80.34632853898562\n",
      "Epoch 40 | Train loss 0.3082082271575928\n",
      "Train Accuracy 83.21031713845404 | Test Accuracy 81.63323239969719\n",
      "Epoch 41 | Train loss 0.3043653666973114\n",
      "Train Accuracy 82.54927406926757 | Test Accuracy 81.30204390613171\n",
      "Epoch 42 | Train loss 0.19864225387573242\n",
      "Train Accuracy 83.27520480168708 | Test Accuracy 82.0779712339137\n",
      "Epoch 43 | Train loss 0.5091987252235413\n",
      "Train Accuracy 83.1373185173169 | Test Accuracy 81.22634367903103\n",
      "Epoch 44 | Train loss 0.3109269142150879\n",
      "Train Accuracy 83.23870549111851 | Test Accuracy 81.66161998485995\n",
      "Epoch 45 | Train loss 0.2652704417705536\n",
      "Train Accuracy 83.50636710195474 | Test Accuracy 81.58591975775927\n",
      "Epoch 46 | Train loss 0.2363494485616684\n",
      "Train Accuracy 83.58342120204397 | Test Accuracy 82.12528387585164\n",
      "Epoch 47 | Train loss 0.35709112882614136\n",
      "Train Accuracy 83.63208694946873 | Test Accuracy 81.89818319454957\n",
      "Epoch 48 | Train loss 0.6800190806388855\n",
      "Train Accuracy 83.78213967069512 | Test Accuracy 81.97388342165026\n",
      "Epoch 49 | Train loss 0.2493317425251007\n",
      "Train Accuracy 82.37083299537676 | Test Accuracy 80.91408024224073\n",
      "Epoch 50 | Train loss 0.3191247284412384\n",
      "Train Accuracy 83.69697461270175 | Test Accuracy 82.16313398940197\n",
      "Epoch 51 | Train loss 0.39642202854156494\n",
      "Train Accuracy 83.38470273339281 | Test Accuracy 81.85087055261165\n",
      "Epoch 52 | Train loss 0.2537708282470703\n",
      "Train Accuracy 84.0214129288669 | Test Accuracy 82.51324753974262\n",
      "Epoch 53 | Train loss 0.42270463705062866\n",
      "Train Accuracy 84.22824235542218 | Test Accuracy 82.18205904617713\n",
      "Epoch 54 | Train loss 0.2875615358352661\n",
      "Train Accuracy 84.26879714494282 | Test Accuracy 82.46593489780469\n",
      "Epoch 55 | Train loss 0.21359297633171082\n",
      "Train Accuracy 83.5793657230919 | Test Accuracy 81.74678274034822\n",
      "Epoch 56 | Train loss 0.36081942915916443\n",
      "Train Accuracy 83.48608970719442 | Test Accuracy 81.58591975775927\n",
      "Epoch 57 | Train loss 0.4941902160644531\n",
      "Train Accuracy 84.2363533133263 | Test Accuracy 82.34292202876608\n",
      "Epoch 58 | Train loss 0.5121393203735352\n",
      "Train Accuracy 84.15929921323708 | Test Accuracy 82.0779712339137\n",
      "Epoch 59 | Train loss 0.30984699726104736\n",
      "Train Accuracy 82.05045015816368 | Test Accuracy 80.04352763058289\n",
      "Epoch 60 | Train loss 0.27104878425598145\n",
      "Train Accuracy 84.00113553410658 | Test Accuracy 82.28614685844057\n",
      "Epoch 61 | Train loss 0.16000080108642578\n",
      "Train Accuracy 83.92408143401737 | Test Accuracy 82.0117335352006\n",
      "Epoch 62 | Train loss 0.33808234333992004\n",
      "Train Accuracy 84.47968205045015 | Test Accuracy 82.15367146101438\n",
      "Epoch 63 | Train loss 0.3496934771537781\n",
      "Train Accuracy 82.2978343742396 | Test Accuracy 80.59235427706282\n",
      "Epoch 64 | Train loss 0.5233481526374817\n",
      "Train Accuracy 83.31170411225565 | Test Accuracy 81.48183194549584\n",
      "Epoch 65 | Train loss 0.250454306602478\n",
      "Train Accuracy 84.11063346581231 | Test Accuracy 82.12528387585164\n",
      "Epoch 66 | Train loss 0.5415420532226562\n",
      "Train Accuracy 84.44723821883365 | Test Accuracy 82.7214231642695\n",
      "Epoch 67 | Train loss 0.3333524167537689\n",
      "Train Accuracy 84.43507178197746 | Test Accuracy 82.28614685844057\n",
      "Epoch 68 | Train loss 0.289755254983902\n",
      "Train Accuracy 84.62973477167654 | Test Accuracy 82.57002271006813\n",
      "Epoch 69 | Train loss 0.36871761083602905\n",
      "Train Accuracy 84.19579852380566 | Test Accuracy 82.1442089326268\n",
      "Epoch 70 | Train loss 0.3946550488471985\n",
      "Train Accuracy 84.75951009814258 | Test Accuracy 82.5321725965178\n",
      "Epoch 71 | Train loss 0.32662805914878845\n",
      "Train Accuracy 84.58106902425176 | Test Accuracy 82.43754731264194\n",
      "Epoch 72 | Train loss 0.5870788097381592\n",
      "Train Accuracy 84.92578473517722 | Test Accuracy 82.71196063588191\n",
      "Epoch 73 | Train loss 0.41816946864128113\n",
      "Train Accuracy 84.73923270338227 | Test Accuracy 82.22937168811507\n",
      "Epoch 74 | Train loss 0.1885818988084793\n",
      "Train Accuracy 84.82845324032769 | Test Accuracy 82.57002271006813\n",
      "Epoch 75 | Train loss 0.2152104377746582\n",
      "Train Accuracy 83.92408143401737 | Test Accuracy 81.58591975775927\n"
     ]
    },
    {
     "name": "stdout",
     "output_type": "stream",
     "text": [
      "Epoch 76 | Train loss 0.4285810887813568\n",
      "Train Accuracy 85.75310244139833 | Test Accuracy 82.88228614685845\n",
      "Epoch 77 | Train loss 0.19862383604049683\n",
      "Train Accuracy 84.50807040311462 | Test Accuracy 82.15367146101438\n",
      "Epoch 78 | Train loss 0.17055997252464294\n",
      "Train Accuracy 85.10422580906804 | Test Accuracy 82.89174867524602\n",
      "Epoch 79 | Train loss 0.20737223327159882\n",
      "Train Accuracy 85.03933814583502 | Test Accuracy 82.38077214231643\n",
      "Epoch 80 | Train loss 0.4569436311721802\n",
      "Train Accuracy 85.33538810933571 | Test Accuracy 82.68357305071915\n",
      "Epoch 81 | Train loss 0.601449728012085\n",
      "Train Accuracy 85.22994565658205 | Test Accuracy 82.50378501135503\n",
      "Epoch 82 | Train loss 0.2894672155380249\n",
      "Train Accuracy 85.5868278043637 | Test Accuracy 82.98637395912188\n",
      "Epoch 83 | Train loss 0.385447233915329\n",
      "Train Accuracy 84.59323546110795 | Test Accuracy 82.65518546555639\n",
      "Epoch 84 | Train loss 0.47190040349960327\n",
      "Train Accuracy 85.95993186795361 | Test Accuracy 82.81604844814534\n",
      "Epoch 85 | Train loss 0.1273605227470398\n",
      "Train Accuracy 85.15694703544489 | Test Accuracy 82.46593489780469\n",
      "Epoch 86 | Train loss 0.40518718957901\n",
      "Train Accuracy 84.95417308784168 | Test Accuracy 82.03065859197578\n",
      "Epoch 87 | Train loss 0.2661557197570801\n",
      "Train Accuracy 84.38235055560061 | Test Accuracy 81.63323239969719\n",
      "Epoch 88 | Train loss 0.18091987073421478\n",
      "Train Accuracy 84.00519101305865 | Test Accuracy 81.56699470098411\n",
      "Epoch 89 | Train loss 0.4530177712440491\n",
      "Train Accuracy 85.77743531511072 | Test Accuracy 83.08099924299773\n",
      "Epoch 90 | Train loss 0.32840695977211\n",
      "Train Accuracy 85.69227025711737 | Test Accuracy 82.86336109008326\n",
      "Epoch 91 | Train loss 0.3612530827522278\n",
      "Train Accuracy 82.2410576689107 | Test Accuracy 79.89212717638154\n",
      "Epoch 92 | Train loss 0.5339343547821045\n",
      "Train Accuracy 85.93965447319329 | Test Accuracy 82.45647236941711\n",
      "Epoch 93 | Train loss 0.3076818883419037\n",
      "Train Accuracy 85.30699975667126 | Test Accuracy 82.36184708554126\n",
      "Epoch 94 | Train loss 0.22894985973834991\n",
      "Train Accuracy 85.03933814583502 | Test Accuracy 82.30507191521575\n",
      "Epoch 95 | Train loss 0.3903648555278778\n",
      "Train Accuracy 86.00859761537838 | Test Accuracy 82.65518546555639\n",
      "Epoch 96 | Train loss 0.39008599519729614\n",
      "Train Accuracy 86.48714413172196 | Test Accuracy 82.85389856169569\n",
      "Epoch 97 | Train loss 0.19483046233654022\n",
      "Train Accuracy 85.61927163598021 | Test Accuracy 82.74034822104467\n",
      "Epoch 98 | Train loss 0.2897631824016571\n",
      "Train Accuracy 85.9274880363371 | Test Accuracy 82.56056018168054\n",
      "Epoch 99 | Train loss 0.33022764325141907\n",
      "Train Accuracy 84.85684159299213 | Test Accuracy 81.51968205904618\n",
      "Epoch 100 | Train loss 0.11570075154304504\n",
      "Train Accuracy 85.65171546759672 | Test Accuracy 82.24829674489024\n",
      "Epoch 101 | Train loss 0.30036020278930664\n",
      "Train Accuracy 86.3330359315435 | Test Accuracy 82.33345950037851\n",
      "Epoch 102 | Train loss 0.3669529855251312\n",
      "Train Accuracy 85.50166274637034 | Test Accuracy 82.45647236941711\n",
      "Epoch 103 | Train loss 0.2070898711681366\n",
      "Train Accuracy 86.01670857328251 | Test Accuracy 82.46593489780469\n",
      "Epoch 104 | Train loss 0.4108346402645111\n",
      "Train Accuracy 86.75075026360614 | Test Accuracy 82.83497350492051\n",
      "Epoch 105 | Train loss 0.5327446460723877\n",
      "Train Accuracy 86.300592099927 | Test Accuracy 82.63626040878123\n",
      "Epoch 106 | Train loss 0.18122026324272156\n",
      "Train Accuracy 86.21948252088572 | Test Accuracy 82.45647236941711\n",
      "Epoch 107 | Train loss 0.19636677205562592\n",
      "Train Accuracy 85.8139346256793 | Test Accuracy 82.79712339137018\n",
      "Epoch 108 | Train loss 0.32423701882362366\n",
      "Train Accuracy 86.48714413172196 | Test Accuracy 82.81604844814534\n",
      "Epoch 109 | Train loss 0.30258676409721375\n",
      "Train Accuracy 86.38575715792035 | Test Accuracy 82.80658591975777\n",
      "Epoch 110 | Train loss 0.44679123163223267\n",
      "Train Accuracy 86.59664206342768 | Test Accuracy 82.63626040878123\n",
      "Epoch 111 | Train loss 0.43029671907424927\n",
      "Train Accuracy 86.80347148998297 | Test Accuracy 82.88228614685845\n",
      "Epoch 112 | Train loss 0.22969020903110504\n",
      "Train Accuracy 87.07518857977126 | Test Accuracy 82.778198334595\n",
      "Epoch 113 | Train loss 0.37749701738357544\n",
      "Train Accuracy 86.83185984264742 | Test Accuracy 82.93906131718394\n",
      "Epoch 114 | Train loss 0.27317512035369873\n",
      "Train Accuracy 86.87241463216806 | Test Accuracy 83.00529901589705\n",
      "Epoch 115 | Train loss 0.654693603515625\n",
      "Train Accuracy 87.2414632168059 | Test Accuracy 82.79712339137018\n",
      "Epoch 116 | Train loss 0.13984547555446625\n",
      "Train Accuracy 85.54221753589098 | Test Accuracy 81.97388342165026\n",
      "Epoch 117 | Train loss 0.5203568935394287\n",
      "Train Accuracy 86.3573688052559 | Test Accuracy 82.36184708554126\n",
      "Epoch 118 | Train loss 0.4442908763885498\n",
      "Train Accuracy 86.55608727390704 | Test Accuracy 82.57948523845572\n",
      "Epoch 119 | Train loss 0.4130481779575348\n",
      "Train Accuracy 86.62503041609214 | Test Accuracy 82.13474640423921\n",
      "Epoch 120 | Train loss 0.5815839171409607\n",
      "Train Accuracy 86.59258658447563 | Test Accuracy 82.33345950037851\n",
      "Epoch 121 | Train loss 0.23798783123493195\n",
      "Train Accuracy 86.426311947441 | Test Accuracy 82.32399697199092\n",
      "Epoch 122 | Train loss 0.2519252598285675\n",
      "Train Accuracy 87.34690566955958 | Test Accuracy 82.76873580620742\n",
      "Epoch 123 | Train loss 0.31993773579597473\n",
      "Train Accuracy 87.12385432719604 | Test Accuracy 82.45647236941711\n",
      "Epoch 124 | Train loss 0.10239019244909286\n",
      "Train Accuracy 87.00218995863412 | Test Accuracy 82.33345950037851\n",
      "Epoch 125 | Train loss 0.3765612542629242\n",
      "Train Accuracy 86.52364344229053 | Test Accuracy 82.10635881907645\n",
      "Epoch 126 | Train loss 0.4699292778968811\n",
      "Train Accuracy 87.30229540108687 | Test Accuracy 82.83497350492051\n",
      "Epoch 127 | Train loss 0.29564550518989563\n",
      "Train Accuracy 86.00859761537838 | Test Accuracy 82.28614685844057\n",
      "Epoch 128 | Train loss 0.17149755358695984\n",
      "Train Accuracy 87.72000973314948 | Test Accuracy 82.92013626040878\n",
      "Epoch 129 | Train loss 0.14773696660995483\n",
      "Train Accuracy 87.55373509611485 | Test Accuracy 82.81604844814534\n",
      "Epoch 130 | Train loss 0.42401349544525146\n",
      "Train Accuracy 86.33709141049557 | Test Accuracy 81.81302043906132\n",
      "Epoch 131 | Train loss 0.3157348334789276\n",
      "Train Accuracy 87.58617892773137 | Test Accuracy 82.46593489780469\n",
      "Epoch 132 | Train loss 0.24428129196166992\n",
      "Train Accuracy 86.55608727390704 | Test Accuracy 82.61733535200607\n",
      "Epoch 133 | Train loss 0.3188612163066864\n",
      "Train Accuracy 86.95757969016141 | Test Accuracy 82.42808478425435\n",
      "Epoch 134 | Train loss 0.4799850285053253\n",
      "Train Accuracy 87.07924405872333 | Test Accuracy 82.17259651778956\n",
      "Epoch 135 | Train loss 0.2636578679084778\n",
      "Train Accuracy 87.66728850677265 | Test Accuracy 82.50378501135503\n",
      "Epoch 136 | Train loss 0.5607550740242004\n"
     ]
    },
    {
     "ename": "KeyboardInterrupt",
     "evalue": "",
     "output_type": "error",
     "traceback": [
      "\u001b[0;31m---------------------------------------------------------------------------\u001b[0m",
      "\u001b[0;31mKeyboardInterrupt\u001b[0m                         Traceback (most recent call last)",
      "Cell \u001b[0;32mIn[23], line 10\u001b[0m\n\u001b[1;32m      8\u001b[0m losses\u001b[38;5;241m.\u001b[39mappend(loss)\n\u001b[1;32m      9\u001b[0m \u001b[38;5;28mprint\u001b[39m(\u001b[38;5;124mf\u001b[39m\u001b[38;5;124m\"\u001b[39m\u001b[38;5;124mEpoch \u001b[39m\u001b[38;5;132;01m{\u001b[39;00mepoch\u001b[38;5;132;01m}\u001b[39;00m\u001b[38;5;124m | Train loss \u001b[39m\u001b[38;5;132;01m{\u001b[39;00mloss\u001b[38;5;132;01m}\u001b[39;00m\u001b[38;5;124m\"\u001b[39m)\n\u001b[0;32m---> 10\u001b[0m train_acc, test_acc \u001b[38;5;241m=\u001b[39m \u001b[43mcheck_accuracy\u001b[49m\u001b[43m(\u001b[49m\u001b[43mmodel\u001b[49m\u001b[43m,\u001b[49m\u001b[43m \u001b[49m\u001b[43mtrain_loader\u001b[49m\u001b[43m,\u001b[49m\u001b[43m \u001b[49m\u001b[43m[\u001b[49m\u001b[38;5;241;43m0\u001b[39;49m\u001b[43m,\u001b[49m\u001b[43m \u001b[49m\u001b[38;5;241;43m1\u001b[39;49m\u001b[43m,\u001b[49m\u001b[43m \u001b[49m\u001b[38;5;241;43m2\u001b[39;49m\u001b[43m,\u001b[49m\u001b[43m \u001b[49m\u001b[38;5;241;43m3\u001b[39;49m\u001b[43m]\u001b[49m\u001b[43m)\u001b[49m, check_accuracy(model, test_loader, [\u001b[38;5;241m0\u001b[39m, \u001b[38;5;241m1\u001b[39m, \u001b[38;5;241m2\u001b[39m, \u001b[38;5;241m3\u001b[39m])\n\u001b[1;32m     11\u001b[0m \u001b[38;5;28mprint\u001b[39m(\u001b[38;5;124mf\u001b[39m\u001b[38;5;124m\"\u001b[39m\u001b[38;5;124mTrain Accuracy \u001b[39m\u001b[38;5;132;01m{\u001b[39;00mtrain_acc\u001b[38;5;132;01m}\u001b[39;00m\u001b[38;5;124m | Test Accuracy \u001b[39m\u001b[38;5;132;01m{\u001b[39;00mtest_acc\u001b[38;5;132;01m}\u001b[39;00m\u001b[38;5;124m\"\u001b[39m)\n\u001b[1;32m     13\u001b[0m \u001b[38;5;28;01mif\u001b[39;00m test_acc \u001b[38;5;241m>\u001b[39m highestAcc:\n",
      "Cell \u001b[0;32mIn[22], line 7\u001b[0m, in \u001b[0;36mcheck_accuracy\u001b[0;34m(model, loader, features_to_use)\u001b[0m\n\u001b[1;32m      4\u001b[0m model\u001b[38;5;241m.\u001b[39meval()\n\u001b[1;32m      6\u001b[0m \u001b[38;5;28;01mwith\u001b[39;00m torch\u001b[38;5;241m.\u001b[39mno_grad():\n\u001b[0;32m----> 7\u001b[0m     \u001b[38;5;28;01mfor\u001b[39;00m batch \u001b[38;5;129;01min\u001b[39;00m loader:\n\u001b[1;32m      8\u001b[0m         y \u001b[38;5;241m=\u001b[39m batch\u001b[38;5;241m.\u001b[39mlabel\n\u001b[1;32m      9\u001b[0m         batch\u001b[38;5;241m.\u001b[39mlabel \u001b[38;5;241m=\u001b[39m \u001b[38;5;241m0\u001b[39m\n",
      "File \u001b[0;32m/opt/anaconda3/envs/thesis/lib/python3.10/site-packages/torch/utils/data/dataloader.py:681\u001b[0m, in \u001b[0;36m_BaseDataLoaderIter.__next__\u001b[0;34m(self)\u001b[0m\n\u001b[1;32m    678\u001b[0m \u001b[38;5;28;01mif\u001b[39;00m \u001b[38;5;28mself\u001b[39m\u001b[38;5;241m.\u001b[39m_sampler_iter \u001b[38;5;129;01mis\u001b[39;00m \u001b[38;5;28;01mNone\u001b[39;00m:\n\u001b[1;32m    679\u001b[0m     \u001b[38;5;66;03m# TODO(https://github.com/pytorch/pytorch/issues/76750)\u001b[39;00m\n\u001b[1;32m    680\u001b[0m     \u001b[38;5;28mself\u001b[39m\u001b[38;5;241m.\u001b[39m_reset()  \u001b[38;5;66;03m# type: ignore[call-arg]\u001b[39;00m\n\u001b[0;32m--> 681\u001b[0m data \u001b[38;5;241m=\u001b[39m \u001b[38;5;28;43mself\u001b[39;49m\u001b[38;5;241;43m.\u001b[39;49m\u001b[43m_next_data\u001b[49m\u001b[43m(\u001b[49m\u001b[43m)\u001b[49m\n\u001b[1;32m    682\u001b[0m \u001b[38;5;28mself\u001b[39m\u001b[38;5;241m.\u001b[39m_num_yielded \u001b[38;5;241m+\u001b[39m\u001b[38;5;241m=\u001b[39m \u001b[38;5;241m1\u001b[39m\n\u001b[1;32m    683\u001b[0m \u001b[38;5;28;01mif\u001b[39;00m \u001b[38;5;28mself\u001b[39m\u001b[38;5;241m.\u001b[39m_dataset_kind \u001b[38;5;241m==\u001b[39m _DatasetKind\u001b[38;5;241m.\u001b[39mIterable \u001b[38;5;129;01mand\u001b[39;00m \\\n\u001b[1;32m    684\u001b[0m         \u001b[38;5;28mself\u001b[39m\u001b[38;5;241m.\u001b[39m_IterableDataset_len_called \u001b[38;5;129;01mis\u001b[39;00m \u001b[38;5;129;01mnot\u001b[39;00m \u001b[38;5;28;01mNone\u001b[39;00m \u001b[38;5;129;01mand\u001b[39;00m \\\n\u001b[1;32m    685\u001b[0m         \u001b[38;5;28mself\u001b[39m\u001b[38;5;241m.\u001b[39m_num_yielded \u001b[38;5;241m>\u001b[39m \u001b[38;5;28mself\u001b[39m\u001b[38;5;241m.\u001b[39m_IterableDataset_len_called:\n",
      "File \u001b[0;32m/opt/anaconda3/envs/thesis/lib/python3.10/site-packages/torch/utils/data/dataloader.py:721\u001b[0m, in \u001b[0;36m_SingleProcessDataLoaderIter._next_data\u001b[0;34m(self)\u001b[0m\n\u001b[1;32m    719\u001b[0m \u001b[38;5;28;01mdef\u001b[39;00m \u001b[38;5;21m_next_data\u001b[39m(\u001b[38;5;28mself\u001b[39m):\n\u001b[1;32m    720\u001b[0m     index \u001b[38;5;241m=\u001b[39m \u001b[38;5;28mself\u001b[39m\u001b[38;5;241m.\u001b[39m_next_index()  \u001b[38;5;66;03m# may raise StopIteration\u001b[39;00m\n\u001b[0;32m--> 721\u001b[0m     data \u001b[38;5;241m=\u001b[39m \u001b[38;5;28;43mself\u001b[39;49m\u001b[38;5;241;43m.\u001b[39;49m\u001b[43m_dataset_fetcher\u001b[49m\u001b[38;5;241;43m.\u001b[39;49m\u001b[43mfetch\u001b[49m\u001b[43m(\u001b[49m\u001b[43mindex\u001b[49m\u001b[43m)\u001b[49m  \u001b[38;5;66;03m# may raise StopIteration\u001b[39;00m\n\u001b[1;32m    722\u001b[0m     \u001b[38;5;28;01mif\u001b[39;00m \u001b[38;5;28mself\u001b[39m\u001b[38;5;241m.\u001b[39m_pin_memory:\n\u001b[1;32m    723\u001b[0m         data \u001b[38;5;241m=\u001b[39m _utils\u001b[38;5;241m.\u001b[39mpin_memory\u001b[38;5;241m.\u001b[39mpin_memory(data, \u001b[38;5;28mself\u001b[39m\u001b[38;5;241m.\u001b[39m_pin_memory_device)\n",
      "File \u001b[0;32m/opt/anaconda3/envs/thesis/lib/python3.10/site-packages/torch/utils/data/_utils/fetch.py:52\u001b[0m, in \u001b[0;36m_MapDatasetFetcher.fetch\u001b[0;34m(self, possibly_batched_index)\u001b[0m\n\u001b[1;32m     50\u001b[0m \u001b[38;5;28;01melse\u001b[39;00m:\n\u001b[1;32m     51\u001b[0m     data \u001b[38;5;241m=\u001b[39m \u001b[38;5;28mself\u001b[39m\u001b[38;5;241m.\u001b[39mdataset[possibly_batched_index]\n\u001b[0;32m---> 52\u001b[0m \u001b[38;5;28;01mreturn\u001b[39;00m \u001b[38;5;28;43mself\u001b[39;49m\u001b[38;5;241;43m.\u001b[39;49m\u001b[43mcollate_fn\u001b[49m\u001b[43m(\u001b[49m\u001b[43mdata\u001b[49m\u001b[43m)\u001b[49m\n",
      "File \u001b[0;32m/opt/anaconda3/envs/thesis/lib/python3.10/site-packages/torch_geometric/loader/dataloader.py:20\u001b[0m, in \u001b[0;36mCollater.__call__\u001b[0;34m(self, batch)\u001b[0m\n\u001b[1;32m     18\u001b[0m elem \u001b[38;5;241m=\u001b[39m batch[\u001b[38;5;241m0\u001b[39m]\n\u001b[1;32m     19\u001b[0m \u001b[38;5;28;01mif\u001b[39;00m \u001b[38;5;28misinstance\u001b[39m(elem, BaseData):\n\u001b[0;32m---> 20\u001b[0m     \u001b[38;5;28;01mreturn\u001b[39;00m \u001b[43mBatch\u001b[49m\u001b[38;5;241;43m.\u001b[39;49m\u001b[43mfrom_data_list\u001b[49m\u001b[43m(\u001b[49m\u001b[43mbatch\u001b[49m\u001b[43m,\u001b[49m\u001b[43m \u001b[49m\u001b[38;5;28;43mself\u001b[39;49m\u001b[38;5;241;43m.\u001b[39;49m\u001b[43mfollow_batch\u001b[49m\u001b[43m,\u001b[49m\n\u001b[1;32m     21\u001b[0m \u001b[43m                                \u001b[49m\u001b[38;5;28;43mself\u001b[39;49m\u001b[38;5;241;43m.\u001b[39;49m\u001b[43mexclude_keys\u001b[49m\u001b[43m)\u001b[49m\n\u001b[1;32m     22\u001b[0m \u001b[38;5;28;01melif\u001b[39;00m \u001b[38;5;28misinstance\u001b[39m(elem, torch\u001b[38;5;241m.\u001b[39mTensor):\n\u001b[1;32m     23\u001b[0m     \u001b[38;5;28;01mreturn\u001b[39;00m default_collate(batch)\n",
      "File \u001b[0;32m/opt/anaconda3/envs/thesis/lib/python3.10/site-packages/torch_geometric/data/batch.py:76\u001b[0m, in \u001b[0;36mBatch.from_data_list\u001b[0;34m(cls, data_list, follow_batch, exclude_keys)\u001b[0m\n\u001b[1;32m     64\u001b[0m \u001b[38;5;129m@classmethod\u001b[39m\n\u001b[1;32m     65\u001b[0m \u001b[38;5;28;01mdef\u001b[39;00m \u001b[38;5;21mfrom_data_list\u001b[39m(\u001b[38;5;28mcls\u001b[39m, data_list: List[BaseData],\n\u001b[1;32m     66\u001b[0m                    follow_batch: Optional[List[\u001b[38;5;28mstr\u001b[39m]] \u001b[38;5;241m=\u001b[39m \u001b[38;5;28;01mNone\u001b[39;00m,\n\u001b[1;32m     67\u001b[0m                    exclude_keys: Optional[List[\u001b[38;5;28mstr\u001b[39m]] \u001b[38;5;241m=\u001b[39m \u001b[38;5;28;01mNone\u001b[39;00m):\n\u001b[1;32m     68\u001b[0m \u001b[38;5;250m    \u001b[39m\u001b[38;5;124mr\u001b[39m\u001b[38;5;124;03m\"\"\"Constructs a :class:`~torch_geometric.data.Batch` object from a\u001b[39;00m\n\u001b[1;32m     69\u001b[0m \u001b[38;5;124;03m    Python list of :class:`~torch_geometric.data.Data` or\u001b[39;00m\n\u001b[1;32m     70\u001b[0m \u001b[38;5;124;03m    :class:`~torch_geometric.data.HeteroData` objects.\u001b[39;00m\n\u001b[0;32m   (...)\u001b[0m\n\u001b[1;32m     73\u001b[0m \u001b[38;5;124;03m    :obj:`follow_batch`.\u001b[39;00m\n\u001b[1;32m     74\u001b[0m \u001b[38;5;124;03m    Will exclude any keys given in :obj:`exclude_keys`.\"\"\"\u001b[39;00m\n\u001b[0;32m---> 76\u001b[0m     batch, slice_dict, inc_dict \u001b[38;5;241m=\u001b[39m \u001b[43mcollate\u001b[49m\u001b[43m(\u001b[49m\n\u001b[1;32m     77\u001b[0m \u001b[43m        \u001b[49m\u001b[38;5;28;43mcls\u001b[39;49m\u001b[43m,\u001b[49m\n\u001b[1;32m     78\u001b[0m \u001b[43m        \u001b[49m\u001b[43mdata_list\u001b[49m\u001b[38;5;241;43m=\u001b[39;49m\u001b[43mdata_list\u001b[49m\u001b[43m,\u001b[49m\n\u001b[1;32m     79\u001b[0m \u001b[43m        \u001b[49m\u001b[43mincrement\u001b[49m\u001b[38;5;241;43m=\u001b[39;49m\u001b[38;5;28;43;01mTrue\u001b[39;49;00m\u001b[43m,\u001b[49m\n\u001b[1;32m     80\u001b[0m \u001b[43m        \u001b[49m\u001b[43madd_batch\u001b[49m\u001b[38;5;241;43m=\u001b[39;49m\u001b[38;5;129;43;01mnot\u001b[39;49;00m\u001b[43m \u001b[49m\u001b[38;5;28;43misinstance\u001b[39;49m\u001b[43m(\u001b[49m\u001b[43mdata_list\u001b[49m\u001b[43m[\u001b[49m\u001b[38;5;241;43m0\u001b[39;49m\u001b[43m]\u001b[49m\u001b[43m,\u001b[49m\u001b[43m \u001b[49m\u001b[43mBatch\u001b[49m\u001b[43m)\u001b[49m\u001b[43m,\u001b[49m\n\u001b[1;32m     81\u001b[0m \u001b[43m        \u001b[49m\u001b[43mfollow_batch\u001b[49m\u001b[38;5;241;43m=\u001b[39;49m\u001b[43mfollow_batch\u001b[49m\u001b[43m,\u001b[49m\n\u001b[1;32m     82\u001b[0m \u001b[43m        \u001b[49m\u001b[43mexclude_keys\u001b[49m\u001b[38;5;241;43m=\u001b[39;49m\u001b[43mexclude_keys\u001b[49m\u001b[43m,\u001b[49m\n\u001b[1;32m     83\u001b[0m \u001b[43m    \u001b[49m\u001b[43m)\u001b[49m\n\u001b[1;32m     85\u001b[0m     batch\u001b[38;5;241m.\u001b[39m_num_graphs \u001b[38;5;241m=\u001b[39m \u001b[38;5;28mlen\u001b[39m(data_list)\n\u001b[1;32m     86\u001b[0m     batch\u001b[38;5;241m.\u001b[39m_slice_dict \u001b[38;5;241m=\u001b[39m slice_dict\n",
      "File \u001b[0;32m/opt/anaconda3/envs/thesis/lib/python3.10/site-packages/torch_geometric/data/collate.py:84\u001b[0m, in \u001b[0;36mcollate\u001b[0;34m(cls, data_list, increment, add_batch, follow_batch, exclude_keys)\u001b[0m\n\u001b[1;32m     81\u001b[0m     \u001b[38;5;28;01mcontinue\u001b[39;00m\n\u001b[1;32m     83\u001b[0m \u001b[38;5;66;03m# Collate attributes into a unified representation:\u001b[39;00m\n\u001b[0;32m---> 84\u001b[0m value, slices, incs \u001b[38;5;241m=\u001b[39m \u001b[43m_collate\u001b[49m\u001b[43m(\u001b[49m\u001b[43mattr\u001b[49m\u001b[43m,\u001b[49m\u001b[43m \u001b[49m\u001b[43mvalues\u001b[49m\u001b[43m,\u001b[49m\u001b[43m \u001b[49m\u001b[43mdata_list\u001b[49m\u001b[43m,\u001b[49m\u001b[43m \u001b[49m\u001b[43mstores\u001b[49m\u001b[43m,\u001b[49m\n\u001b[1;32m     85\u001b[0m \u001b[43m                               \u001b[49m\u001b[43mincrement\u001b[49m\u001b[43m)\u001b[49m\n\u001b[1;32m     87\u001b[0m \u001b[38;5;28;01mif\u001b[39;00m \u001b[38;5;28misinstance\u001b[39m(value, Tensor) \u001b[38;5;129;01mand\u001b[39;00m value\u001b[38;5;241m.\u001b[39mis_cuda:\n\u001b[1;32m     88\u001b[0m     device \u001b[38;5;241m=\u001b[39m value\u001b[38;5;241m.\u001b[39mdevice\n",
      "File \u001b[0;32m/opt/anaconda3/envs/thesis/lib/python3.10/site-packages/torch_geometric/data/collate.py:133\u001b[0m, in \u001b[0;36m_collate\u001b[0;34m(key, values, data_list, stores, increment)\u001b[0m\n\u001b[1;32m    131\u001b[0m slices \u001b[38;5;241m=\u001b[39m cumsum([value\u001b[38;5;241m.\u001b[39msize(cat_dim \u001b[38;5;129;01mor\u001b[39;00m \u001b[38;5;241m0\u001b[39m) \u001b[38;5;28;01mfor\u001b[39;00m value \u001b[38;5;129;01min\u001b[39;00m values])\n\u001b[1;32m    132\u001b[0m \u001b[38;5;28;01mif\u001b[39;00m increment:\n\u001b[0;32m--> 133\u001b[0m     incs \u001b[38;5;241m=\u001b[39m \u001b[43mget_incs\u001b[49m\u001b[43m(\u001b[49m\u001b[43mkey\u001b[49m\u001b[43m,\u001b[49m\u001b[43m \u001b[49m\u001b[43mvalues\u001b[49m\u001b[43m,\u001b[49m\u001b[43m \u001b[49m\u001b[43mdata_list\u001b[49m\u001b[43m,\u001b[49m\u001b[43m \u001b[49m\u001b[43mstores\u001b[49m\u001b[43m)\u001b[49m\n\u001b[1;32m    134\u001b[0m     \u001b[38;5;28;01mif\u001b[39;00m incs\u001b[38;5;241m.\u001b[39mdim() \u001b[38;5;241m>\u001b[39m \u001b[38;5;241m1\u001b[39m \u001b[38;5;129;01mor\u001b[39;00m \u001b[38;5;28mint\u001b[39m(incs[\u001b[38;5;241m-\u001b[39m\u001b[38;5;241m1\u001b[39m]) \u001b[38;5;241m!=\u001b[39m \u001b[38;5;241m0\u001b[39m:\n\u001b[1;32m    135\u001b[0m         values \u001b[38;5;241m=\u001b[39m [\n\u001b[1;32m    136\u001b[0m             value \u001b[38;5;241m+\u001b[39m inc\u001b[38;5;241m.\u001b[39mto(value\u001b[38;5;241m.\u001b[39mdevice)\n\u001b[1;32m    137\u001b[0m             \u001b[38;5;28;01mfor\u001b[39;00m value, inc \u001b[38;5;129;01min\u001b[39;00m \u001b[38;5;28mzip\u001b[39m(values, incs)\n\u001b[1;32m    138\u001b[0m         ]\n",
      "File \u001b[0;32m/opt/anaconda3/envs/thesis/lib/python3.10/site-packages/torch_geometric/data/collate.py:262\u001b[0m, in \u001b[0;36mget_incs\u001b[0;34m(key, values, data_list, stores)\u001b[0m\n\u001b[1;32m    260\u001b[0m \u001b[38;5;28;01mdef\u001b[39;00m \u001b[38;5;21mget_incs\u001b[39m(key, values: List[Any], data_list: List[BaseData],\n\u001b[1;32m    261\u001b[0m              stores: List[BaseStorage]) \u001b[38;5;241m-\u001b[39m\u001b[38;5;241m>\u001b[39m Tensor:\n\u001b[0;32m--> 262\u001b[0m     repeats \u001b[38;5;241m=\u001b[39m [\n\u001b[1;32m    263\u001b[0m         data\u001b[38;5;241m.\u001b[39m__inc__(key, value, store)\n\u001b[1;32m    264\u001b[0m         \u001b[38;5;28;01mfor\u001b[39;00m value, data, store \u001b[38;5;129;01min\u001b[39;00m \u001b[38;5;28mzip\u001b[39m(values, data_list, stores)\n\u001b[1;32m    265\u001b[0m     ]\n\u001b[1;32m    266\u001b[0m     \u001b[38;5;28;01mif\u001b[39;00m \u001b[38;5;28misinstance\u001b[39m(repeats[\u001b[38;5;241m0\u001b[39m], Tensor):\n\u001b[1;32m    267\u001b[0m         repeats \u001b[38;5;241m=\u001b[39m torch\u001b[38;5;241m.\u001b[39mstack(repeats, dim\u001b[38;5;241m=\u001b[39m\u001b[38;5;241m0\u001b[39m)\n",
      "File \u001b[0;32m/opt/anaconda3/envs/thesis/lib/python3.10/site-packages/torch_geometric/data/collate.py:263\u001b[0m, in \u001b[0;36m<listcomp>\u001b[0;34m(.0)\u001b[0m\n\u001b[1;32m    260\u001b[0m \u001b[38;5;28;01mdef\u001b[39;00m \u001b[38;5;21mget_incs\u001b[39m(key, values: List[Any], data_list: List[BaseData],\n\u001b[1;32m    261\u001b[0m              stores: List[BaseStorage]) \u001b[38;5;241m-\u001b[39m\u001b[38;5;241m>\u001b[39m Tensor:\n\u001b[1;32m    262\u001b[0m     repeats \u001b[38;5;241m=\u001b[39m [\n\u001b[0;32m--> 263\u001b[0m         \u001b[43mdata\u001b[49m\u001b[38;5;241;43m.\u001b[39;49m\u001b[43m__inc__\u001b[49m\u001b[43m(\u001b[49m\u001b[43mkey\u001b[49m\u001b[43m,\u001b[49m\u001b[43m \u001b[49m\u001b[43mvalue\u001b[49m\u001b[43m,\u001b[49m\u001b[43m \u001b[49m\u001b[43mstore\u001b[49m\u001b[43m)\u001b[49m\n\u001b[1;32m    264\u001b[0m         \u001b[38;5;28;01mfor\u001b[39;00m value, data, store \u001b[38;5;129;01min\u001b[39;00m \u001b[38;5;28mzip\u001b[39m(values, data_list, stores)\n\u001b[1;32m    265\u001b[0m     ]\n\u001b[1;32m    266\u001b[0m     \u001b[38;5;28;01mif\u001b[39;00m \u001b[38;5;28misinstance\u001b[39m(repeats[\u001b[38;5;241m0\u001b[39m], Tensor):\n\u001b[1;32m    267\u001b[0m         repeats \u001b[38;5;241m=\u001b[39m torch\u001b[38;5;241m.\u001b[39mstack(repeats, dim\u001b[38;5;241m=\u001b[39m\u001b[38;5;241m0\u001b[39m)\n",
      "File \u001b[0;32m/opt/anaconda3/envs/thesis/lib/python3.10/site-packages/torch_geometric/data/data.py:532\u001b[0m, in \u001b[0;36mData.__inc__\u001b[0;34m(self, key, value, *args, **kwargs)\u001b[0m\n\u001b[1;32m    530\u001b[0m     \u001b[38;5;28;01mreturn\u001b[39;00m \u001b[38;5;28mint\u001b[39m(value\u001b[38;5;241m.\u001b[39mmax()) \u001b[38;5;241m+\u001b[39m \u001b[38;5;241m1\u001b[39m\n\u001b[1;32m    531\u001b[0m \u001b[38;5;28;01melif\u001b[39;00m \u001b[38;5;124m'\u001b[39m\u001b[38;5;124mindex\u001b[39m\u001b[38;5;124m'\u001b[39m \u001b[38;5;129;01min\u001b[39;00m key \u001b[38;5;129;01mor\u001b[39;00m key \u001b[38;5;241m==\u001b[39m \u001b[38;5;124m'\u001b[39m\u001b[38;5;124mface\u001b[39m\u001b[38;5;124m'\u001b[39m:\n\u001b[0;32m--> 532\u001b[0m     \u001b[38;5;28;01mreturn\u001b[39;00m \u001b[38;5;28;43mself\u001b[39;49m\u001b[38;5;241;43m.\u001b[39;49m\u001b[43mnum_nodes\u001b[49m\n\u001b[1;32m    533\u001b[0m \u001b[38;5;28;01melse\u001b[39;00m:\n\u001b[1;32m    534\u001b[0m     \u001b[38;5;28;01mreturn\u001b[39;00m \u001b[38;5;241m0\u001b[39m\n",
      "File \u001b[0;32m/opt/anaconda3/envs/thesis/lib/python3.10/site-packages/torch_geometric/data/data.py:172\u001b[0m, in \u001b[0;36mBaseData.num_nodes\u001b[0;34m(self)\u001b[0m\n\u001b[1;32m    156\u001b[0m \u001b[38;5;250m\u001b[39m\u001b[38;5;124mr\u001b[39m\u001b[38;5;124;03m\"\"\"Returns the number of nodes in the graph.\u001b[39;00m\n\u001b[1;32m    157\u001b[0m \n\u001b[1;32m    158\u001b[0m \u001b[38;5;124;03m.. note::\u001b[39;00m\n\u001b[0;32m   (...)\u001b[0m\n\u001b[1;32m    169\u001b[0m \u001b[38;5;124;03m    You will be given a warning that requests you to do so.\u001b[39;00m\n\u001b[1;32m    170\u001b[0m \u001b[38;5;124;03m\"\"\"\u001b[39;00m\n\u001b[1;32m    171\u001b[0m \u001b[38;5;28;01mtry\u001b[39;00m:\n\u001b[0;32m--> 172\u001b[0m     \u001b[38;5;28;01mreturn\u001b[39;00m \u001b[38;5;28msum\u001b[39m([v\u001b[38;5;241m.\u001b[39mnum_nodes \u001b[38;5;28;01mfor\u001b[39;00m v \u001b[38;5;129;01min\u001b[39;00m \u001b[38;5;28mself\u001b[39m\u001b[38;5;241m.\u001b[39mnode_stores])\n\u001b[1;32m    173\u001b[0m \u001b[38;5;28;01mexcept\u001b[39;00m \u001b[38;5;167;01mTypeError\u001b[39;00m:\n\u001b[1;32m    174\u001b[0m     \u001b[38;5;28;01mreturn\u001b[39;00m \u001b[38;5;28;01mNone\u001b[39;00m\n",
      "File \u001b[0;32m/opt/anaconda3/envs/thesis/lib/python3.10/site-packages/torch_geometric/data/data.py:172\u001b[0m, in \u001b[0;36m<listcomp>\u001b[0;34m(.0)\u001b[0m\n\u001b[1;32m    156\u001b[0m \u001b[38;5;250m\u001b[39m\u001b[38;5;124mr\u001b[39m\u001b[38;5;124;03m\"\"\"Returns the number of nodes in the graph.\u001b[39;00m\n\u001b[1;32m    157\u001b[0m \n\u001b[1;32m    158\u001b[0m \u001b[38;5;124;03m.. note::\u001b[39;00m\n\u001b[0;32m   (...)\u001b[0m\n\u001b[1;32m    169\u001b[0m \u001b[38;5;124;03m    You will be given a warning that requests you to do so.\u001b[39;00m\n\u001b[1;32m    170\u001b[0m \u001b[38;5;124;03m\"\"\"\u001b[39;00m\n\u001b[1;32m    171\u001b[0m \u001b[38;5;28;01mtry\u001b[39;00m:\n\u001b[0;32m--> 172\u001b[0m     \u001b[38;5;28;01mreturn\u001b[39;00m \u001b[38;5;28msum\u001b[39m([v\u001b[38;5;241m.\u001b[39mnum_nodes \u001b[38;5;28;01mfor\u001b[39;00m v \u001b[38;5;129;01min\u001b[39;00m \u001b[38;5;28mself\u001b[39m\u001b[38;5;241m.\u001b[39mnode_stores])\n\u001b[1;32m    173\u001b[0m \u001b[38;5;28;01mexcept\u001b[39;00m \u001b[38;5;167;01mTypeError\u001b[39;00m:\n\u001b[1;32m    174\u001b[0m     \u001b[38;5;28;01mreturn\u001b[39;00m \u001b[38;5;28;01mNone\u001b[39;00m\n",
      "\u001b[0;31mKeyboardInterrupt\u001b[0m: "
     ]
    }
   ],
   "source": [
    "print(\"Starting training...\")\n",
    "losses = []\n",
    "\n",
    "bestModel, highestAcc = None, 0\n",
    "\n",
    "for epoch in range(600):\n",
    "    loss, model = train(model, train_loader, [0, 1, 2, 3])\n",
    "    losses.append(loss)\n",
    "    print(f\"Epoch {epoch} | Train loss {loss}\")\n",
    "    train_acc, test_acc = check_accuracy(model, train_loader, [0, 1, 2, 3]), check_accuracy(model, test_loader, [0, 1, 2, 3])\n",
    "    print(f\"Train Accuracy {train_acc} | Test Accuracy {test_acc}\")\n",
    "    \n",
    "    if test_acc > highestAcc:\n",
    "        highestAcc = test_acc\n",
    "        bestModel = model"
   ]
  },
  {
   "cell_type": "code",
   "execution_count": null,
   "metadata": {},
   "outputs": [],
   "source": [
    "# analyze which kinds of graph it succeeds versus fails on"
   ]
  },
  {
   "cell_type": "code",
   "execution_count": 23,
   "metadata": {},
   "outputs": [],
   "source": [
    "# look through the success and failure cases"
   ]
  },
  {
   "cell_type": "code",
   "execution_count": 43,
   "metadata": {},
   "outputs": [],
   "source": [
    "correct, failed = [], []\n",
    "num_rigid_wrong, num_flexible_wrong = 0, 0\n",
    "num_rigid, num_flexible = 0, 0\n",
    "for x in test_data:\n",
    "    # convert from torch_geometric.data.data.Data to networkx graph?\n",
    "    label = x.label[0]\n",
    "    if label == 0:\n",
    "        num_rigid += 1\n",
    "    elif label == 1:\n",
    "        num_flexible += 1\n",
    "        \n",
    "        \n",
    "    model.eval()\n",
    "    graph = to_networkx(x, to_undirected = True)\n",
    "    validation_set = DataLoader([x], batch_size = 1, shuffle=True)\n",
    "    for batch in validation_set:\n",
    "        pred = bestModel(batch.x[:, [0, 1, 2, 3]], batch.edge_index, batch.batch)\n",
    "        pred = pred[0][0][0]\n",
    "        if pred > 0.5:\n",
    "            pred = 1\n",
    "        else:\n",
    "            pred = 0\n",
    "            \n",
    "        if pred != label:\n",
    "            failed.append((graph, label))\n",
    "            if label == 1:\n",
    "                num_flexible_wrong += 1\n",
    "            if label == 0:\n",
    "                num_rigid_wrong += 1\n",
    "        else:\n",
    "            correct.append((graph, label))    "
   ]
  },
  {
   "cell_type": "code",
   "execution_count": 44,
   "metadata": {},
   "outputs": [
    {
     "name": "stdout",
     "output_type": "stream",
     "text": [
      "1006\n",
      "884\n"
     ]
    }
   ],
   "source": [
    "print(num_rigid_wrong)\n",
    "print(num_flexible_wrong)"
   ]
  },
  {
   "cell_type": "code",
   "execution_count": 115,
   "metadata": {},
   "outputs": [
    {
     "name": "stdout",
     "output_type": "stream",
     "text": [
      "10184\n"
     ]
    }
   ],
   "source": [
    "print(len(correct))"
   ]
  },
  {
   "cell_type": "code",
   "execution_count": null,
   "metadata": {},
   "outputs": [],
   "source": [
    "nx.draw(failed[1][0])"
   ]
  },
  {
   "cell_type": "code",
   "execution_count": null,
   "metadata": {},
   "outputs": [],
   "source": [
    "failed[3][0].number_of_edges()"
   ]
  },
  {
   "cell_type": "code",
   "execution_count": null,
   "metadata": {},
   "outputs": [],
   "source": [
    "from networkx.algorithms.isomorphism import subgraph_isomorphisms\n"
   ]
  },
  {
   "cell_type": "code",
   "execution_count": null,
   "metadata": {},
   "outputs": [],
   "source": [
    "import networkx as nx\n",
    "\n",
    "# Define the substructure you want to search for\n",
    "substructures = {\n",
    "    \"triangle\": triangle,\n",
    "    \"square\": square, \n",
    "    \"pentagon\": pentagon,\n",
    "}\n",
    "\n",
    "substructures_freqs = {\n",
    "    \"triangle\": 0,\n",
    "    \"square\": 0,\n",
    "    \"pentagon\": 0,\n",
    "}\n",
    "\n",
    "\n",
    "# Calculate the frequency of the substructure in each graph\n",
    "substructure_freqs = []\n",
    "for (graph, label) in failed:\n",
    "    for substructure_name, substructure_graph in substructures.items():\n",
    "        GM = nx.algorithms.isomorphism.GraphMatcher(graph,substructure_graph)\n",
    "        gm_iterator = nx.algorithms.isomorphism.GraphMatcher.subgraph_isomorphisms_iter(graph, substructure_graph)\n",
    "        for g in gm_iterator:\n",
    "            print(\"hi\")\n",
    "        print(len(gm_iterator))\n",
    "        if GM.subgraph_is_isomorphic():\n",
    "            substructures_freqs[substructure_name] += 1\n",
    "\n",
    "#         count = sum([1 for _ in nx.subgraph_isomorphisms(graph, substructure_graph)])\n",
    "\n",
    "# Print the frequency of the substructure in each graph\n",
    "print(substructures_freqs)\n"
   ]
  },
  {
   "cell_type": "code",
   "execution_count": null,
   "metadata": {},
   "outputs": [],
   "source": [
    "GM = nx.algorithms.isomorphism.GraphMatcher(pentagon_new,pentagon)"
   ]
  },
  {
   "cell_type": "code",
   "execution_count": null,
   "metadata": {},
   "outputs": [],
   "source": [
    "if GM.subgraph_is_isomorphic():\n",
    "    print(\"hi\")"
   ]
  },
  {
   "cell_type": "code",
   "execution_count": 45,
   "metadata": {},
   "outputs": [],
   "source": [
    "# analyze degree sequence\n",
    "failed_rigid_degree_sequences = []\n",
    "failed_flexible_degree_sequences = []\n",
    "\n",
    "failed_rigid_clustering = []\n",
    "failed_flexible_clustering = []\n",
    "\n",
    "for (graph, label) in failed:\n",
    "    degree_sequence = sorted((d for n, d in graph.degree()), reverse=True)\n",
    "    if label == 0:\n",
    "        failed_rigid_degree_sequences.append(degree_sequence)\n",
    "        failed_rigid_clustering.append(sorted(nx.clustering(graph).values()))\n",
    "    elif label == 1:\n",
    "        failed_flexible_degree_sequences.append(degree_sequence)\n",
    "        failed_flexible_clustering.append(sorted(nx.clustering(graph).values()))\n",
    "        \n",
    "# analyze degree sequence\n",
    "correct_rigid_degree_sequences = []\n",
    "correct_flexible_degree_sequences = []\n",
    "\n",
    "correct_rigid_clustering = []\n",
    "correct_flexible_clustering = []\n",
    "\n",
    "for (graph, label) in correct:\n",
    "    degree_sequence = sorted((d for n, d in graph.degree()), reverse=True)\n",
    "    if label == 0:\n",
    "        correct_rigid_degree_sequences.append(degree_sequence)\n",
    "        correct_rigid_clustering.append(sorted(nx.clustering(graph).values()))\n",
    "    elif label == 1:\n",
    "        correct_flexible_degree_sequences.append(degree_sequence)\n",
    "        correct_flexible_clustering.append(sorted(nx.clustering(graph).values()))\n"
   ]
  },
  {
   "cell_type": "code",
   "execution_count": 69,
   "metadata": {},
   "outputs": [],
   "source": [
    "for i in range(len(correct_rigid_degree_sequences)):\n",
    "    sm = np.sum(correct_rigid_degree_sequences[i])"
   ]
  },
  {
   "cell_type": "code",
   "execution_count": 46,
   "metadata": {},
   "outputs": [
    {
     "data": {
      "image/png": "[encoded data removed]",
      "text/plain": [
       "<Figure size 1000x500 with 2 Axes>"
      ]
     },
     "metadata": {},
     "output_type": "display_data"
    },
    {
     "name": "stdout",
     "output_type": "stream",
     "text": [
      "Mean degree for set 1: 3.7\n",
      "Mean degree for set 2: 3.7\n",
      "Standard deviation of degrees for set 1: 1.354980512586277\n",
      "Standard deviation of degrees for set 2: 1.4923140176905516\n"
     ]
    }
   ],
   "source": [
    "import networkx as nx\n",
    "import numpy as np\n",
    "import matplotlib.pyplot as plt\n",
    "\n",
    "# # Generate two sets of graphs\n",
    "# graphs1 = [correct[i][0] for i in range(len(correct))]\n",
    "# graphs2 = [failed[i][0] for i in range(len(failed))] # List of NetworkX graphs\n",
    "\n",
    "# Calculate degree sequences for each set of graphs\n",
    "degree_seqs1 = correct_rigid_degree_sequences\n",
    "degree_seqs2 = correct_flexible_degree_sequences\n",
    "\n",
    "# Plot degree distribution for each set of graphs\n",
    "fig, (ax1, ax2) = plt.subplots(1, 2, figsize=(10, 5))\n",
    "ax1.hist(np.concatenate(degree_seqs1), bins=range(max(np.concatenate(degree_seqs1))+2), density=True)\n",
    "ax1.set_title('Degree distribution for set 1')\n",
    "ax2.hist(np.concatenate(degree_seqs2), bins=range(max(np.concatenate(degree_seqs2))+2), density=True)\n",
    "ax2.set_title('Degree distribution for set 2')\n",
    "plt.show()\n",
    "\n",
    "# Compare mean and standard deviation of degree sequences\n",
    "print(\"Mean degree for set 1:\", np.mean(np.concatenate(degree_seqs1)))\n",
    "print(\"Mean degree for set 2:\", np.mean(np.concatenate(degree_seqs2)))\n",
    "print(\"Standard deviation of degrees for set 1:\", np.std(np.concatenate(degree_seqs1)))\n",
    "print(\"Standard deviation of degrees for set 2:\", np.std(np.concatenate(degree_seqs2)))\n"
   ]
  },
  {
   "cell_type": "code",
   "execution_count": 51,
   "metadata": {},
   "outputs": [
    {
     "data": {
      "image/png": "[encoded data removed]",
      "text/plain": [
       "<Figure size 1000x500 with 2 Axes>"
      ]
     },
     "metadata": {},
     "output_type": "display_data"
    },
    {
     "name": "stdout",
     "output_type": "stream",
     "text": [
      "Mean degree for set 1: 0.1465492217212698\n",
      "Mean degree for set 2: 0.16876047965563187\n",
      "Standard deviation of degrees for set 1: 0.22252910399829934\n",
      "Standard deviation of degrees for set 2: 0.23446350405271313\n"
     ]
    }
   ],
   "source": [
    "import networkx as nx\n",
    "import numpy as np\n",
    "import matplotlib.pyplot as plt\n",
    "\n",
    "# # Generate two sets of graphs\n",
    "# graphs1 = [correct[i][0] for i in range(len(correct))]\n",
    "# graphs2 = [failed[i][0] for i in range(len(failed))] # List of NetworkX graphs\n",
    "\n",
    "# Calculate degree sequences for each set of graphs\n",
    "degree_seqs1 = correct_rigid_clustering\n",
    "degree_seqs2 = correct_flexible_clustering\n",
    "\n",
    "# Plot degree distribution for each set of graphs\n",
    "fig, (ax1, ax2) = plt.subplots(1, 2, figsize=(10, 5))\n",
    "ax1.hist(np.concatenate(degree_seqs1))\n",
    "ax1.set_title('Degree distribution for set 1')\n",
    "ax2.hist(np.concatenate(degree_seqs2))\n",
    "ax2.set_title('Degree distribution for set 2')\n",
    "plt.show()\n",
    "\n",
    "# Compare mean and standard deviation of degree sequences\n",
    "print(\"Mean degree for set 1:\", np.mean(np.concatenate(degree_seqs1)))\n",
    "print(\"Mean degree for set 2:\", np.mean(np.concatenate(degree_seqs2)))\n",
    "print(\"Standard deviation of degrees for set 1:\", np.std(np.concatenate(degree_seqs1)))\n",
    "print(\"Standard deviation of degrees for set 2:\", np.std(np.concatenate(degree_seqs2)))\n"
   ]
  },
  {
   "cell_type": "code",
   "execution_count": 48,
   "metadata": {},
   "outputs": [
    {
     "data": {
      "image/png": "[encoded data removed]",
      "text/plain": [
       "<Figure size 1000x500 with 2 Axes>"
      ]
     },
     "metadata": {},
     "output_type": "display_data"
    },
    {
     "name": "stdout",
     "output_type": "stream",
     "text": [
      "Mean degree for set 1: 0.15055830959409489\n",
      "Mean degree for set 2: 0.16993125746802218\n",
      "Standard deviation of degrees for set 1: 0.21992528958449525\n",
      "Standard deviation of degrees for set 2: 0.2410804894342817\n"
     ]
    }
   ],
   "source": [
    "import networkx as nx\n",
    "import numpy as np\n",
    "import matplotlib.pyplot as plt\n",
    "\n",
    "# # Generate two sets of graphs\n",
    "# graphs1 = [correct[i][0] for i in range(len(correct))]\n",
    "# graphs2 = [failed[i][0] for i in range(len(failed))] # List of NetworkX graphs\n",
    "\n",
    "# Calculate degree sequences for each set of graphs\n",
    "degree_seqs1 = failed_rigid_clustering\n",
    "degree_seqs2 = failed_flexible_clustering\n",
    "\n",
    "# Plot degree distribution for each set of graphs\n",
    "fig, (ax1, ax2) = plt.subplots(1, 2, figsize=(10, 5))\n",
    "ax1.hist(np.concatenate(degree_seqs1))\n",
    "ax1.set_title('Degree distribution for set 1')\n",
    "ax2.hist(np.concatenate(degree_seqs2))\n",
    "ax2.set_title('Degree distribution for set 2')\n",
    "plt.show()\n",
    "\n",
    "# Compare mean and standard deviation of degree sequences\n",
    "print(\"Mean degree for set 1:\", np.mean(np.concatenate(degree_seqs1)))\n",
    "print(\"Mean degree for set 2:\", np.mean(np.concatenate(degree_seqs2)))\n",
    "print(\"Standard deviation of degrees for set 1:\", np.std(np.concatenate(degree_seqs1)))\n",
    "print(\"Standard deviation of degrees for set 2:\", np.std(np.concatenate(degree_seqs2)))\n"
   ]
  },
  {
   "cell_type": "code",
   "execution_count": 50,
   "metadata": {},
   "outputs": [
    {
     "data": {
      "image/png": "[encoded data removed]",
      "text/plain": [
       "<Figure size 1000x500 with 2 Axes>"
      ]
     },
     "metadata": {},
     "output_type": "display_data"
    },
    {
     "name": "stdout",
     "output_type": "stream",
     "text": [
      "Mean degree for set 1: 3.7\n",
      "Mean degree for set 2: 3.7\n",
      "Standard deviation of degrees for set 1: 1.430761173219085\n",
      "Standard deviation of degrees for set 2: 1.4588782649197307\n"
     ]
    }
   ],
   "source": [
    "import networkx as nx\n",
    "import numpy as np\n",
    "import matplotlib.pyplot as plt\n",
    "\n",
    "# # Generate two sets of graphs\n",
    "# graphs1 = [correct[i][0] for i in range(len(correct))]\n",
    "# graphs2 = [failed[i][0] for i in range(len(failed))] # List of NetworkX graphs\n",
    "\n",
    "# Calculate degree sequences for each set of graphs\n",
    "degree_seqs1 = failed_rigid_degree_sequences\n",
    "degree_seqs2 = failed_flexible_degree_sequences\n",
    "\n",
    "# Plot degree distribution for each set of graphs\n",
    "fig, (ax1, ax2) = plt.subplots(1, 2, figsize=(10, 5))\n",
    "ax1.hist(np.concatenate(degree_seqs1))\n",
    "ax1.set_title('Degree distribution for set 1')\n",
    "ax2.hist(np.concatenate(degree_seqs2))\n",
    "ax2.set_title('Degree distribution for set 2')\n",
    "plt.show()\n",
    "\n",
    "# Compare mean and standard deviation of degree sequences\n",
    "print(\"Mean degree for set 1:\", np.mean(np.concatenate(degree_seqs1)))\n",
    "print(\"Mean degree for set 2:\", np.mean(np.concatenate(degree_seqs2)))\n",
    "print(\"Standard deviation of degrees for set 1:\", np.std(np.concatenate(degree_seqs1)))\n",
    "print(\"Standard deviation of degrees for set 2:\", np.std(np.concatenate(degree_seqs2)))\n"
   ]
  },
  {
   "cell_type": "code",
   "execution_count": 79,
   "metadata": {},
   "outputs": [
    {
     "data": {
      "image/png": "[encoded data removed]",
      "text/plain": [
       "<Figure size 1000x500 with 2 Axes>"
      ]
     },
     "metadata": {},
     "output_type": "display_data"
    },
    {
     "name": "stdout",
     "output_type": "stream",
     "text": [
      "Mean clustering coefficient for set 1: 0.19740015360983104\n",
      "Mean clustering coefficient for set 2: 0.16556707629288275\n",
      "Standard deviation of degrees for set 1: 0.26405963091601253\n",
      "Standard deviation of degrees for set 2: 0.2257134027741488\n"
     ]
    }
   ],
   "source": [
    "import networkx as nx\n",
    "import numpy as np\n",
    "import matplotlib.pyplot as plt\n",
    "\n",
    "# # Generate two sets of graphs\n",
    "# graphs1 = [correct[i][0] for i in range(len(correct))]\n",
    "# graphs2 = [failed[i][0] for i in range(len(failed))] # List of NetworkX graphs\n",
    "\n",
    "# Calculate degree sequences for each set of graphs\n",
    "degree_seqs1 = failed_flexible_clustering\n",
    "degree_seqs2 = correct_flexible_clustering[10:10+len(failed_flexible_clustering)]\n",
    "\n",
    "# Plot degree distribution for each set of graphs\n",
    "fig, (ax1, ax2) = plt.subplots(1, 2, figsize=(10, 5))\n",
    "ax1.hist(np.concatenate(degree_seqs1))\n",
    "ax1.set_title('Degree distribution for set 1')\n",
    "ax2.hist(np.concatenate(degree_seqs2))\n",
    "ax2.set_title('Degree distribution for set 2')\n",
    "plt.show()\n",
    "\n",
    "# Compare mean and standard deviation of degree sequences\n",
    "print(\"Mean clustering coefficient for set 1:\", np.mean(np.concatenate(degree_seqs1)))\n",
    "print(\"Mean clustering coefficient for set 2:\", np.mean(np.concatenate(degree_seqs2)))\n",
    "print(\"Standard deviation of degrees for set 1:\", np.std(np.concatenate(degree_seqs1)))\n",
    "print(\"Standard deviation of degrees for set 2:\", np.std(np.concatenate(degree_seqs2)))\n"
   ]
  },
  {
   "cell_type": "code",
   "execution_count": null,
   "metadata": {},
   "outputs": [],
   "source": []
  },
  {
   "cell_type": "code",
   "execution_count": 58,
   "metadata": {},
   "outputs": [
    {
     "name": "stdout",
     "output_type": "stream",
     "text": [
      "7.129032258064516\n",
      "7.032258064516129\n"
     ]
    }
   ],
   "source": [
    "degree_seqs1 = failed_flexible_degree_sequences\n",
    "degree_seqs2 = correct_flexible_degree_sequences[0:len(failed_flexible_degree_sequences)]\n",
    "\n",
    "degree_seqs1_max = [max(seq) for seq in degree_seqs1]\n",
    "degree_seqs2_max = [max(seq) for seq in degree_seqs2]\n",
    "\n",
    "print(np.average(degree_seqs1_max))\n",
    "print(np.average(degree_seqs2_max))"
   ]
  },
  {
   "cell_type": "code",
   "execution_count": 55,
   "metadata": {
    "scrolled": true
   },
   "outputs": [
    {
     "data": {
      "text/plain": [
       "[7,\n",
       " 8,\n",
       " 7,\n",
       " 7,\n",
       " 6,\n",
       " 8,\n",
       " 7,\n",
       " 6,\n",
       " 6,\n",
       " 6,\n",
       " 7,\n",
       " 8,\n",
       " 7,\n",
       " 7,\n",
       " 7,\n",
       " 6,\n",
       " 7,\n",
       " 6,\n",
       " 8,\n",
       " 8,\n",
       " 6,\n",
       " 6,\n",
       " 7,\n",
       " 8,\n",
       " 7,\n",
       " 6,\n",
       " 9,\n",
       " 8,\n",
       " 9,\n",
       " 8,\n",
       " 8]"
      ]
     },
     "execution_count": 55,
     "metadata": {},
     "output_type": "execute_result"
    }
   ],
   "source": [
    "degree_seqs1_max"
   ]
  },
  {
   "cell_type": "code",
   "execution_count": 56,
   "metadata": {
    "scrolled": true
   },
   "outputs": [
    {
     "data": {
      "text/plain": [
       "[7,\n",
       " 7,\n",
       " 9,\n",
       " 8,\n",
       " 7,\n",
       " 6,\n",
       " 7,\n",
       " 6,\n",
       " 7,\n",
       " 6,\n",
       " 8,\n",
       " 9,\n",
       " 8,\n",
       " 7,\n",
       " 6,\n",
       " 10,\n",
       " 8,\n",
       " 6,\n",
       " 7,\n",
       " 6,\n",
       " 7,\n",
       " 6,\n",
       " 7,\n",
       " 6,\n",
       " 8,\n",
       " 7,\n",
       " 6,\n",
       " 6,\n",
       " 7,\n",
       " 6,\n",
       " 7]"
      ]
     },
     "execution_count": 56,
     "metadata": {},
     "output_type": "execute_result"
    }
   ],
   "source": [
    "degree_seqs2_max"
   ]
  },
  {
   "cell_type": "code",
   "execution_count": null,
   "metadata": {},
   "outputs": [],
   "source": [
    "# compute the degree sequence for each node and run an SVM?"
   ]
  },
  {
   "cell_type": "code",
   "execution_count": 36,
   "metadata": {},
   "outputs": [
    {
     "name": "stdout",
     "output_type": "stream",
     "text": [
      "660\n",
      "657\n"
     ]
    }
   ],
   "source": [
    "print(len(correct_rigid_degree_sequences))\n",
    "print(len(correct_flexible_degree_sequences))"
   ]
  },
  {
   "cell_type": "code",
   "execution_count": 122,
   "metadata": {},
   "outputs": [],
   "source": [
    "ys = [0] * len(correct_rigid_clustering)"
   ]
  },
  {
   "cell_type": "code",
   "execution_count": 123,
   "metadata": {},
   "outputs": [],
   "source": [
    "ys += [1] * len(correct_flexible_clustering)"
   ]
  },
  {
   "cell_type": "code",
   "execution_count": 124,
   "metadata": {},
   "outputs": [],
   "source": [
    "Xs = correct_rigid_clustering + correct_flexible_clustering"
   ]
  },
  {
   "cell_type": "code",
   "execution_count": 130,
   "metadata": {},
   "outputs": [],
   "source": [
    "Xs_degrees = correct_rigid_degree_sequences + correct_flexible_degree_sequences"
   ]
  },
  {
   "cell_type": "code",
   "execution_count": 136,
   "metadata": {},
   "outputs": [
    {
     "name": "stdout",
     "output_type": "stream",
     "text": [
      "(10184, 20)\n",
      "(10184, 20)\n",
      "(10184, 40)\n"
     ]
    }
   ],
   "source": [
    "Xs_nparr = np.array(Xs)\n",
    "Xs_degrees_nparr = np.array(Xs_degrees)\n",
    "\n",
    "print(Xs_nparr.shape)\n",
    "print(Xs_degrees_nparr.shape)\n",
    "\n",
    "concatenated_nparr = np.concatenate((Xs_nparr, Xs_degrees_nparr), axis=1)\n",
    "print(concatenated_nparr.shape)"
   ]
  },
  {
   "cell_type": "code",
   "execution_count": 139,
   "metadata": {},
   "outputs": [
    {
     "name": "stdout",
     "output_type": "stream",
     "text": [
      "Accuracy: 0.6116838487972509\n"
     ]
    }
   ],
   "source": [
    "from sklearn import svm\n",
    "from sklearn.model_selection import train_test_split\n",
    "from sklearn.metrics import accuracy_score\n",
    "import numpy as np\n",
    "\n",
    "# Assume X and y are your degree sequences and binary labels, respectively\n",
    "\n",
    "# Split the data into training and testing sets\n",
    "X_train, X_test, y_train, y_test = train_test_split(concatenated_nparr, ys, test_size=0.2)\n",
    "\n",
    "# Initialize the SVM classifier\n",
    "clf = svm.SVC(kernel='linear')\n",
    "\n",
    "# Fit the SVM classifier on the training data\n",
    "clf.fit(X_train, y_train)\n",
    "\n",
    "# Use the trained SVM classifier to make predictions on the testing data\n",
    "y_pred = clf.predict(X_test)\n",
    "\n",
    "# Calculate the accuracy of the predictions\n",
    "accuracy = accuracy_score(y_test, y_pred)\n",
    "\n",
    "print(f\"Accuracy: {accuracy}\")"
   ]
  },
  {
   "cell_type": "code",
   "execution_count": null,
   "metadata": {},
   "outputs": [],
   "source": [
    "ys = [0] * len(correct_rigid_clustering)"
   ]
  },
  {
   "cell_type": "code",
   "execution_count": null,
   "metadata": {},
   "outputs": [],
   "source": []
  },
  {
   "cell_type": "code",
   "execution_count": null,
   "metadata": {},
   "outputs": [],
   "source": []
  },
  {
   "cell_type": "code",
   "execution_count": null,
   "metadata": {},
   "outputs": [],
   "source": []
  },
  {
   "cell_type": "code",
   "execution_count": null,
   "metadata": {},
   "outputs": [],
   "source": []
  },
  {
   "cell_type": "code",
   "execution_count": null,
   "metadata": {},
   "outputs": [],
   "source": [
    "from sklearn.linear_model import LogisticRegression\n",
    "\n",
    "# X is a matrix of features and y is a vector of labels\n",
    "X = ...\n",
    "y = ...\n",
    "\n",
    "# Train a logistic regression model to predict y based on X\n",
    "logreg = LogisticRegression().fit(X, y)\n",
    "\n",
    "# Get the predicted labels for all data points\n",
    "y_pred = logreg.predict(X)\n",
    "\n",
    "# Find the indices of data points that are easily predictable (i.e., where the predicted label matches the true label)\n",
    "easy_indices = [i for i in range(len(y)) if y[i] == y_pred[i]]\n",
    "\n",
    "# Filter out the data points with easily predictable labels\n",
    "X_filtered = np.delete(X, easy_indices, axis=0)\n",
    "y_filtered = np.delete(y, easy_indices)\n"
   ]
  },
  {
   "cell_type": "code",
   "execution_count": null,
   "metadata": {},
   "outputs": [],
   "source": [
    "failed[1][0].number_of_nodes()"
   ]
  },
  {
   "cell_type": "code",
   "execution_count": null,
   "metadata": {},
   "outputs": [],
   "source": [
    "(failed[1][1])"
   ]
  },
  {
   "cell_type": "code",
   "execution_count": null,
   "metadata": {},
   "outputs": [],
   "source": [
    "# look at how far the pebble game goes in those cases"
   ]
  },
  {
   "cell_type": "code",
   "execution_count": null,
   "metadata": {},
   "outputs": [],
   "source": [
    "num_nodes = 50\n",
    "model.eval()\n",
    "for num_graphs in range(10):\n",
    "    G = nx.erdos_renyi_graph(num_nodes, 0.2)\n",
    "    graph_as_data = from_networkx(G)\n",
    "    graph_as_data.x = generate_feature_vector(G)\n",
    "    graph_as_data.label = 1\n",
    "    validation_set = DataLoader([graph_as_data], batch_size = 1, shuffle=True)\n",
    "    for batch in validation_set:\n",
    "        with torch.no_grad():\n",
    "            pred = model(batch.x[:, [0, 1, 2, 3]], batch.edge_index, batch.batch)\n",
    "            if (pred[0][0][0] < 0.5):\n",
    "                print(\"WRONG\")\n"
   ]
  },
  {
   "cell_type": "code",
   "execution_count": null,
   "metadata": {},
   "outputs": [],
   "source": []
  },
  {
   "cell_type": "code",
   "execution_count": null,
   "metadata": {},
   "outputs": [],
   "source": []
  },
  {
   "cell_type": "code",
   "execution_count": null,
   "metadata": {},
   "outputs": [],
   "source": [
    "print(num_rigid)\n",
    "print(num_flexible)"
   ]
  },
  {
   "cell_type": "code",
   "execution_count": null,
   "metadata": {},
   "outputs": [],
   "source": [
    "g = nx.Graph()"
   ]
  },
  {
   "cell_type": "code",
   "execution_count": null,
   "metadata": {},
   "outputs": [],
   "source": [
    "for i in range(0, 30):\n",
    "    j = (np.random.randint(0, 30))\n",
    "    while j == i:\n",
    "        j = (np.random.randint(0, 30))\n",
    "        \n",
    "    print(j == i)\n",
    "    g.add_edge(i, j)"
   ]
  },
  {
   "cell_type": "code",
   "execution_count": null,
   "metadata": {},
   "outputs": [],
   "source": [
    "all_possible_edges = set()\n",
    "for i in range(0, 30):\n",
    "    for j in range(i+1, 30):\n",
    "        if not g.has_edge(i, j):\n",
    "            all_possible_edges.add((i,j))"
   ]
  },
  {
   "cell_type": "code",
   "execution_count": null,
   "metadata": {},
   "outputs": [],
   "source": [
    "print(all_possible_edges)"
   ]
  },
  {
   "cell_type": "code",
   "execution_count": null,
   "metadata": {},
   "outputs": [],
   "source": [
    "import random \n",
    "non_edges_sample_order = random.sample(all_possible_edges, 57 - 31)"
   ]
  },
  {
   "cell_type": "code",
   "execution_count": null,
   "metadata": {},
   "outputs": [],
   "source": [
    "for (u,v) in non_edges_sample_order:\n",
    "    g.add_edge(u, v)"
   ]
  },
  {
   "cell_type": "code",
   "execution_count": null,
   "metadata": {},
   "outputs": [],
   "source": [
    "print(g.number_of_edges())"
   ]
  },
  {
   "cell_type": "code",
   "execution_count": null,
   "metadata": {},
   "outputs": [],
   "source": [
    "model.eval()\n",
    "with torch.no_grad():\n",
    "    graph_as_data = from_networkx(g)\n",
    "    graph_as_data.x = generate_feature_vector(g)\n",
    "    validation_set = DataLoader([graph_as_data], batch_size = 1, shuffle=True)\n",
    "    for batch in validation_set:\n",
    "        pred = model(batch.x[:, [0]], batch.edge_index, batch.batch)\n",
    "        print(pred)\n"
   ]
  },
  {
   "cell_type": "code",
   "execution_count": null,
   "metadata": {},
   "outputs": [],
   "source": [
    "check_accuracy(model, test_loader, [0])"
   ]
  },
  {
   "cell_type": "code",
   "execution_count": null,
   "metadata": {},
   "outputs": [],
   "source": [
    "check_accuracy(model, train_loader, [0, 1, 2, 3])"
   ]
  },
  {
   "cell_type": "code",
   "execution_count": null,
   "metadata": {},
   "outputs": [],
   "source": [
    "# sanity check"
   ]
  },
  {
   "cell_type": "code",
   "execution_count": null,
   "metadata": {},
   "outputs": [],
   "source": [
    "# test on best model"
   ]
  },
  {
   "cell_type": "code",
   "execution_count": 80,
   "metadata": {},
   "outputs": [],
   "source": [
    "# square\n",
    "import networkx as nx\n",
    "square = nx.Graph()\n",
    "square.add_edge(0, 1)\n",
    "square.add_edge(1, 3)\n",
    "square.add_edge(0, 2)\n",
    "square.add_edge(2, 3)"
   ]
  },
  {
   "cell_type": "code",
   "execution_count": 81,
   "metadata": {},
   "outputs": [],
   "source": [
    "# square with cross bar (rigid)\n",
    "import networkx as nx\n",
    "square_bar = nx.Graph()\n",
    "square_bar.add_edge(0, 1)\n",
    "square_bar.add_edge(1, 3)\n",
    "square_bar.add_edge(0, 2)\n",
    "square_bar.add_edge(2, 3)\n",
    "square_bar.add_edge(0, 3)\n",
    "square_bar.add_edge(1, 2)"
   ]
  },
  {
   "cell_type": "code",
   "execution_count": 82,
   "metadata": {},
   "outputs": [],
   "source": [
    "# triangle\n",
    "import networkx as nx\n",
    "triangle = nx.Graph()\n",
    "triangle.add_edge(0, 1)\n",
    "triangle.add_edge(0, 2)\n",
    "triangle.add_edge(1, 2)"
   ]
  },
  {
   "cell_type": "code",
   "execution_count": 83,
   "metadata": {},
   "outputs": [],
   "source": [
    "# pentagon\n",
    "import networkx as nx\n",
    "pentagon = nx.Graph()\n",
    "pentagon.add_edge(0, 1)\n",
    "pentagon.add_edge(1, 3)\n",
    "pentagon.add_edge(3, 4)\n",
    "pentagon.add_edge(4, 2)\n",
    "pentagon.add_edge(2, 0)"
   ]
  },
  {
   "cell_type": "code",
   "execution_count": 84,
   "metadata": {},
   "outputs": [],
   "source": [
    "# pentagon\n",
    "import networkx as nx\n",
    "pentagon_new = nx.Graph()\n",
    "pentagon_new.add_edge(0, 1)\n",
    "pentagon_new.add_edge(1, 3)\n",
    "pentagon_new.add_edge(3, 4)\n",
    "pentagon_new.add_edge(4, 2)\n",
    "pentagon_new.add_edge(2, 0)\n",
    "pentagon_new.add_edge(1, 2)"
   ]
  },
  {
   "cell_type": "code",
   "execution_count": 85,
   "metadata": {},
   "outputs": [],
   "source": [
    "# no triangle and rigid\n",
    "rigid = nx.Graph()\n",
    "rigid.add_edge(0, 1)\n",
    "rigid.add_edge(0, 2)\n",
    "rigid.add_edge(0, 4)\n",
    "rigid.add_edge(1, 2)\n",
    "rigid.add_edge(1, 5)\n",
    "rigid.add_edge(2, 3)\n",
    "rigid.add_edge(3, 4)\n",
    "rigid.add_edge(3, 5)\n",
    "rigid.add_edge(4, 5)"
   ]
  },
  {
   "cell_type": "code",
   "execution_count": 86,
   "metadata": {},
   "outputs": [],
   "source": [
    "# two triangles\n",
    "two_triangles = nx.Graph()\n",
    "two_triangles.add_edge(0, 1)\n",
    "two_triangles.add_edge(0, 2)\n",
    "two_triangles.add_edge(1, 2)\n",
    "two_triangles.add_edge(2, 3)\n",
    "two_triangles.add_edge(1, 3)"
   ]
  },
  {
   "cell_type": "code",
   "execution_count": 87,
   "metadata": {},
   "outputs": [],
   "source": [
    "# three triangles\n",
    "three_triangles = nx.Graph()\n",
    "three_triangles.add_edge(0, 1)\n",
    "three_triangles.add_edge(0, 2)\n",
    "three_triangles.add_edge(1, 2)\n",
    "three_triangles.add_edge(2, 3)\n",
    "three_triangles.add_edge(1, 3)\n",
    "three_triangles.add_edge(1, 4)\n",
    "three_triangles.add_edge(3, 4)\n",
    "three_triangles.add_edge(4, 2)\n",
    "three_triangles.add_edge(0, 4)"
   ]
  },
  {
   "cell_type": "code",
   "execution_count": 88,
   "metadata": {},
   "outputs": [
    {
     "name": "stdout",
     "output_type": "stream",
     "text": [
      "(tensor([[1.]]), tensor([[35.8275]]))\n",
      "(tensor([[0.1298]]), tensor([[-1.9025]]))\n",
      "(tensor([[1.]]), tensor([[27.9102]]))\n",
      "(tensor([[1.]]), tensor([[43.6293]]))\n",
      "(tensor([[0.0719]]), tensor([[-2.5586]]))\n",
      "(tensor([[1.]]), tensor([[49.0966]]))\n",
      "(tensor([[0.0358]]), tensor([[-3.2941]]))\n"
     ]
    }
   ],
   "source": [
    "toy_problems = [square, square_bar, triangle, pentagon, rigid, two_triangles, three_triangles]\n",
    "labels = [1, 0, 0, 1, 0, 0, 1]\n",
    "\n",
    "for index, toy_problem in enumerate(toy_problems):\n",
    "    model.eval()\n",
    "    with torch.no_grad():\n",
    "        graph_as_data = from_networkx(toy_problem)\n",
    "        graph_as_data.x = generate_feature_vector(toy_problem)\n",
    "#         graph_as_data.label = labels[index]\n",
    "        validation_set = DataLoader([graph_as_data], batch_size = 1, shuffle=True)\n",
    "        for batch in validation_set:\n",
    "            pred = model(batch.x[:, [0, 1, 2,3]], batch.edge_index, batch.batch)\n",
    "            print(pred)\n",
    "    "
   ]
  },
  {
   "cell_type": "code",
   "execution_count": null,
   "metadata": {},
   "outputs": [],
   "source": []
  },
  {
   "cell_type": "code",
   "execution_count": null,
   "metadata": {},
   "outputs": [],
   "source": [
    "graph_as_data"
   ]
  },
  {
   "cell_type": "code",
   "execution_count": null,
   "metadata": {},
   "outputs": [],
   "source": [
    "# get the distribution of examples that it fails on"
   ]
  },
  {
   "cell_type": "code",
   "execution_count": null,
   "metadata": {},
   "outputs": [],
   "source": []
  },
  {
   "cell_type": "code",
   "execution_count": null,
   "metadata": {},
   "outputs": [],
   "source": [
    "validation_set = DataLoader([graph_as_data], batch_size = 1, shuffle=True)"
   ]
  },
  {
   "cell_type": "code",
   "execution_count": null,
   "metadata": {
    "scrolled": true
   },
   "outputs": [],
   "source": [
    "for batch in validation_set:\n",
    "    pred = bestModel(batch.x, batch.edge_index, batch.batch)\n",
    "    print(pred[0])\n",
    "    print(pred[1])"
   ]
  },
  {
   "cell_type": "code",
   "execution_count": null,
   "metadata": {},
   "outputs": [],
   "source": [
    "class LamanTestDataset(InMemoryDataset):\n",
    "    def __init__(self, root, data_dir, transform=None, pre_transform=None, pre_filter=None):\n",
    "        self.data_dir = data_dir\n",
    "        super().__init__(root, transform, pre_transform, pre_filter)\n",
    "        self.data, self.slices = torch.load(self.processed_paths[0])\n",
    "        \n",
    "    @property\n",
    "    def processed_file_names(self):\n",
    "        return ['data_test.pt']\n",
    "        \n",
    "    def process(self):\n",
    "        # processing code here\n",
    "        total_laman_data = None\n",
    "        with gzip.open(self.data_dir, 'r') as f:\n",
    "            total_laman_data = pickle.load(f)\n",
    "            \n",
    "        data_list = []\n",
    "        ind = 0\n",
    "        # convert from graph to Data object\n",
    "        for graph in total_laman_data[0]:\n",
    "#             print(ind)\n",
    "            ind += 1\n",
    "            num_nodes = nx.number_of_nodes(graph)\n",
    "#             x = torch.randn(num_nodes, 1)\n",
    "            x = generate_feature_vector(graph)\n",
    "            graph_as_data = from_networkx(graph)\n",
    "            graph_as_data.x = x\n",
    "            graph_as_data.label = 0\n",
    "            data_list.append(graph_as_data)\n",
    "            \n",
    "        ind = 0\n",
    "        for graph in total_laman_data[1]:\n",
    "#             print(ind)\n",
    "            ind += 1\n",
    "            num_nodes = nx.number_of_nodes(graph)\n",
    "#             x = torch.randn(num_nodes, 64)\n",
    "            x = generate_feature_vector(graph)\n",
    "            graph_as_data = from_networkx(graph)\n",
    "            graph_as_data.x = x\n",
    "            graph_as_data.label = 1\n",
    "            data_list.append(graph_as_data)\n",
    "            \n",
    "        data, slices = self.collate(data_list)\n",
    "        torch.save((data, slices), self.processed_paths[0])"
   ]
  },
  {
   "cell_type": "code",
   "execution_count": null,
   "metadata": {},
   "outputs": [],
   "source": [
    "# add functionality to support a test dataset\n",
    "TEST_DATA_PATH = \"data/actually_test_local_changes.pkl.gz\"\n",
    "laman_test_set = LamanTestDataset(\"\", TEST_DATA_PATH)"
   ]
  },
  {
   "cell_type": "code",
   "execution_count": null,
   "metadata": {},
   "outputs": [],
   "source": [
    "from torch_geometric.loader import DataLoader\n",
    "laman_test_loader = DataLoader(laman_test_set, batch_size = 2, shuffle=True)"
   ]
  },
  {
   "cell_type": "code",
   "execution_count": null,
   "metadata": {},
   "outputs": [],
   "source": [
    "random_test_acc = check_accuracy(model, laman_test_loader, [0, 1, 2, 3])\n",
    "print(f\"Accuracy {random_test_acc}\")"
   ]
  },
  {
   "cell_type": "code",
   "execution_count": null,
   "metadata": {},
   "outputs": [],
   "source": [
    "# generate statistics on the data"
   ]
  },
  {
   "cell_type": "code",
   "execution_count": null,
   "metadata": {},
   "outputs": [],
   "source": [
    "# test the clustering coefficient"
   ]
  },
  {
   "cell_type": "code",
   "execution_count": null,
   "metadata": {},
   "outputs": [],
   "source": [
    "clustering_coefficient(square, 0)"
   ]
  },
  {
   "cell_type": "code",
   "execution_count": null,
   "metadata": {},
   "outputs": [],
   "source": [
    "clustering_coefficient(triangle, 0)"
   ]
  },
  {
   "cell_type": "code",
   "execution_count": null,
   "metadata": {},
   "outputs": [],
   "source": [
    "clustering_coefficient(square_bar, 0)"
   ]
  },
  {
   "cell_type": "code",
   "execution_count": null,
   "metadata": {},
   "outputs": [],
   "source": [
    "# generate graph correlating clustering coefficient to rigidity"
   ]
  },
  {
   "cell_type": "code",
   "execution_count": null,
   "metadata": {},
   "outputs": [],
   "source": [
    "for item in train_data:\n",
    "    item = to_networkx(item)\n",
    "    print(type(item))\n",
    "    \n",
    "    break"
   ]
  },
  {
   "cell_type": "code",
   "execution_count": null,
   "metadata": {},
   "outputs": [],
   "source": [
    "torch_geometric.utils.convert.to_networkx()"
   ]
  },
  {
   "cell_type": "markdown",
   "metadata": {},
   "source": [
    "# Scratch Work: Sahil"
   ]
  },
  {
   "cell_type": "code",
   "execution_count": null,
   "metadata": {},
   "outputs": [],
   "source": [
    "total_laman_data = None\n",
    "with gzip.open(DATA_PATH, 'r') as f:\n",
    "    total_laman_data = pickle.load(f)"
   ]
  },
  {
   "cell_type": "code",
   "execution_count": null,
   "metadata": {},
   "outputs": [],
   "source": [
    "sample_graph = total_laman_data[0][0]"
   ]
  },
  {
   "cell_type": "code",
   "execution_count": null,
   "metadata": {},
   "outputs": [],
   "source": [
    "print(type(sample_graph))"
   ]
  },
  {
   "cell_type": "code",
   "execution_count": null,
   "metadata": {},
   "outputs": [],
   "source": [
    "to_data = from_networkx(sample_graph)\n",
    "from_data = to_networkx(to_data, to_undirected = True)"
   ]
  },
  {
   "cell_type": "code",
   "execution_count": null,
   "metadata": {},
   "outputs": [],
   "source": [
    "print(type(from_data))"
   ]
  },
  {
   "cell_type": "code",
   "execution_count": null,
   "metadata": {},
   "outputs": [],
   "source": [
    "def compute_min_clustering_coefficient(G):\n",
    "    min_coefficient = 1\n",
    "    for node in G.nodes():\n",
    "        min_coefficient = min(min_coefficient, clustering_coefficient(G, node))\n",
    "        \n",
    "    return min_coefficient"
   ]
  },
  {
   "cell_type": "code",
   "execution_count": null,
   "metadata": {},
   "outputs": [],
   "source": [
    "for index, sample_graph in enumerate(train_data):\n",
    "    label = sample_graph.label\n",
    "    networkx_sample_graph = to_networkx(sample_graph, to_undirected = True)\n",
    "    print(label, \" \", index, \" \", compute_min_clustering_coefficient(networkx_sample_graph))\n",
    "    \n",
    "    if index == 10:\n",
    "        break"
   ]
  },
  {
   "cell_type": "code",
   "execution_count": null,
   "metadata": {},
   "outputs": [],
   "source": [
    "print(compute_min_clustering_coefficient(from_data))"
   ]
  },
  {
   "cell_type": "code",
   "execution_count": null,
   "metadata": {},
   "outputs": [],
   "source": [
    "compute_min_clustering_coefficient(triangle)"
   ]
  },
  {
   "cell_type": "code",
   "execution_count": null,
   "metadata": {},
   "outputs": [],
   "source": [
    "# what if instead of training a gnn – you just trained on "
   ]
  },
  {
   "cell_type": "code",
   "execution_count": null,
   "metadata": {},
   "outputs": [],
   "source": [
    "# train a binary classifier on just the degrees of the nodes\n",
    "\n"
   ]
  },
  {
   "cell_type": "code",
   "execution_count": null,
   "metadata": {},
   "outputs": [],
   "source": [
    "# train a binary classifier on just the triangle feature"
   ]
  },
  {
   "cell_type": "code",
   "execution_count": null,
   "metadata": {},
   "outputs": [],
   "source": [
    "# train a binary classifier on the triangle features and the degree"
   ]
  },
  {
   "cell_type": "code",
   "execution_count": null,
   "metadata": {},
   "outputs": [],
   "source": [
    "# train a network with just degree of the node "
   ]
  },
  {
   "cell_type": "code",
   "execution_count": null,
   "metadata": {
    "scrolled": true
   },
   "outputs": [],
   "source": [
    "model_just_degree = GIN(num_features=1)\n",
    "print(model_just_degree)\n",
    "print(\"Number of parameters: \", sum(p.numel() for p in model.parameters()))"
   ]
  },
  {
   "cell_type": "code",
   "execution_count": null,
   "metadata": {},
   "outputs": [],
   "source": [
    "print(\"Starting training...\")\n",
    "losses = []\n",
    "\n",
    "bestModel, highestAcc = None, 0\n",
    "\n",
    "for epoch in range(1000):\n",
    "    loss, h = train(train_loader, [0])\n",
    "    losses.append(loss)\n",
    "    print(f\"Epoch {epoch} | Train loss {loss}\")\n",
    "    train_acc, test_acc = check_accuracy(model_just_degree, train_loader), check_accuracy(model_just_degree, test_loader)\n",
    "    print(f\"Train Accuracy {train_acc} | Test Accuracy {test_acc}\")\n",
    "#     scheduler.step(test_acc)\n",
    "    \n",
    "    if test_acc > highestAcc:\n",
    "        highestAcc = test_acc\n",
    "        bestModel = model"
   ]
  },
  {
   "cell_type": "code",
   "execution_count": null,
   "metadata": {},
   "outputs": [],
   "source": [
    "generate_feature_vector(sample_graph)"
   ]
  },
  {
   "cell_type": "code",
   "execution_count": null,
   "metadata": {},
   "outputs": [],
   "source": [
    "sample_graph.x[:, [0, 1]]"
   ]
  },
  {
   "cell_type": "code",
   "execution_count": null,
   "metadata": {},
   "outputs": [],
   "source": [
    "proportions = [.6, .2, .2]\n",
    "lengths = [int(p * len(laman_data)) for p in proportions]\n",
    "lengths[-1] = len(laman_data) - sum(lengths[:-1])\n",
    "\n",
    "generator1 = torch.Generator().manual_seed(42)\n",
    "train_data_list, test_data_list, val_data_list = random_split(laman_data, lengths, generator=generator1)\n"
   ]
  },
  {
   "cell_type": "code",
   "execution_count": null,
   "metadata": {},
   "outputs": [],
   "source": [
    "train_data_list"
   ]
  },
  {
   "cell_type": "code",
   "execution_count": null,
   "metadata": {},
   "outputs": [],
   "source": [
    "train_loader = DataLoader(train_data_list, batch_size=2, shuffle=True)\n",
    "val_loader = DataLoader(val_data_list, batch_size=2)\n",
    "test_loader = DataLoader(test_data_list, batch_size=2)\n"
   ]
  },
  {
   "cell_type": "code",
   "execution_count": null,
   "metadata": {},
   "outputs": [],
   "source": [
    "for data in train_loader:\n",
    "    print(data)"
   ]
  },
  {
   "cell_type": "code",
   "execution_count": null,
   "metadata": {},
   "outputs": [],
   "source": []
  }
 ],
 "metadata": {
  "kernelspec": {
   "display_name": "Python 3 (ipykernel)",
   "language": "python",
   "name": "python3"
  },
  "language_info": {
   "codemirror_mode": {
    "name": "ipython",
    "version": 3
   },
   "file_extension": ".py",
   "mimetype": "text/x-python",
   "name": "python",
   "nbconvert_exporter": "python",
   "pygments_lexer": "ipython3",
   "version": "3.10.9"
  }
 },
 "nbformat": 4,
 "nbformat_minor": 4
}
