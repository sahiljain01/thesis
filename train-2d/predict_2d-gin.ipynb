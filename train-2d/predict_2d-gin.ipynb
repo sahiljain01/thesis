{
 "cells": [
  {
   "cell_type": "code",
   "execution_count": 1,
   "metadata": {},
   "outputs": [],
   "source": [
    "import gzip\n",
    "import pickle\n",
    "import networkx as nx\n",
    "import pandas as pd\n",
    "import numpy as np\n",
    "import random\n",
    "import os"
   ]
  },
  {
   "cell_type": "code",
   "execution_count": 2,
   "metadata": {},
   "outputs": [
    {
     "name": "stderr",
     "output_type": "stream",
     "text": [
      "/opt/anaconda3/envs/thesis/lib/python3.10/site-packages/tqdm/auto.py:22: TqdmWarning: IProgress not found. Please update jupyter and ipywidgets. See https://ipywidgets.readthedocs.io/en/stable/user_install.html\n",
      "  from .autonotebook import tqdm as notebook_tqdm\n"
     ]
    }
   ],
   "source": [
    "from torch.optim import SGD\n",
    "from torch.optim.lr_scheduler import ReduceLROnPlateau"
   ]
  },
  {
   "cell_type": "markdown",
   "metadata": {},
   "source": [
    "## Data Loading"
   ]
  },
  {
   "cell_type": "markdown",
   "metadata": {},
   "source": [
    "### Writing PyG Dataset"
   ]
  },
  {
   "cell_type": "code",
   "execution_count": 3,
   "metadata": {},
   "outputs": [],
   "source": [
    "import torch"
   ]
  },
  {
   "cell_type": "code",
   "execution_count": 4,
   "metadata": {},
   "outputs": [],
   "source": [
    "from torch_geometric.data import InMemoryDataset\n",
    "from torch.utils.data import DataLoader"
   ]
  },
  {
   "cell_type": "code",
   "execution_count": 5,
   "metadata": {},
   "outputs": [],
   "source": [
    "from torch_geometric.utils import from_networkx, to_networkx"
   ]
  },
  {
   "cell_type": "code",
   "execution_count": 6,
   "metadata": {},
   "outputs": [],
   "source": [
    "def clustering_coefficient(G, node):\n",
    "    ns = [n for n in G.neighbors(node)]\n",
    "    if len(ns) <= 1:\n",
    "        return 0\n",
    "    \n",
    "    numerator = 0\n",
    "    denominator = len(ns) * (len(ns) - 1) / 2\n",
    "    for i in range(0, len(ns)):\n",
    "        for j in range(i+1, len(ns)):\n",
    "            n1, n2 = ns[i], ns[j]\n",
    "            numerator += G.has_edge(n1, n2)\n",
    "    \n",
    "    return numerator / denominator\n",
    "                "
   ]
  },
  {
   "cell_type": "code",
   "execution_count": 7,
   "metadata": {},
   "outputs": [],
   "source": [
    "def generate_feature_vector(G):\n",
    "    x = torch.randn(G.number_of_nodes(), 4)\n",
    "    ind = 0\n",
    "    for node in G.nodes():\n",
    "        x[ind][0] = 1 # uniform\n",
    "        x[ind][1] = G.degree[node] # node degree as a scalar \n",
    "        x[ind][2] = clustering_coefficient(G, node) # triangle counting?\n",
    "        x[ind][3] = ind # node ID features\n",
    "        ind += 1\n",
    "    return x"
   ]
  },
  {
   "cell_type": "code",
   "execution_count": 8,
   "metadata": {},
   "outputs": [],
   "source": [
    "class LamanDataset(InMemoryDataset):\n",
    "    def __init__(self, root, data_dir, transform=None, pre_transform=None, pre_filter=None):\n",
    "        self.data_dir = data_dir\n",
    "        super().__init__(root, transform, pre_transform, pre_filter)\n",
    "        self.data, self.slices = torch.load(self.processed_paths[0])\n",
    "        \n",
    "    @property\n",
    "    def processed_file_names(self):\n",
    "        return ['data.pt']\n",
    "        \n",
    "    def process(self):\n",
    "        total_laman_data = None\n",
    "        with gzip.open(self.data_dir, 'r') as f:\n",
    "            total_laman_data = pickle.load(f)\n",
    "            \n",
    "        data_list = []\n",
    "        for ind, graph in enumerate(total_laman_data[0]):\n",
    "            x = generate_feature_vector(graph)\n",
    "            graph_as_data = from_networkx(graph)\n",
    "            graph_as_data.x = x\n",
    "            graph_as_data.label = 0\n",
    "            data_list.append(graph_as_data)\n",
    "            \n",
    "        for ind, graph in enumerate(total_laman_data[1]):\n",
    "            x = generate_feature_vector(graph)\n",
    "            graph_as_data = from_networkx(graph)\n",
    "            graph_as_data.x = x\n",
    "            graph_as_data.label = 1\n",
    "            data_list.append(graph_as_data)\n",
    "            \n",
    "        data, slices = self.collate(data_list)\n",
    "        torch.save((data, slices), self.processed_paths[0])"
   ]
  },
  {
   "cell_type": "code",
   "execution_count": 9,
   "metadata": {},
   "outputs": [],
   "source": [
    "DATA_PATH = \"data/different-types-data.pkl.gz\""
   ]
  },
  {
   "cell_type": "code",
   "execution_count": 10,
   "metadata": {},
   "outputs": [
    {
     "name": "stderr",
     "output_type": "stream",
     "text": [
      "Processing...\n",
      "Done!\n"
     ]
    }
   ],
   "source": [
    "import torch_geometric.transforms as T\n",
    "laman_data = LamanDataset(\"\", DATA_PATH)"
   ]
  },
  {
   "cell_type": "code",
   "execution_count": 11,
   "metadata": {},
   "outputs": [
    {
     "data": {
      "text/plain": [
       "Data(edge_index=[2, 132], x=[24, 4], label=[1], num_nodes=24)"
      ]
     },
     "execution_count": 11,
     "metadata": {},
     "output_type": "execute_result"
    }
   ],
   "source": [
    "laman_data[1]"
   ]
  },
  {
   "cell_type": "code",
   "execution_count": null,
   "metadata": {},
   "outputs": [],
   "source": []
  },
  {
   "cell_type": "markdown",
   "metadata": {},
   "source": [
    "## Split into Train / Test"
   ]
  },
  {
   "cell_type": "code",
   "execution_count": 12,
   "metadata": {},
   "outputs": [],
   "source": [
    "from torch.utils.data import random_split\n",
    "\n",
    "proportions = [.7, .3]\n",
    "lengths = [int(p * len(laman_data)) for p in proportions]\n",
    "lengths[-1] = len(laman_data) - sum(lengths[:-1])\n",
    "\n",
    "generator1 = torch.Generator().manual_seed(42)\n",
    "train_data, test_data = random_split(laman_data, lengths, generator=generator1)"
   ]
  },
  {
   "cell_type": "code",
   "execution_count": 13,
   "metadata": {},
   "outputs": [
    {
     "name": "stdout",
     "output_type": "stream",
     "text": [
      "<class 'torch.utils.data.dataset.Subset'>\n"
     ]
    }
   ],
   "source": [
    "print(type(train_data))"
   ]
  },
  {
   "cell_type": "code",
   "execution_count": 14,
   "metadata": {},
   "outputs": [],
   "source": [
    "from torch_geometric.loader import DataLoader\n",
    "train_loader = DataLoader(train_data, batch_size = 64, shuffle=True)\n",
    "test_loader = DataLoader(test_data, batch_size = 64, shuffle=True)"
   ]
  },
  {
   "cell_type": "code",
   "execution_count": 15,
   "metadata": {},
   "outputs": [
    {
     "name": "stdout",
     "output_type": "stream",
     "text": [
      "Number of train batches:  33\n",
      "Number of test batches:  15\n"
     ]
    }
   ],
   "source": [
    "print(\"Number of train batches: \", len(train_loader))\n",
    "print(\"Number of test batches: \", len(test_loader))"
   ]
  },
  {
   "cell_type": "code",
   "execution_count": 16,
   "metadata": {},
   "outputs": [
    {
     "name": "stdout",
     "output_type": "stream",
     "text": [
      "DataBatch(edge_index=[2, 9400], x=[1697, 4], label=[64], num_nodes=1697, batch=[1697], ptr=[65])\n"
     ]
    }
   ],
   "source": [
    "for data in train_loader:\n",
    "    print(data)\n",
    "    break"
   ]
  },
  {
   "cell_type": "code",
   "execution_count": null,
   "metadata": {},
   "outputs": [],
   "source": [
    " "
   ]
  },
  {
   "cell_type": "markdown",
   "metadata": {},
   "source": [
    "## Model Architecture & Training"
   ]
  },
  {
   "cell_type": "code",
   "execution_count": 74,
   "metadata": {},
   "outputs": [],
   "source": [
    "from gat_conv.gat import GAT\n",
    "from gin.gin_k_layers import GIN"
   ]
  },
  {
   "cell_type": "code",
   "execution_count": 91,
   "metadata": {
    "scrolled": true
   },
   "outputs": [
    {
     "name": "stdout",
     "output_type": "stream",
     "text": [
      "GIN(\n",
      "  (conv_layers): ModuleList(\n",
      "    (0): GINConv(nn=Sequential(\n",
      "      (0): Linear(in_features=4, out_features=4, bias=True)\n",
      "      (1): BatchNorm1d(4, eps=1e-05, momentum=0.1, affine=True, track_running_stats=True)\n",
      "      (2): ReLU()\n",
      "      (3): Linear(in_features=4, out_features=4, bias=True)\n",
      "      (4): ReLU()\n",
      "    ))\n",
      "    (1): GINConv(nn=Sequential(\n",
      "      (0): Linear(in_features=4, out_features=4, bias=True)\n",
      "      (1): BatchNorm1d(4, eps=1e-05, momentum=0.1, affine=True, track_running_stats=True)\n",
      "      (2): ReLU()\n",
      "      (3): Linear(in_features=4, out_features=4, bias=True)\n",
      "      (4): ReLU()\n",
      "    ))\n",
      "    (2): GINConv(nn=Sequential(\n",
      "      (0): Linear(in_features=4, out_features=4, bias=True)\n",
      "      (1): BatchNorm1d(4, eps=1e-05, momentum=0.1, affine=True, track_running_stats=True)\n",
      "      (2): ReLU()\n",
      "      (3): Linear(in_features=4, out_features=4, bias=True)\n",
      "      (4): ReLU()\n",
      "    ))\n",
      "    (3): GINConv(nn=Sequential(\n",
      "      (0): Linear(in_features=4, out_features=4, bias=True)\n",
      "      (1): BatchNorm1d(4, eps=1e-05, momentum=0.1, affine=True, track_running_stats=True)\n",
      "      (2): ReLU()\n",
      "      (3): Linear(in_features=4, out_features=4, bias=True)\n",
      "      (4): ReLU()\n",
      "    ))\n",
      "    (4): GINConv(nn=Sequential(\n",
      "      (0): Linear(in_features=4, out_features=4, bias=True)\n",
      "      (1): BatchNorm1d(4, eps=1e-05, momentum=0.1, affine=True, track_running_stats=True)\n",
      "      (2): ReLU()\n",
      "      (3): Linear(in_features=4, out_features=4, bias=True)\n",
      "      (4): ReLU()\n",
      "    ))\n",
      "    (5): GINConv(nn=Sequential(\n",
      "      (0): Linear(in_features=4, out_features=4, bias=True)\n",
      "      (1): BatchNorm1d(4, eps=1e-05, momentum=0.1, affine=True, track_running_stats=True)\n",
      "      (2): ReLU()\n",
      "      (3): Linear(in_features=4, out_features=4, bias=True)\n",
      "      (4): ReLU()\n",
      "    ))\n",
      "  )\n",
      "  (lin1): Linear(in_features=72, out_features=72, bias=True)\n",
      "  (lin2): Linear(in_features=72, out_features=1, bias=True)\n",
      ")\n",
      "Number of parameters:  5617\n"
     ]
    }
   ],
   "source": [
    "# model = GIN(num_layers = 10, num_features=4, dim=4)\n",
    "model = GIN(layers = 6, num_features=4, dim_h=4)\n",
    "# model = GAT(layers = 8, num_features=4, dim_h=8)\n",
    "print(model)\n",
    "print(\"Number of parameters: \", sum(p.numel() for p in model.parameters()))"
   ]
  },
  {
   "cell_type": "code",
   "execution_count": 92,
   "metadata": {},
   "outputs": [],
   "source": [
    "from torch_geometric.data import DataLoader\n",
    "from torch.nn import BCELoss\n",
    "import warnings\n",
    "warnings.filterwarnings(\"ignore\")\n",
    "\n",
    "loss_fn = torch.nn.BCELoss()\n",
    "optimizer = torch.optim.Adam(model.parameters(),\n",
    "                                      lr=0.001)\n",
    "\n",
    "# scheduler = ReduceLROnPlateau(optimizer, 'min', min_lr=1e-6, verbose=True, patience=10)"
   ]
  },
  {
   "cell_type": "code",
   "execution_count": 93,
   "metadata": {},
   "outputs": [],
   "source": [
    "def train(model, data, features_to_use):\n",
    "    ind = 0\n",
    "    for batch in data:\n",
    "#         print(batch)\n",
    "        optimizer.zero_grad()\n",
    "        pred, embedding, _= model(batch.x[:, features_to_use], batch.edge_index, batch.batch)\n",
    "        pred = torch.squeeze(pred)\n",
    "        loss = loss_fn(pred.float(), batch.label.float())\n",
    "        loss.backward()\n",
    "        optimizer.step()\n",
    "        ind += 1\n",
    "\n",
    "    return loss, model"
   ]
  },
  {
   "cell_type": "code",
   "execution_count": 94,
   "metadata": {},
   "outputs": [],
   "source": [
    "def check_accuracy(model, loader, features_to_use):\n",
    "    num_correct = 0\n",
    "    num_samples = 0\n",
    "    model.eval()\n",
    "\n",
    "    with torch.no_grad():\n",
    "        for batch in loader:\n",
    "            y = batch.label\n",
    "            batch.label = 0\n",
    "            pred, embedding, _ = model(batch.x[:, features_to_use], batch.edge_index, batch.batch)\n",
    "            pred = torch.squeeze(pred)\n",
    "            predictions = (pred > 0.5).long() \n",
    "            num_correct += (predictions == y).sum() \n",
    "            num_samples += predictions.size(0)\n",
    "            \n",
    "    return float(num_correct)/float(num_samples)*100"
   ]
  },
  {
   "cell_type": "code",
   "execution_count": 95,
   "metadata": {
    "scrolled": true
   },
   "outputs": [
    {
     "name": "stdout",
     "output_type": "stream",
     "text": [
      "Starting training...\n",
      "Epoch 0 | Train loss 0.7301874160766602\n",
      "Train Accuracy 50.38095238095238 | Test Accuracy 49.111111111111114\n",
      "Epoch 1 | Train loss 0.75043785572052\n",
      "Train Accuracy 50.04761904761905 | Test Accuracy 50.11111111111111\n",
      "Epoch 2 | Train loss 0.6999939680099487\n",
      "Train Accuracy 52.61904761904762 | Test Accuracy 54.44444444444444\n",
      "Epoch 3 | Train loss 0.6850229501724243\n",
      "Train Accuracy 52.714285714285715 | Test Accuracy 52.888888888888886\n",
      "Epoch 4 | Train loss 0.6692019104957581\n",
      "Train Accuracy 52.85714285714286 | Test Accuracy 53.0\n",
      "Epoch 5 | Train loss 0.6880199909210205\n",
      "Train Accuracy 54.142857142857146 | Test Accuracy 55.111111111111114\n",
      "Epoch 6 | Train loss 0.714485764503479\n",
      "Train Accuracy 50.57142857142857 | Test Accuracy 50.888888888888886\n",
      "Epoch 7 | Train loss 0.6703225374221802\n",
      "Train Accuracy 57.19047619047619 | Test Accuracy 56.99999999999999\n",
      "Epoch 8 | Train loss 0.6249502897262573\n",
      "Train Accuracy 59.66666666666667 | Test Accuracy 61.44444444444444\n",
      "Epoch 9 | Train loss 0.6444831490516663\n",
      "Train Accuracy 59.904761904761905 | Test Accuracy 60.333333333333336\n",
      "Epoch 10 | Train loss 0.6691296696662903\n",
      "Train Accuracy 62.95238095238095 | Test Accuracy 61.55555555555555\n",
      "Epoch 11 | Train loss 0.6373097896575928\n",
      "Train Accuracy 51.857142857142854 | Test Accuracy 51.0\n",
      "Epoch 12 | Train loss 0.6206185817718506\n",
      "Train Accuracy 63.28571428571429 | Test Accuracy 61.55555555555555\n",
      "Epoch 13 | Train loss 0.6915009021759033\n",
      "Train Accuracy 56.714285714285715 | Test Accuracy 58.55555555555556\n",
      "Epoch 14 | Train loss 0.6112145781517029\n",
      "Train Accuracy 62.142857142857146 | Test Accuracy 62.77777777777778\n",
      "Epoch 15 | Train loss 0.6881688833236694\n",
      "Train Accuracy 55.80952380952381 | Test Accuracy 56.222222222222214\n",
      "Epoch 16 | Train loss 0.6732171773910522\n",
      "Train Accuracy 60.71428571428571 | Test Accuracy 61.55555555555555\n",
      "Epoch 17 | Train loss 0.6238645911216736\n",
      "Train Accuracy 60.523809523809526 | Test Accuracy 61.77777777777778\n",
      "Epoch 18 | Train loss 0.6140770316123962\n",
      "Train Accuracy 63.857142857142854 | Test Accuracy 62.11111111111111\n",
      "Epoch 19 | Train loss 0.6451343297958374\n",
      "Train Accuracy 62.66666666666667 | Test Accuracy 61.44444444444444\n",
      "Epoch 20 | Train loss 0.6544144749641418\n",
      "Train Accuracy 64.80952380952381 | Test Accuracy 66.0\n",
      "Epoch 21 | Train loss 0.6241533756256104\n",
      "Train Accuracy 61.42857142857143 | Test Accuracy 60.0\n",
      "Epoch 22 | Train loss 0.6836807727813721\n",
      "Train Accuracy 62.71428571428571 | Test Accuracy 64.33333333333333\n",
      "Epoch 23 | Train loss 0.608672559261322\n",
      "Train Accuracy 63.142857142857146 | Test Accuracy 64.55555555555556\n",
      "Epoch 24 | Train loss 0.6268243193626404\n",
      "Train Accuracy 66.33333333333333 | Test Accuracy 68.66666666666667\n",
      "Epoch 25 | Train loss 0.5923495888710022\n",
      "Train Accuracy 67.04761904761905 | Test Accuracy 70.44444444444444\n",
      "Epoch 26 | Train loss 0.5681802034378052\n",
      "Train Accuracy 64.04761904761904 | Test Accuracy 65.77777777777779\n",
      "Epoch 27 | Train loss 0.5476341843605042\n",
      "Train Accuracy 69.0952380952381 | Test Accuracy 69.0\n",
      "Epoch 28 | Train loss 0.5593926906585693\n",
      "Train Accuracy 68.0952380952381 | Test Accuracy 71.0\n",
      "Epoch 29 | Train loss 0.5573105812072754\n",
      "Train Accuracy 63.33333333333333 | Test Accuracy 65.33333333333333\n",
      "Epoch 30 | Train loss 0.6294291019439697\n",
      "Train Accuracy 65.23809523809524 | Test Accuracy 69.55555555555556\n",
      "Epoch 31 | Train loss 0.5610619783401489\n",
      "Train Accuracy 69.0952380952381 | Test Accuracy 68.88888888888889\n",
      "Epoch 32 | Train loss 0.5534225106239319\n",
      "Train Accuracy 69.04761904761905 | Test Accuracy 69.44444444444444\n",
      "Epoch 33 | Train loss 0.4933933615684509\n",
      "Train Accuracy 61.0 | Test Accuracy 62.77777777777778\n",
      "Epoch 34 | Train loss 0.5504471063613892\n",
      "Train Accuracy 63.61904761904762 | Test Accuracy 63.0\n",
      "Epoch 35 | Train loss 0.5561061501502991\n",
      "Train Accuracy 69.57142857142857 | Test Accuracy 72.55555555555556\n",
      "Epoch 36 | Train loss 0.6442890763282776\n",
      "Train Accuracy 72.33333333333334 | Test Accuracy 74.33333333333333\n",
      "Epoch 37 | Train loss 0.6046448945999146\n",
      "Train Accuracy 70.95238095238095 | Test Accuracy 70.0\n",
      "Epoch 38 | Train loss 0.5340282320976257\n",
      "Train Accuracy 76.52380952380953 | Test Accuracy 79.55555555555556\n",
      "Epoch 39 | Train loss 0.5533437728881836\n",
      "Train Accuracy 74.57142857142857 | Test Accuracy 75.44444444444444\n",
      "Epoch 40 | Train loss 0.5735332369804382\n",
      "Train Accuracy 72.09523809523809 | Test Accuracy 75.1111111111111\n",
      "Epoch 41 | Train loss 0.4349803328514099\n",
      "Train Accuracy 77.95238095238095 | Test Accuracy 80.22222222222221\n",
      "Epoch 42 | Train loss 0.6444146633148193\n",
      "Train Accuracy 73.61904761904762 | Test Accuracy 75.88888888888889\n",
      "Epoch 43 | Train loss 0.5536347031593323\n",
      "Train Accuracy 79.47619047619048 | Test Accuracy 81.55555555555556\n",
      "Epoch 44 | Train loss 0.5111124515533447\n",
      "Train Accuracy 74.47619047619047 | Test Accuracy 76.77777777777777\n",
      "Epoch 45 | Train loss 0.5208759903907776\n",
      "Train Accuracy 79.57142857142857 | Test Accuracy 81.66666666666667\n",
      "Epoch 46 | Train loss 0.5250560641288757\n",
      "Train Accuracy 78.0 | Test Accuracy 78.0\n",
      "Epoch 47 | Train loss 0.3598349690437317\n",
      "Train Accuracy 77.61904761904762 | Test Accuracy 79.22222222222223\n",
      "Epoch 48 | Train loss 0.5992671251296997\n",
      "Train Accuracy 77.23809523809524 | Test Accuracy 79.55555555555556\n",
      "Epoch 49 | Train loss 0.4916090667247772\n",
      "Train Accuracy 75.95238095238095 | Test Accuracy 76.88888888888889\n",
      "Epoch 50 | Train loss 0.34518179297447205\n",
      "Train Accuracy 79.33333333333333 | Test Accuracy 81.33333333333333\n",
      "Epoch 51 | Train loss 0.3831326365470886\n",
      "Train Accuracy 81.14285714285714 | Test Accuracy 82.33333333333334\n",
      "Epoch 52 | Train loss 0.513184130191803\n",
      "Train Accuracy 80.28571428571428 | Test Accuracy 81.22222222222221\n",
      "Epoch 53 | Train loss 0.49358218908309937\n",
      "Train Accuracy 81.23809523809524 | Test Accuracy 81.44444444444444\n",
      "Epoch 54 | Train loss 0.40230295062065125\n",
      "Train Accuracy 82.19047619047619 | Test Accuracy 81.22222222222221\n",
      "Epoch 55 | Train loss 0.5261706113815308\n",
      "Train Accuracy 75.71428571428571 | Test Accuracy 75.0\n",
      "Epoch 56 | Train loss 0.3054530918598175\n",
      "Train Accuracy 79.23809523809524 | Test Accuracy 79.44444444444444\n",
      "Epoch 57 | Train loss 0.3785794675350189\n",
      "Train Accuracy 82.23809523809524 | Test Accuracy 82.77777777777777\n",
      "Epoch 58 | Train loss 0.4088800847530365\n",
      "Train Accuracy 82.0 | Test Accuracy 82.66666666666667\n",
      "Epoch 59 | Train loss 0.4461716115474701\n",
      "Train Accuracy 79.33333333333333 | Test Accuracy 80.88888888888889\n",
      "Epoch 60 | Train loss 0.336590439081192\n",
      "Train Accuracy 83.33333333333334 | Test Accuracy 84.77777777777777\n",
      "Epoch 61 | Train loss 0.38890933990478516\n",
      "Train Accuracy 83.19047619047619 | Test Accuracy 84.11111111111111\n",
      "Epoch 62 | Train loss 0.5202170014381409\n",
      "Train Accuracy 78.33333333333333 | Test Accuracy 78.55555555555556\n",
      "Epoch 63 | Train loss 0.30488282442092896\n",
      "Train Accuracy 83.42857142857143 | Test Accuracy 83.22222222222221\n",
      "Epoch 64 | Train loss 0.2839427590370178\n",
      "Train Accuracy 83.42857142857143 | Test Accuracy 82.66666666666667\n",
      "Epoch 65 | Train loss 0.4130622446537018\n",
      "Train Accuracy 83.14285714285714 | Test Accuracy 83.22222222222221\n",
      "Epoch 66 | Train loss 0.3831537961959839\n",
      "Train Accuracy 83.0 | Test Accuracy 82.77777777777777\n",
      "Epoch 67 | Train loss 0.5016430616378784\n",
      "Train Accuracy 83.38095238095238 | Test Accuracy 81.88888888888889\n",
      "Epoch 68 | Train loss 0.5397268533706665\n",
      "Train Accuracy 78.52380952380953 | Test Accuracy 80.44444444444444\n",
      "Epoch 69 | Train loss 0.3779279291629791\n",
      "Train Accuracy 78.85714285714286 | Test Accuracy 79.0\n",
      "Epoch 70 | Train loss 0.6649425029754639\n",
      "Train Accuracy 80.14285714285714 | Test Accuracy 80.66666666666666\n",
      "Epoch 71 | Train loss 0.5136996507644653\n",
      "Train Accuracy 83.76190476190476 | Test Accuracy 82.88888888888889\n",
      "Epoch 72 | Train loss 0.4713802933692932\n",
      "Train Accuracy 83.76190476190476 | Test Accuracy 83.44444444444444\n",
      "Epoch 73 | Train loss 0.3157441020011902\n",
      "Train Accuracy 80.33333333333333 | Test Accuracy 80.44444444444444\n",
      "Epoch 74 | Train loss 0.3297743499279022\n",
      "Train Accuracy 84.47619047619047 | Test Accuracy 85.22222222222223\n",
      "Epoch 75 | Train loss 0.44229620695114136\n",
      "Train Accuracy 83.0 | Test Accuracy 82.33333333333334\n",
      "Epoch 76 | Train loss 0.24114027619361877\n",
      "Train Accuracy 81.57142857142857 | Test Accuracy 83.11111111111111\n",
      "Epoch 77 | Train loss 0.3276292681694031\n",
      "Train Accuracy 81.95238095238095 | Test Accuracy 81.22222222222221\n"
     ]
    },
    {
     "name": "stdout",
     "output_type": "stream",
     "text": [
      "Epoch 78 | Train loss 0.28257113695144653\n",
      "Train Accuracy 82.47619047619048 | Test Accuracy 84.33333333333334\n",
      "Epoch 79 | Train loss 0.4353817105293274\n",
      "Train Accuracy 83.0952380952381 | Test Accuracy 83.11111111111111\n",
      "Epoch 80 | Train loss 0.33858153223991394\n",
      "Train Accuracy 82.42857142857143 | Test Accuracy 81.44444444444444\n",
      "Epoch 81 | Train loss 0.38582009077072144\n",
      "Train Accuracy 82.76190476190476 | Test Accuracy 82.88888888888889\n",
      "Epoch 82 | Train loss 0.320221871137619\n",
      "Train Accuracy 84.0 | Test Accuracy 84.44444444444444\n",
      "Epoch 83 | Train loss 0.27144697308540344\n",
      "Train Accuracy 83.66666666666667 | Test Accuracy 84.77777777777777\n",
      "Epoch 84 | Train loss 0.43107250332832336\n",
      "Train Accuracy 82.14285714285714 | Test Accuracy 83.44444444444444\n",
      "Epoch 85 | Train loss 0.3441685438156128\n",
      "Train Accuracy 83.95238095238096 | Test Accuracy 83.44444444444444\n",
      "Epoch 86 | Train loss 0.4069664776325226\n",
      "Train Accuracy 82.66666666666667 | Test Accuracy 83.44444444444444\n",
      "Epoch 87 | Train loss 0.41796478629112244\n",
      "Train Accuracy 83.85714285714285 | Test Accuracy 83.88888888888889\n",
      "Epoch 88 | Train loss 0.46356141567230225\n",
      "Train Accuracy 75.04761904761905 | Test Accuracy 76.77777777777777\n",
      "Epoch 89 | Train loss 0.4106437563896179\n",
      "Train Accuracy 83.23809523809523 | Test Accuracy 83.0\n",
      "Epoch 90 | Train loss 0.3330930471420288\n",
      "Train Accuracy 81.0952380952381 | Test Accuracy 82.11111111111111\n",
      "Epoch 91 | Train loss 0.39632079005241394\n",
      "Train Accuracy 84.80952380952381 | Test Accuracy 84.33333333333334\n",
      "Epoch 92 | Train loss 0.31308120489120483\n",
      "Train Accuracy 84.38095238095238 | Test Accuracy 82.88888888888889\n",
      "Epoch 93 | Train loss 0.3069741427898407\n",
      "Train Accuracy 84.85714285714285 | Test Accuracy 84.66666666666667\n",
      "Epoch 94 | Train loss 0.42186233401298523\n",
      "Train Accuracy 83.61904761904762 | Test Accuracy 84.22222222222221\n",
      "Epoch 95 | Train loss 0.38844627141952515\n",
      "Train Accuracy 85.0 | Test Accuracy 85.22222222222223\n",
      "Epoch 96 | Train loss 0.427116721868515\n",
      "Train Accuracy 84.71428571428572 | Test Accuracy 84.22222222222221\n",
      "Epoch 97 | Train loss 0.35627108812332153\n",
      "Train Accuracy 84.85714285714285 | Test Accuracy 84.55555555555556\n",
      "Epoch 98 | Train loss 0.4876205325126648\n",
      "Train Accuracy 81.04761904761905 | Test Accuracy 82.0\n",
      "Epoch 99 | Train loss 0.32696643471717834\n",
      "Train Accuracy 84.66666666666667 | Test Accuracy 85.22222222222223\n",
      "Epoch 100 | Train loss 0.3797837495803833\n",
      "Train Accuracy 83.80952380952381 | Test Accuracy 84.55555555555556\n",
      "Epoch 101 | Train loss 0.37848028540611267\n",
      "Train Accuracy 82.42857142857143 | Test Accuracy 82.11111111111111\n",
      "Epoch 102 | Train loss 0.37168624997138977\n",
      "Train Accuracy 82.9047619047619 | Test Accuracy 83.55555555555556\n",
      "Epoch 103 | Train loss 0.4410567581653595\n",
      "Train Accuracy 84.95238095238096 | Test Accuracy 84.66666666666667\n",
      "Epoch 104 | Train loss 0.3398997187614441\n",
      "Train Accuracy 85.33333333333334 | Test Accuracy 84.55555555555556\n",
      "Epoch 105 | Train loss 0.40188345313072205\n",
      "Train Accuracy 85.14285714285714 | Test Accuracy 85.22222222222223\n",
      "Epoch 106 | Train loss 0.5112723112106323\n",
      "Train Accuracy 85.0 | Test Accuracy 84.11111111111111\n",
      "Epoch 107 | Train loss 0.43218356370925903\n",
      "Train Accuracy 79.80952380952381 | Test Accuracy 80.11111111111111\n",
      "Epoch 108 | Train loss 0.32467585802078247\n",
      "Train Accuracy 85.95238095238096 | Test Accuracy 83.33333333333334\n",
      "Epoch 109 | Train loss 0.550976037979126\n",
      "Train Accuracy 85.28571428571429 | Test Accuracy 84.22222222222221\n",
      "Epoch 110 | Train loss 0.3398498296737671\n",
      "Train Accuracy 80.85714285714286 | Test Accuracy 81.77777777777779\n",
      "Epoch 111 | Train loss 0.37922683358192444\n",
      "Train Accuracy 84.42857142857143 | Test Accuracy 84.66666666666667\n",
      "Epoch 112 | Train loss 0.2863144874572754\n",
      "Train Accuracy 85.42857142857143 | Test Accuracy 83.66666666666667\n",
      "Epoch 113 | Train loss 0.3813677430152893\n",
      "Train Accuracy 79.52380952380952 | Test Accuracy 79.88888888888889\n",
      "Epoch 114 | Train loss 0.44101399183273315\n",
      "Train Accuracy 84.61904761904762 | Test Accuracy 83.44444444444444\n",
      "Epoch 115 | Train loss 0.3985207974910736\n",
      "Train Accuracy 85.85714285714286 | Test Accuracy 85.44444444444444\n",
      "Epoch 116 | Train loss 0.4045869708061218\n",
      "Train Accuracy 85.42857142857143 | Test Accuracy 84.55555555555556\n",
      "Epoch 117 | Train loss 0.39764684438705444\n",
      "Train Accuracy 80.71428571428572 | Test Accuracy 81.33333333333333\n",
      "Epoch 118 | Train loss 0.2246123105287552\n",
      "Train Accuracy 86.42857142857143 | Test Accuracy 84.77777777777777\n",
      "Epoch 119 | Train loss 0.3479858636856079\n",
      "Train Accuracy 80.33333333333333 | Test Accuracy 80.55555555555556\n",
      "Epoch 120 | Train loss 0.28921589255332947\n",
      "Train Accuracy 86.19047619047619 | Test Accuracy 85.66666666666667\n",
      "Epoch 121 | Train loss 0.37671416997909546\n",
      "Train Accuracy 86.61904761904762 | Test Accuracy 85.22222222222223\n",
      "Epoch 122 | Train loss 0.2809613049030304\n",
      "Train Accuracy 86.47619047619047 | Test Accuracy 85.66666666666667\n",
      "Epoch 123 | Train loss 0.5317912697792053\n",
      "Train Accuracy 85.0 | Test Accuracy 84.88888888888889\n",
      "Epoch 124 | Train loss 0.533706545829773\n",
      "Train Accuracy 81.76190476190476 | Test Accuracy 81.0\n",
      "Epoch 125 | Train loss 0.3945799469947815\n",
      "Train Accuracy 84.19047619047619 | Test Accuracy 84.77777777777777\n",
      "Epoch 126 | Train loss 0.46701300144195557\n",
      "Train Accuracy 84.04761904761905 | Test Accuracy 84.88888888888889\n",
      "Epoch 127 | Train loss 0.35953474044799805\n",
      "Train Accuracy 86.14285714285714 | Test Accuracy 84.77777777777777\n",
      "Epoch 128 | Train loss 0.24752499163150787\n",
      "Train Accuracy 86.80952380952381 | Test Accuracy 86.11111111111111\n",
      "Epoch 129 | Train loss 0.23157136142253876\n",
      "Train Accuracy 86.52380952380952 | Test Accuracy 86.0\n",
      "Epoch 130 | Train loss 0.3708874583244324\n",
      "Train Accuracy 85.14285714285714 | Test Accuracy 85.44444444444444\n",
      "Epoch 131 | Train loss 0.3546089828014374\n",
      "Train Accuracy 85.85714285714286 | Test Accuracy 85.11111111111111\n",
      "Epoch 132 | Train loss 0.4853140115737915\n",
      "Train Accuracy 84.66666666666667 | Test Accuracy 84.88888888888889\n",
      "Epoch 133 | Train loss 0.3665512800216675\n",
      "Train Accuracy 83.61904761904762 | Test Accuracy 83.66666666666667\n",
      "Epoch 134 | Train loss 0.3060152232646942\n",
      "Train Accuracy 86.23809523809524 | Test Accuracy 84.22222222222221\n",
      "Epoch 135 | Train loss 0.23811839520931244\n",
      "Train Accuracy 85.52380952380952 | Test Accuracy 85.55555555555556\n",
      "Epoch 136 | Train loss 0.4283143877983093\n",
      "Train Accuracy 86.80952380952381 | Test Accuracy 86.66666666666667\n",
      "Epoch 137 | Train loss 0.44833865761756897\n",
      "Train Accuracy 86.04761904761905 | Test Accuracy 85.66666666666667\n",
      "Epoch 138 | Train loss 0.43770402669906616\n",
      "Train Accuracy 84.80952380952381 | Test Accuracy 83.66666666666667\n",
      "Epoch 139 | Train loss 0.35563409328460693\n",
      "Train Accuracy 85.33333333333334 | Test Accuracy 85.33333333333334\n",
      "Epoch 140 | Train loss 0.2578423321247101\n",
      "Train Accuracy 82.9047619047619 | Test Accuracy 83.44444444444444\n",
      "Epoch 141 | Train loss 0.369609534740448\n",
      "Train Accuracy 82.23809523809524 | Test Accuracy 82.88888888888889\n",
      "Epoch 142 | Train loss 0.274863064289093\n",
      "Train Accuracy 86.0 | Test Accuracy 85.77777777777777\n",
      "Epoch 143 | Train loss 0.3220440447330475\n",
      "Train Accuracy 85.38095238095238 | Test Accuracy 85.55555555555556\n",
      "Epoch 144 | Train loss 0.39185741543769836\n",
      "Train Accuracy 86.52380952380952 | Test Accuracy 86.11111111111111\n",
      "Epoch 145 | Train loss 0.303078830242157\n",
      "Train Accuracy 80.66666666666666 | Test Accuracy 81.11111111111111\n",
      "Epoch 146 | Train loss 0.23593205213546753\n",
      "Train Accuracy 82.61904761904762 | Test Accuracy 81.77777777777779\n",
      "Epoch 147 | Train loss 0.45024487376213074\n",
      "Train Accuracy 87.38095238095238 | Test Accuracy 86.11111111111111\n",
      "Epoch 148 | Train loss 0.2673960328102112\n",
      "Train Accuracy 84.28571428571429 | Test Accuracy 83.11111111111111\n",
      "Epoch 149 | Train loss 0.3705671727657318\n",
      "Train Accuracy 86.85714285714286 | Test Accuracy 85.77777777777777\n",
      "Epoch 150 | Train loss 0.3881849944591522\n",
      "Train Accuracy 86.38095238095238 | Test Accuracy 85.55555555555556\n",
      "Epoch 151 | Train loss 0.34680110216140747\n",
      "Train Accuracy 85.28571428571429 | Test Accuracy 84.55555555555556\n",
      "Epoch 152 | Train loss 0.2638455629348755\n",
      "Train Accuracy 84.04761904761905 | Test Accuracy 83.66666666666667\n",
      "Epoch 153 | Train loss 0.42533376812934875\n",
      "Train Accuracy 85.76190476190476 | Test Accuracy 85.88888888888889\n",
      "Epoch 154 | Train loss 0.3021795451641083\n"
     ]
    },
    {
     "name": "stdout",
     "output_type": "stream",
     "text": [
      "Train Accuracy 82.42857142857143 | Test Accuracy 83.33333333333334\n",
      "Epoch 155 | Train loss 0.438346266746521\n",
      "Train Accuracy 84.47619047619047 | Test Accuracy 84.44444444444444\n",
      "Epoch 156 | Train loss 0.3275497555732727\n",
      "Train Accuracy 87.33333333333333 | Test Accuracy 85.88888888888889\n",
      "Epoch 157 | Train loss 0.22397464513778687\n",
      "Train Accuracy 86.42857142857143 | Test Accuracy 86.0\n",
      "Epoch 158 | Train loss 0.38138264417648315\n",
      "Train Accuracy 87.23809523809524 | Test Accuracy 85.55555555555556\n",
      "Epoch 159 | Train loss 0.3546399474143982\n",
      "Train Accuracy 80.47619047619048 | Test Accuracy 80.88888888888889\n",
      "Epoch 160 | Train loss 0.5498676300048828\n",
      "Train Accuracy 82.38095238095238 | Test Accuracy 82.66666666666667\n",
      "Epoch 161 | Train loss 0.3249717354774475\n",
      "Train Accuracy 86.66666666666667 | Test Accuracy 86.77777777777777\n",
      "Epoch 162 | Train loss 0.25728335976600647\n",
      "Train Accuracy 86.28571428571429 | Test Accuracy 85.22222222222223\n",
      "Epoch 163 | Train loss 0.26821035146713257\n",
      "Train Accuracy 84.85714285714285 | Test Accuracy 86.77777777777777\n",
      "Epoch 164 | Train loss 0.36958566308021545\n",
      "Train Accuracy 81.38095238095238 | Test Accuracy 80.55555555555556\n",
      "Epoch 165 | Train loss 0.33891743421554565\n",
      "Train Accuracy 85.95238095238096 | Test Accuracy 86.0\n",
      "Epoch 166 | Train loss 0.23300543427467346\n",
      "Train Accuracy 87.90476190476191 | Test Accuracy 87.44444444444444\n",
      "Epoch 167 | Train loss 0.22161635756492615\n",
      "Train Accuracy 86.09523809523809 | Test Accuracy 84.55555555555556\n",
      "Epoch 168 | Train loss 0.30193066596984863\n",
      "Train Accuracy 86.23809523809524 | Test Accuracy 86.33333333333333\n",
      "Epoch 169 | Train loss 0.37107908725738525\n",
      "Train Accuracy 86.42857142857143 | Test Accuracy 85.66666666666667\n",
      "Epoch 170 | Train loss 0.3380611836910248\n",
      "Train Accuracy 86.0 | Test Accuracy 86.44444444444444\n",
      "Epoch 171 | Train loss 0.29712560772895813\n",
      "Train Accuracy 84.19047619047619 | Test Accuracy 83.55555555555556\n",
      "Epoch 172 | Train loss 0.3271031081676483\n",
      "Train Accuracy 86.14285714285714 | Test Accuracy 84.55555555555556\n",
      "Epoch 173 | Train loss 0.297111839056015\n",
      "Train Accuracy 85.14285714285714 | Test Accuracy 84.33333333333334\n",
      "Epoch 174 | Train loss 0.5457039475440979\n",
      "Train Accuracy 83.76190476190476 | Test Accuracy 84.22222222222221\n",
      "Epoch 175 | Train loss 0.26828864216804504\n",
      "Train Accuracy 83.52380952380952 | Test Accuracy 84.0\n",
      "Epoch 176 | Train loss 0.19125352799892426\n",
      "Train Accuracy 87.09523809523809 | Test Accuracy 86.66666666666667\n",
      "Epoch 177 | Train loss 0.25115084648132324\n",
      "Train Accuracy 85.95238095238096 | Test Accuracy 85.44444444444444\n",
      "Epoch 178 | Train loss 0.3279733657836914\n",
      "Train Accuracy 86.66666666666667 | Test Accuracy 85.44444444444444\n",
      "Epoch 179 | Train loss 0.4287503659725189\n",
      "Train Accuracy 87.19047619047619 | Test Accuracy 86.11111111111111\n",
      "Epoch 180 | Train loss 0.22943180799484253\n",
      "Train Accuracy 87.80952380952381 | Test Accuracy 86.8888888888889\n",
      "Epoch 181 | Train loss 0.2314145267009735\n",
      "Train Accuracy 86.04761904761905 | Test Accuracy 86.33333333333333\n",
      "Epoch 182 | Train loss 0.49744632840156555\n",
      "Train Accuracy 88.33333333333333 | Test Accuracy 88.22222222222223\n",
      "Epoch 183 | Train loss 0.3147721588611603\n",
      "Train Accuracy 88.04761904761905 | Test Accuracy 86.8888888888889\n",
      "Epoch 184 | Train loss 0.2515433728694916\n",
      "Train Accuracy 85.95238095238096 | Test Accuracy 86.33333333333333\n",
      "Epoch 185 | Train loss 0.39621302485466003\n",
      "Train Accuracy 86.66666666666667 | Test Accuracy 85.77777777777777\n",
      "Epoch 186 | Train loss 0.3014654815196991\n",
      "Train Accuracy 87.23809523809524 | Test Accuracy 87.77777777777777\n",
      "Epoch 187 | Train loss 0.2922556698322296\n",
      "Train Accuracy 86.19047619047619 | Test Accuracy 84.66666666666667\n",
      "Epoch 188 | Train loss 0.26773542165756226\n",
      "Train Accuracy 86.80952380952381 | Test Accuracy 85.11111111111111\n",
      "Epoch 189 | Train loss 0.29264384508132935\n",
      "Train Accuracy 86.23809523809524 | Test Accuracy 86.55555555555556\n",
      "Epoch 190 | Train loss 0.3983762562274933\n",
      "Train Accuracy 88.04761904761905 | Test Accuracy 87.77777777777777\n",
      "Epoch 191 | Train loss 0.33478468656539917\n",
      "Train Accuracy 80.80952380952381 | Test Accuracy 81.0\n",
      "Epoch 192 | Train loss 0.3820030987262726\n",
      "Train Accuracy 87.38095238095238 | Test Accuracy 87.1111111111111\n",
      "Epoch 193 | Train loss 0.23244689404964447\n",
      "Train Accuracy 87.52380952380953 | Test Accuracy 87.0\n",
      "Epoch 194 | Train loss 0.3029138743877411\n",
      "Train Accuracy 87.52380952380953 | Test Accuracy 87.66666666666667\n",
      "Epoch 195 | Train loss 0.36814913153648376\n",
      "Train Accuracy 86.38095238095238 | Test Accuracy 86.0\n",
      "Epoch 196 | Train loss 0.26178207993507385\n",
      "Train Accuracy 87.57142857142857 | Test Accuracy 87.44444444444444\n",
      "Epoch 197 | Train loss 0.3598938584327698\n",
      "Train Accuracy 87.66666666666667 | Test Accuracy 88.0\n",
      "Epoch 198 | Train loss 0.2216009497642517\n",
      "Train Accuracy 88.23809523809524 | Test Accuracy 87.33333333333333\n",
      "Epoch 199 | Train loss 0.1758260726928711\n",
      "Train Accuracy 87.09523809523809 | Test Accuracy 87.33333333333333\n",
      "Epoch 200 | Train loss 0.22362230718135834\n",
      "Train Accuracy 85.57142857142857 | Test Accuracy 86.44444444444444\n",
      "Epoch 201 | Train loss 0.4143613576889038\n",
      "Train Accuracy 86.38095238095238 | Test Accuracy 86.44444444444444\n",
      "Epoch 202 | Train loss 0.35512545704841614\n",
      "Train Accuracy 80.0952380952381 | Test Accuracy 80.44444444444444\n",
      "Epoch 203 | Train loss 0.39130958914756775\n",
      "Train Accuracy 86.47619047619047 | Test Accuracy 85.55555555555556\n",
      "Epoch 204 | Train loss 0.4550955891609192\n",
      "Train Accuracy 85.33333333333334 | Test Accuracy 86.11111111111111\n",
      "Epoch 205 | Train loss 0.2798087000846863\n",
      "Train Accuracy 86.66666666666667 | Test Accuracy 87.0\n",
      "Epoch 206 | Train loss 0.3219160735607147\n",
      "Train Accuracy 84.71428571428572 | Test Accuracy 83.44444444444444\n",
      "Epoch 207 | Train loss 0.2835928201675415\n",
      "Train Accuracy 85.09523809523809 | Test Accuracy 85.33333333333334\n",
      "Epoch 208 | Train loss 0.24394598603248596\n",
      "Train Accuracy 86.61904761904762 | Test Accuracy 87.33333333333333\n",
      "Epoch 209 | Train loss 0.4301554560661316\n",
      "Train Accuracy 88.33333333333333 | Test Accuracy 88.22222222222223\n",
      "Epoch 210 | Train loss 0.3071999251842499\n",
      "Train Accuracy 86.52380952380952 | Test Accuracy 86.8888888888889\n",
      "Epoch 211 | Train loss 0.3038434684276581\n",
      "Train Accuracy 87.57142857142857 | Test Accuracy 87.33333333333333\n",
      "Epoch 212 | Train loss 0.31116294860839844\n",
      "Train Accuracy 88.42857142857142 | Test Accuracy 88.33333333333333\n",
      "Epoch 213 | Train loss 0.29857662320137024\n",
      "Train Accuracy 85.14285714285714 | Test Accuracy 85.11111111111111\n",
      "Epoch 214 | Train loss 0.3994806110858917\n",
      "Train Accuracy 85.61904761904762 | Test Accuracy 85.77777777777777\n",
      "Epoch 215 | Train loss 0.101092129945755\n",
      "Train Accuracy 86.52380952380952 | Test Accuracy 87.22222222222223\n",
      "Epoch 216 | Train loss 0.5743492841720581\n",
      "Train Accuracy 81.23809523809524 | Test Accuracy 80.11111111111111\n",
      "Epoch 217 | Train loss 0.2412720024585724\n",
      "Train Accuracy 84.95238095238096 | Test Accuracy 84.33333333333334\n",
      "Epoch 218 | Train loss 0.23055361211299896\n",
      "Train Accuracy 85.42857142857143 | Test Accuracy 85.44444444444444\n",
      "Epoch 219 | Train loss 0.24154455959796906\n",
      "Train Accuracy 87.04761904761905 | Test Accuracy 87.8888888888889\n",
      "Epoch 220 | Train loss 0.29319101572036743\n",
      "Train Accuracy 87.71428571428571 | Test Accuracy 87.8888888888889\n",
      "Epoch 221 | Train loss 0.2964822053909302\n",
      "Train Accuracy 86.90476190476191 | Test Accuracy 87.1111111111111\n",
      "Epoch 222 | Train loss 0.2517898976802826\n",
      "Train Accuracy 86.14285714285714 | Test Accuracy 86.0\n",
      "Epoch 223 | Train loss 0.23463782668113708\n",
      "Train Accuracy 87.61904761904762 | Test Accuracy 88.0\n",
      "Epoch 224 | Train loss 0.3753148317337036\n",
      "Train Accuracy 87.61904761904762 | Test Accuracy 87.22222222222223\n",
      "Epoch 225 | Train loss 0.28693315386772156\n",
      "Train Accuracy 87.71428571428571 | Test Accuracy 86.77777777777777\n",
      "Epoch 226 | Train loss 0.368537575006485\n",
      "Train Accuracy 88.33333333333333 | Test Accuracy 88.22222222222223\n",
      "Epoch 227 | Train loss 0.29480984807014465\n",
      "Train Accuracy 87.80952380952381 | Test Accuracy 88.1111111111111\n",
      "Epoch 228 | Train loss 0.4002360701560974\n",
      "Train Accuracy 86.90476190476191 | Test Accuracy 86.8888888888889\n",
      "Epoch 229 | Train loss 0.3406832814216614\n",
      "Train Accuracy 87.23809523809524 | Test Accuracy 86.8888888888889\n",
      "Epoch 230 | Train loss 0.26573649048805237\n",
      "Train Accuracy 86.71428571428571 | Test Accuracy 87.22222222222223\n"
     ]
    },
    {
     "name": "stdout",
     "output_type": "stream",
     "text": [
      "Epoch 231 | Train loss 0.40637481212615967\n",
      "Train Accuracy 80.71428571428572 | Test Accuracy 80.77777777777779\n",
      "Epoch 232 | Train loss 0.3171873688697815\n",
      "Train Accuracy 88.04761904761905 | Test Accuracy 88.1111111111111\n",
      "Epoch 233 | Train loss 0.32558673620224\n",
      "Train Accuracy 87.90476190476191 | Test Accuracy 87.77777777777777\n",
      "Epoch 234 | Train loss 0.3107447624206543\n",
      "Train Accuracy 88.61904761904762 | Test Accuracy 88.1111111111111\n",
      "Epoch 235 | Train loss 0.3477529287338257\n",
      "Train Accuracy 85.04761904761905 | Test Accuracy 83.22222222222221\n",
      "Epoch 236 | Train loss 0.2593648135662079\n",
      "Train Accuracy 87.95238095238095 | Test Accuracy 88.33333333333333\n",
      "Epoch 237 | Train loss 0.3756321668624878\n",
      "Train Accuracy 84.04761904761905 | Test Accuracy 85.11111111111111\n",
      "Epoch 238 | Train loss 0.3235399127006531\n",
      "Train Accuracy 86.80952380952381 | Test Accuracy 88.22222222222223\n",
      "Epoch 239 | Train loss 0.2153378278017044\n",
      "Train Accuracy 78.33333333333333 | Test Accuracy 78.44444444444446\n",
      "Epoch 240 | Train loss 0.3493841588497162\n",
      "Train Accuracy 87.19047619047619 | Test Accuracy 85.66666666666667\n",
      "Epoch 241 | Train loss 0.30856558680534363\n",
      "Train Accuracy 84.95238095238096 | Test Accuracy 85.66666666666667\n",
      "Epoch 242 | Train loss 0.24860793352127075\n",
      "Train Accuracy 88.19047619047619 | Test Accuracy 88.88888888888889\n",
      "Epoch 243 | Train loss 0.3578111529350281\n",
      "Train Accuracy 85.0 | Test Accuracy 85.0\n",
      "Epoch 244 | Train loss 0.3022262454032898\n",
      "Train Accuracy 85.71428571428571 | Test Accuracy 84.55555555555556\n",
      "Epoch 245 | Train loss 0.3422110676765442\n",
      "Train Accuracy 86.28571428571429 | Test Accuracy 86.44444444444444\n",
      "Epoch 246 | Train loss 0.2412668764591217\n",
      "Train Accuracy 85.85714285714286 | Test Accuracy 84.55555555555556\n",
      "Epoch 247 | Train loss 0.2917991578578949\n",
      "Train Accuracy 86.85714285714286 | Test Accuracy 86.44444444444444\n",
      "Epoch 248 | Train loss 0.22525398433208466\n",
      "Train Accuracy 84.42857142857143 | Test Accuracy 84.33333333333334\n",
      "Epoch 249 | Train loss 0.27260106801986694\n",
      "Train Accuracy 87.85714285714286 | Test Accuracy 88.0\n",
      "Epoch 250 | Train loss 0.19648537039756775\n",
      "Train Accuracy 87.28571428571429 | Test Accuracy 87.0\n",
      "Epoch 251 | Train loss 0.3051319718360901\n",
      "Train Accuracy 87.76190476190476 | Test Accuracy 88.0\n",
      "Epoch 252 | Train loss 0.2985050082206726\n",
      "Train Accuracy 87.19047619047619 | Test Accuracy 88.1111111111111\n",
      "Epoch 253 | Train loss 0.1893787980079651\n",
      "Train Accuracy 88.14285714285714 | Test Accuracy 88.22222222222223\n",
      "Epoch 254 | Train loss 0.4261332154273987\n",
      "Train Accuracy 88.33333333333333 | Test Accuracy 88.77777777777777\n",
      "Epoch 255 | Train loss 0.45805132389068604\n",
      "Train Accuracy 79.71428571428572 | Test Accuracy 78.55555555555556\n",
      "Epoch 256 | Train loss 0.2984705865383148\n",
      "Train Accuracy 84.9047619047619 | Test Accuracy 85.0\n",
      "Epoch 257 | Train loss 0.2651814818382263\n",
      "Train Accuracy 87.28571428571429 | Test Accuracy 87.8888888888889\n",
      "Epoch 258 | Train loss 0.49133044481277466\n",
      "Train Accuracy 86.61904761904762 | Test Accuracy 86.66666666666667\n",
      "Epoch 259 | Train loss 0.2855162024497986\n",
      "Train Accuracy 88.0 | Test Accuracy 87.8888888888889\n",
      "Epoch 260 | Train loss 0.4466848373413086\n",
      "Train Accuracy 88.38095238095238 | Test Accuracy 88.88888888888889\n",
      "Epoch 261 | Train loss 0.3217752277851105\n",
      "Train Accuracy 85.33333333333334 | Test Accuracy 84.22222222222221\n",
      "Epoch 262 | Train loss 0.2524552047252655\n",
      "Train Accuracy 86.0 | Test Accuracy 86.0\n",
      "Epoch 263 | Train loss 0.2146645337343216\n",
      "Train Accuracy 87.90476190476191 | Test Accuracy 87.33333333333333\n",
      "Epoch 264 | Train loss 0.18860279023647308\n",
      "Train Accuracy 85.33333333333334 | Test Accuracy 85.33333333333334\n",
      "Epoch 265 | Train loss 0.5254904627799988\n",
      "Train Accuracy 87.38095238095238 | Test Accuracy 86.55555555555556\n",
      "Epoch 266 | Train loss 0.31401950120925903\n",
      "Train Accuracy 88.0 | Test Accuracy 88.33333333333333\n",
      "Epoch 267 | Train loss 0.37752625346183777\n",
      "Train Accuracy 88.14285714285714 | Test Accuracy 88.88888888888889\n",
      "Epoch 268 | Train loss 0.2466389536857605\n",
      "Train Accuracy 86.38095238095238 | Test Accuracy 86.66666666666667\n",
      "Epoch 269 | Train loss 0.21004590392112732\n",
      "Train Accuracy 88.28571428571429 | Test Accuracy 89.0\n",
      "Epoch 270 | Train loss 0.3416895568370819\n",
      "Train Accuracy 84.47619047619047 | Test Accuracy 85.33333333333334\n",
      "Epoch 271 | Train loss 0.19190381467342377\n",
      "Train Accuracy 87.42857142857143 | Test Accuracy 88.66666666666667\n",
      "Epoch 272 | Train loss 0.19183191657066345\n",
      "Train Accuracy 88.09523809523809 | Test Accuracy 89.0\n",
      "Epoch 273 | Train loss 0.27751845121383667\n",
      "Train Accuracy 87.95238095238095 | Test Accuracy 87.55555555555556\n",
      "Epoch 274 | Train loss 0.27386194467544556\n",
      "Train Accuracy 88.23809523809524 | Test Accuracy 89.33333333333333\n",
      "Epoch 275 | Train loss 0.2880096137523651\n",
      "Train Accuracy 88.47619047619048 | Test Accuracy 88.66666666666667\n",
      "Epoch 276 | Train loss 0.2921755611896515\n",
      "Train Accuracy 87.52380952380953 | Test Accuracy 87.8888888888889\n",
      "Epoch 277 | Train loss 0.2957366704940796\n",
      "Train Accuracy 87.09523809523809 | Test Accuracy 87.22222222222223\n",
      "Epoch 278 | Train loss 0.2874193787574768\n",
      "Train Accuracy 85.95238095238096 | Test Accuracy 84.33333333333334\n",
      "Epoch 279 | Train loss 0.35189124941825867\n",
      "Train Accuracy 87.38095238095238 | Test Accuracy 87.22222222222223\n",
      "Epoch 280 | Train loss 0.29274970293045044\n",
      "Train Accuracy 88.71428571428571 | Test Accuracy 88.66666666666667\n",
      "Epoch 281 | Train loss 0.3492777645587921\n",
      "Train Accuracy 84.76190476190476 | Test Accuracy 84.33333333333334\n",
      "Epoch 282 | Train loss 0.27456000447273254\n",
      "Train Accuracy 84.19047619047619 | Test Accuracy 85.0\n",
      "Epoch 283 | Train loss 0.2683456242084503\n",
      "Train Accuracy 86.76190476190476 | Test Accuracy 88.0\n",
      "Epoch 284 | Train loss 0.2829998731613159\n",
      "Train Accuracy 87.95238095238095 | Test Accuracy 88.33333333333333\n",
      "Epoch 285 | Train loss 0.3300231397151947\n",
      "Train Accuracy 86.90476190476191 | Test Accuracy 86.8888888888889\n",
      "Epoch 286 | Train loss 0.25019586086273193\n",
      "Train Accuracy 88.09523809523809 | Test Accuracy 87.33333333333333\n",
      "Epoch 287 | Train loss 0.2116203010082245\n",
      "Train Accuracy 86.52380952380952 | Test Accuracy 86.8888888888889\n",
      "Epoch 288 | Train loss 0.3755660653114319\n",
      "Train Accuracy 88.52380952380953 | Test Accuracy 88.55555555555556\n",
      "Epoch 289 | Train loss 0.33908334374427795\n",
      "Train Accuracy 82.0 | Test Accuracy 83.55555555555556\n",
      "Epoch 290 | Train loss 0.28028908371925354\n",
      "Train Accuracy 83.33333333333334 | Test Accuracy 82.88888888888889\n",
      "Epoch 291 | Train loss 0.4618724286556244\n",
      "Train Accuracy 79.95238095238095 | Test Accuracy 80.77777777777779\n",
      "Epoch 292 | Train loss 0.22738692164421082\n",
      "Train Accuracy 86.85714285714286 | Test Accuracy 87.0\n",
      "Epoch 293 | Train loss 0.3441297113895416\n",
      "Train Accuracy 82.61904761904762 | Test Accuracy 82.33333333333334\n",
      "Epoch 294 | Train loss 0.2229457050561905\n",
      "Train Accuracy 84.57142857142857 | Test Accuracy 85.11111111111111\n",
      "Epoch 295 | Train loss 0.27539703249931335\n",
      "Train Accuracy 88.80952380952381 | Test Accuracy 88.77777777777777\n",
      "Epoch 296 | Train loss 0.25413602590560913\n",
      "Train Accuracy 88.23809523809524 | Test Accuracy 89.88888888888889\n",
      "Epoch 297 | Train loss 0.47064733505249023\n",
      "Train Accuracy 88.47619047619048 | Test Accuracy 87.44444444444444\n",
      "Epoch 298 | Train loss 0.34162774682044983\n",
      "Train Accuracy 87.71428571428571 | Test Accuracy 86.8888888888889\n",
      "Epoch 299 | Train loss 0.09820569306612015\n",
      "Train Accuracy 87.57142857142857 | Test Accuracy 89.22222222222223\n",
      "Epoch 300 | Train loss 0.3118458092212677\n",
      "Train Accuracy 81.23809523809524 | Test Accuracy 82.77777777777777\n",
      "Epoch 301 | Train loss 0.3226790130138397\n",
      "Train Accuracy 86.80952380952381 | Test Accuracy 86.8888888888889\n",
      "Epoch 302 | Train loss 0.17493802309036255\n",
      "Train Accuracy 84.76190476190476 | Test Accuracy 85.22222222222223\n",
      "Epoch 303 | Train loss 0.2675490081310272\n",
      "Train Accuracy 88.19047619047619 | Test Accuracy 88.77777777777777\n",
      "Epoch 304 | Train loss 0.3080618977546692\n",
      "Train Accuracy 86.76190476190476 | Test Accuracy 86.33333333333333\n",
      "Epoch 305 | Train loss 0.1950727254152298\n",
      "Train Accuracy 88.42857142857142 | Test Accuracy 87.55555555555556\n",
      "Epoch 306 | Train loss 0.3428894877433777\n",
      "Train Accuracy 83.80952380952381 | Test Accuracy 84.11111111111111\n",
      "Epoch 307 | Train loss 0.27686408162117004\n",
      "Train Accuracy 87.71428571428571 | Test Accuracy 86.8888888888889\n"
     ]
    },
    {
     "name": "stdout",
     "output_type": "stream",
     "text": [
      "Epoch 308 | Train loss 0.30328381061553955\n",
      "Train Accuracy 85.95238095238096 | Test Accuracy 85.88888888888889\n",
      "Epoch 309 | Train loss 0.2463977187871933\n",
      "Train Accuracy 88.14285714285714 | Test Accuracy 88.77777777777777\n",
      "Epoch 310 | Train loss 0.2552562952041626\n",
      "Train Accuracy 87.52380952380953 | Test Accuracy 86.44444444444444\n",
      "Epoch 311 | Train loss 0.2729860544204712\n",
      "Train Accuracy 87.23809523809524 | Test Accuracy 86.77777777777777\n",
      "Epoch 312 | Train loss 0.3205949068069458\n",
      "Train Accuracy 87.23809523809524 | Test Accuracy 86.55555555555556\n",
      "Epoch 313 | Train loss 0.26636236906051636\n",
      "Train Accuracy 85.61904761904762 | Test Accuracy 84.77777777777777\n",
      "Epoch 314 | Train loss 0.35274988412857056\n",
      "Train Accuracy 88.47619047619048 | Test Accuracy 88.44444444444444\n",
      "Epoch 315 | Train loss 0.5237073302268982\n",
      "Train Accuracy 89.04761904761904 | Test Accuracy 88.77777777777777\n",
      "Epoch 316 | Train loss 0.33349868655204773\n",
      "Train Accuracy 86.76190476190476 | Test Accuracy 88.0\n",
      "Epoch 317 | Train loss 0.364855021238327\n",
      "Train Accuracy 87.66666666666667 | Test Accuracy 87.22222222222223\n",
      "Epoch 318 | Train loss 0.36413949728012085\n",
      "Train Accuracy 86.90476190476191 | Test Accuracy 87.1111111111111\n",
      "Epoch 319 | Train loss 0.22671464085578918\n",
      "Train Accuracy 89.09523809523809 | Test Accuracy 88.77777777777777\n",
      "Epoch 320 | Train loss 0.528774082660675\n",
      "Train Accuracy 88.38095238095238 | Test Accuracy 89.0\n",
      "Epoch 321 | Train loss 0.1557990163564682\n",
      "Train Accuracy 87.71428571428571 | Test Accuracy 87.77777777777777\n",
      "Epoch 322 | Train loss 0.37354347109794617\n",
      "Train Accuracy 87.23809523809524 | Test Accuracy 86.77777777777777\n",
      "Epoch 323 | Train loss 0.2559766471385956\n",
      "Train Accuracy 87.90476190476191 | Test Accuracy 88.22222222222223\n",
      "Epoch 324 | Train loss 0.4047498106956482\n",
      "Train Accuracy 88.23809523809524 | Test Accuracy 87.55555555555556\n",
      "Epoch 325 | Train loss 0.3839457631111145\n",
      "Train Accuracy 85.38095238095238 | Test Accuracy 85.55555555555556\n",
      "Epoch 326 | Train loss 0.3138209879398346\n",
      "Train Accuracy 85.95238095238096 | Test Accuracy 85.44444444444444\n",
      "Epoch 327 | Train loss 0.1763928234577179\n",
      "Train Accuracy 88.66666666666667 | Test Accuracy 88.33333333333333\n",
      "Epoch 328 | Train loss 0.29081612825393677\n",
      "Train Accuracy 87.19047619047619 | Test Accuracy 86.77777777777777\n",
      "Epoch 329 | Train loss 0.3437967598438263\n",
      "Train Accuracy 85.90476190476191 | Test Accuracy 84.55555555555556\n",
      "Epoch 330 | Train loss 0.16777506470680237\n",
      "Train Accuracy 87.61904761904762 | Test Accuracy 88.33333333333333\n",
      "Epoch 331 | Train loss 0.31721025705337524\n",
      "Train Accuracy 88.95238095238095 | Test Accuracy 89.22222222222223\n",
      "Epoch 332 | Train loss 0.31551674008369446\n",
      "Train Accuracy 84.9047619047619 | Test Accuracy 84.88888888888889\n",
      "Epoch 333 | Train loss 0.5209228992462158\n",
      "Train Accuracy 85.61904761904762 | Test Accuracy 85.33333333333334\n",
      "Epoch 334 | Train loss 0.42186209559440613\n",
      "Train Accuracy 88.95238095238095 | Test Accuracy 89.0\n",
      "Epoch 335 | Train loss 0.2504296600818634\n",
      "Train Accuracy 88.66666666666667 | Test Accuracy 88.44444444444444\n",
      "Epoch 336 | Train loss 0.34124499559402466\n",
      "Train Accuracy 86.90476190476191 | Test Accuracy 87.44444444444444\n",
      "Epoch 337 | Train loss 0.1879846155643463\n",
      "Train Accuracy 87.28571428571429 | Test Accuracy 87.1111111111111\n",
      "Epoch 338 | Train loss 0.40124833583831787\n",
      "Train Accuracy 86.23809523809524 | Test Accuracy 86.33333333333333\n",
      "Epoch 339 | Train loss 0.25139835476875305\n",
      "Train Accuracy 88.47619047619048 | Test Accuracy 87.8888888888889\n",
      "Epoch 340 | Train loss 0.352945476770401\n",
      "Train Accuracy 85.14285714285714 | Test Accuracy 85.11111111111111\n",
      "Epoch 341 | Train loss 0.2965078055858612\n",
      "Train Accuracy 88.61904761904762 | Test Accuracy 88.22222222222223\n",
      "Epoch 342 | Train loss 0.31036683917045593\n",
      "Train Accuracy 84.38095238095238 | Test Accuracy 84.66666666666667\n",
      "Epoch 343 | Train loss 0.28380265831947327\n",
      "Train Accuracy 88.04761904761905 | Test Accuracy 88.77777777777777\n",
      "Epoch 344 | Train loss 0.3445720970630646\n",
      "Train Accuracy 87.95238095238095 | Test Accuracy 87.22222222222223\n",
      "Epoch 345 | Train loss 0.2543184757232666\n",
      "Train Accuracy 87.38095238095238 | Test Accuracy 86.8888888888889\n",
      "Epoch 346 | Train loss 0.3045108914375305\n",
      "Train Accuracy 86.61904761904762 | Test Accuracy 85.33333333333334\n",
      "Epoch 347 | Train loss 0.2143712192773819\n",
      "Train Accuracy 86.42857142857143 | Test Accuracy 85.55555555555556\n",
      "Epoch 348 | Train loss 0.2526741623878479\n",
      "Train Accuracy 87.19047619047619 | Test Accuracy 87.0\n",
      "Epoch 349 | Train loss 0.13992322981357574\n",
      "Train Accuracy 89.23809523809524 | Test Accuracy 88.55555555555556\n",
      "Epoch 350 | Train loss 0.18251904845237732\n",
      "Train Accuracy 87.71428571428571 | Test Accuracy 88.55555555555556\n",
      "Epoch 351 | Train loss 0.33313465118408203\n",
      "Train Accuracy 88.09523809523809 | Test Accuracy 88.33333333333333\n",
      "Epoch 352 | Train loss 0.22582514584064484\n",
      "Train Accuracy 88.76190476190476 | Test Accuracy 87.77777777777777\n",
      "Epoch 353 | Train loss 0.2582555115222931\n",
      "Train Accuracy 88.42857142857142 | Test Accuracy 87.33333333333333\n",
      "Epoch 354 | Train loss 0.3170330226421356\n",
      "Train Accuracy 87.42857142857143 | Test Accuracy 86.55555555555556\n",
      "Epoch 355 | Train loss 0.23787914216518402\n",
      "Train Accuracy 88.66666666666667 | Test Accuracy 88.22222222222223\n",
      "Epoch 356 | Train loss 0.3680831491947174\n",
      "Train Accuracy 84.52380952380952 | Test Accuracy 84.88888888888889\n",
      "Epoch 357 | Train loss 0.30833277106285095\n",
      "Train Accuracy 87.23809523809524 | Test Accuracy 88.1111111111111\n",
      "Epoch 358 | Train loss 0.2898365557193756\n",
      "Train Accuracy 88.61904761904762 | Test Accuracy 88.22222222222223\n",
      "Epoch 359 | Train loss 0.35273072123527527\n",
      "Train Accuracy 89.33333333333333 | Test Accuracy 87.77777777777777\n",
      "Epoch 360 | Train loss 0.15651123225688934\n",
      "Train Accuracy 86.0 | Test Accuracy 86.77777777777777\n",
      "Epoch 361 | Train loss 0.3085504174232483\n",
      "Train Accuracy 85.23809523809524 | Test Accuracy 85.55555555555556\n",
      "Epoch 362 | Train loss 0.4420888125896454\n",
      "Train Accuracy 89.04761904761904 | Test Accuracy 89.44444444444444\n",
      "Epoch 363 | Train loss 0.23401162028312683\n",
      "Train Accuracy 86.19047619047619 | Test Accuracy 87.33333333333333\n",
      "Epoch 364 | Train loss 0.2354862540960312\n",
      "Train Accuracy 88.71428571428571 | Test Accuracy 89.22222222222223\n",
      "Epoch 365 | Train loss 0.2489631026983261\n",
      "Train Accuracy 88.04761904761905 | Test Accuracy 88.55555555555556\n",
      "Epoch 366 | Train loss 0.3894598186016083\n",
      "Train Accuracy 88.38095238095238 | Test Accuracy 88.88888888888889\n",
      "Epoch 367 | Train loss 0.38463300466537476\n",
      "Train Accuracy 87.71428571428571 | Test Accuracy 88.66666666666667\n",
      "Epoch 368 | Train loss 0.27541252970695496\n",
      "Train Accuracy 88.38095238095238 | Test Accuracy 88.77777777777777\n",
      "Epoch 369 | Train loss 0.19019633531570435\n",
      "Train Accuracy 88.61904761904762 | Test Accuracy 89.55555555555556\n",
      "Epoch 370 | Train loss 0.18973247706890106\n",
      "Train Accuracy 88.23809523809524 | Test Accuracy 88.1111111111111\n",
      "Epoch 371 | Train loss 0.3920630216598511\n",
      "Train Accuracy 86.33333333333333 | Test Accuracy 87.1111111111111\n",
      "Epoch 372 | Train loss 0.14797233045101166\n",
      "Train Accuracy 88.0 | Test Accuracy 88.77777777777777\n",
      "Epoch 373 | Train loss 0.20383411645889282\n",
      "Train Accuracy 87.95238095238095 | Test Accuracy 88.44444444444444\n",
      "Epoch 374 | Train loss 0.3558651804924011\n",
      "Train Accuracy 88.19047619047619 | Test Accuracy 87.44444444444444\n",
      "Epoch 375 | Train loss 0.25194051861763\n",
      "Train Accuracy 88.80952380952381 | Test Accuracy 88.0\n",
      "Epoch 376 | Train loss 0.3117411434650421\n",
      "Train Accuracy 85.80952380952381 | Test Accuracy 85.44444444444444\n",
      "Epoch 377 | Train loss 0.32618433237075806\n",
      "Train Accuracy 85.28571428571429 | Test Accuracy 85.88888888888889\n",
      "Epoch 378 | Train loss 0.317281574010849\n",
      "Train Accuracy 87.04761904761905 | Test Accuracy 86.44444444444444\n",
      "Epoch 379 | Train loss 0.3138349950313568\n",
      "Train Accuracy 88.33333333333333 | Test Accuracy 88.33333333333333\n",
      "Epoch 380 | Train loss 0.25487220287323\n",
      "Train Accuracy 87.38095238095238 | Test Accuracy 87.44444444444444\n",
      "Epoch 381 | Train loss 0.2870442569255829\n",
      "Train Accuracy 88.95238095238095 | Test Accuracy 88.1111111111111\n",
      "Epoch 382 | Train loss 0.19315408170223236\n",
      "Train Accuracy 88.09523809523809 | Test Accuracy 87.1111111111111\n",
      "Epoch 383 | Train loss 0.2965964078903198\n",
      "Train Accuracy 87.85714285714286 | Test Accuracy 87.22222222222223\n"
     ]
    },
    {
     "name": "stdout",
     "output_type": "stream",
     "text": [
      "Epoch 384 | Train loss 0.35657912492752075\n",
      "Train Accuracy 86.04761904761905 | Test Accuracy 86.0\n",
      "Epoch 385 | Train loss 0.2165341079235077\n",
      "Train Accuracy 88.90476190476191 | Test Accuracy 88.88888888888889\n",
      "Epoch 386 | Train loss 0.24677404761314392\n",
      "Train Accuracy 88.09523809523809 | Test Accuracy 87.77777777777777\n",
      "Epoch 387 | Train loss 0.2108360230922699\n",
      "Train Accuracy 88.09523809523809 | Test Accuracy 88.55555555555556\n",
      "Epoch 388 | Train loss 0.1948544830083847\n",
      "Train Accuracy 87.95238095238095 | Test Accuracy 85.77777777777777\n",
      "Epoch 389 | Train loss 0.3085249662399292\n",
      "Train Accuracy 87.23809523809524 | Test Accuracy 87.33333333333333\n",
      "Epoch 390 | Train loss 0.48172810673713684\n",
      "Train Accuracy 81.23809523809524 | Test Accuracy 82.66666666666667\n",
      "Epoch 391 | Train loss 0.262001097202301\n",
      "Train Accuracy 89.71428571428571 | Test Accuracy 89.0\n",
      "Epoch 392 | Train loss 0.35907113552093506\n",
      "Train Accuracy 88.71428571428571 | Test Accuracy 88.33333333333333\n",
      "Epoch 393 | Train loss 0.30640092492103577\n",
      "Train Accuracy 88.90476190476191 | Test Accuracy 87.77777777777777\n",
      "Epoch 394 | Train loss 0.23352912068367004\n",
      "Train Accuracy 88.66666666666667 | Test Accuracy 89.44444444444444\n",
      "Epoch 395 | Train loss 0.2326241433620453\n",
      "Train Accuracy 89.33333333333333 | Test Accuracy 89.11111111111111\n",
      "Epoch 396 | Train loss 0.3061866760253906\n",
      "Train Accuracy 89.57142857142857 | Test Accuracy 87.77777777777777\n",
      "Epoch 397 | Train loss 0.2952384352684021\n",
      "Train Accuracy 87.66666666666667 | Test Accuracy 86.55555555555556\n",
      "Epoch 398 | Train loss 0.30903851985931396\n",
      "Train Accuracy 87.85714285714286 | Test Accuracy 87.0\n",
      "Epoch 399 | Train loss 0.25135713815689087\n",
      "Train Accuracy 87.61904761904762 | Test Accuracy 87.1111111111111\n",
      "Epoch 400 | Train loss 0.1635213941335678\n",
      "Train Accuracy 86.76190476190476 | Test Accuracy 85.77777777777777\n",
      "Epoch 401 | Train loss 0.21911580860614777\n",
      "Train Accuracy 87.57142857142857 | Test Accuracy 87.44444444444444\n",
      "Epoch 402 | Train loss 0.2773527503013611\n",
      "Train Accuracy 88.76190476190476 | Test Accuracy 87.55555555555556\n",
      "Epoch 403 | Train loss 0.3421694040298462\n",
      "Train Accuracy 87.80952380952381 | Test Accuracy 87.77777777777777\n",
      "Epoch 404 | Train loss 0.5345925092697144\n",
      "Train Accuracy 88.19047619047619 | Test Accuracy 87.55555555555556\n",
      "Epoch 405 | Train loss 0.24553264677524567\n",
      "Train Accuracy 83.76190476190476 | Test Accuracy 83.22222222222221\n",
      "Epoch 406 | Train loss 0.1984768807888031\n",
      "Train Accuracy 88.19047619047619 | Test Accuracy 88.0\n",
      "Epoch 407 | Train loss 0.3375808298587799\n",
      "Train Accuracy 88.38095238095238 | Test Accuracy 87.33333333333333\n",
      "Epoch 408 | Train loss 0.32731521129608154\n",
      "Train Accuracy 85.42857142857143 | Test Accuracy 85.11111111111111\n",
      "Epoch 409 | Train loss 0.1745869517326355\n",
      "Train Accuracy 86.61904761904762 | Test Accuracy 85.33333333333334\n",
      "Epoch 410 | Train loss 0.31582367420196533\n",
      "Train Accuracy 87.14285714285714 | Test Accuracy 86.8888888888889\n",
      "Epoch 411 | Train loss 0.34571459889411926\n",
      "Train Accuracy 86.95238095238095 | Test Accuracy 87.0\n",
      "Epoch 412 | Train loss 0.1922639161348343\n",
      "Train Accuracy 89.28571428571429 | Test Accuracy 88.33333333333333\n",
      "Epoch 413 | Train loss 0.29703232645988464\n",
      "Train Accuracy 89.33333333333333 | Test Accuracy 87.8888888888889\n",
      "Epoch 414 | Train loss 0.2150324434041977\n",
      "Train Accuracy 87.0 | Test Accuracy 88.22222222222223\n",
      "Epoch 415 | Train loss 0.24065083265304565\n",
      "Train Accuracy 86.38095238095238 | Test Accuracy 86.55555555555556\n",
      "Epoch 416 | Train loss 0.48182213306427\n",
      "Train Accuracy 88.52380952380953 | Test Accuracy 88.44444444444444\n",
      "Epoch 417 | Train loss 0.25792619585990906\n",
      "Train Accuracy 86.38095238095238 | Test Accuracy 86.22222222222223\n",
      "Epoch 418 | Train loss 0.2843397259712219\n",
      "Train Accuracy 87.95238095238095 | Test Accuracy 87.0\n",
      "Epoch 419 | Train loss 0.16725660860538483\n",
      "Train Accuracy 89.14285714285714 | Test Accuracy 88.33333333333333\n",
      "Epoch 420 | Train loss 0.22486139833927155\n",
      "Train Accuracy 89.33333333333333 | Test Accuracy 88.1111111111111\n",
      "Epoch 421 | Train loss 0.2808504104614258\n",
      "Train Accuracy 84.38095238095238 | Test Accuracy 83.44444444444444\n",
      "Epoch 422 | Train loss 0.355968177318573\n",
      "Train Accuracy 87.66666666666667 | Test Accuracy 86.55555555555556\n",
      "Epoch 423 | Train loss 0.3156607449054718\n",
      "Train Accuracy 88.14285714285714 | Test Accuracy 87.0\n",
      "Epoch 424 | Train loss 0.2040957659482956\n",
      "Train Accuracy 88.14285714285714 | Test Accuracy 87.66666666666667\n",
      "Epoch 425 | Train loss 0.2654406428337097\n",
      "Train Accuracy 88.71428571428571 | Test Accuracy 89.0\n",
      "Epoch 426 | Train loss 0.24198804795742035\n",
      "Train Accuracy 85.38095238095238 | Test Accuracy 85.88888888888889\n",
      "Epoch 427 | Train loss 0.35202810168266296\n",
      "Train Accuracy 85.23809523809524 | Test Accuracy 84.22222222222221\n",
      "Epoch 428 | Train loss 0.21890594065189362\n",
      "Train Accuracy 89.09523809523809 | Test Accuracy 88.55555555555556\n",
      "Epoch 429 | Train loss 0.2952330410480499\n",
      "Train Accuracy 87.09523809523809 | Test Accuracy 86.0\n",
      "Epoch 430 | Train loss 0.13987325131893158\n",
      "Train Accuracy 88.47619047619048 | Test Accuracy 88.77777777777777\n",
      "Epoch 431 | Train loss 0.21218252182006836\n",
      "Train Accuracy 89.57142857142857 | Test Accuracy 89.33333333333333\n",
      "Epoch 432 | Train loss 0.26922550797462463\n",
      "Train Accuracy 89.80952380952381 | Test Accuracy 88.77777777777777\n",
      "Epoch 433 | Train loss 0.266167014837265\n",
      "Train Accuracy 89.80952380952381 | Test Accuracy 89.11111111111111\n",
      "Epoch 434 | Train loss 0.2158704549074173\n",
      "Train Accuracy 89.57142857142857 | Test Accuracy 88.33333333333333\n",
      "Epoch 435 | Train loss 0.18767865002155304\n",
      "Train Accuracy 89.90476190476191 | Test Accuracy 88.66666666666667\n",
      "Epoch 436 | Train loss 0.3696313202381134\n",
      "Train Accuracy 88.71428571428571 | Test Accuracy 87.77777777777777\n",
      "Epoch 437 | Train loss 0.24636314809322357\n",
      "Train Accuracy 88.61904761904762 | Test Accuracy 87.44444444444444\n",
      "Epoch 438 | Train loss 0.38207656145095825\n",
      "Train Accuracy 89.71428571428571 | Test Accuracy 89.77777777777777\n",
      "Epoch 439 | Train loss 0.45164018869400024\n",
      "Train Accuracy 87.14285714285714 | Test Accuracy 87.33333333333333\n",
      "Epoch 440 | Train loss 0.35442987084388733\n",
      "Train Accuracy 88.71428571428571 | Test Accuracy 87.33333333333333\n",
      "Epoch 441 | Train loss 0.3735920488834381\n",
      "Train Accuracy 84.47619047619047 | Test Accuracy 84.0\n",
      "Epoch 442 | Train loss 0.26794302463531494\n",
      "Train Accuracy 88.38095238095238 | Test Accuracy 86.66666666666667\n",
      "Epoch 443 | Train loss 0.25576668977737427\n",
      "Train Accuracy 89.76190476190476 | Test Accuracy 88.1111111111111\n",
      "Epoch 444 | Train loss 0.18238958716392517\n",
      "Train Accuracy 90.0952380952381 | Test Accuracy 89.44444444444444\n",
      "Epoch 445 | Train loss 0.2605089843273163\n",
      "Train Accuracy 82.57142857142857 | Test Accuracy 83.0\n",
      "Epoch 446 | Train loss 0.3920968472957611\n",
      "Train Accuracy 88.95238095238095 | Test Accuracy 88.22222222222223\n",
      "Epoch 447 | Train loss 0.3068838119506836\n",
      "Train Accuracy 89.42857142857143 | Test Accuracy 89.66666666666666\n",
      "Epoch 448 | Train loss 0.2701295018196106\n",
      "Train Accuracy 89.76190476190476 | Test Accuracy 88.44444444444444\n",
      "Epoch 449 | Train loss 0.2748781442642212\n",
      "Train Accuracy 90.23809523809524 | Test Accuracy 89.11111111111111\n",
      "Epoch 450 | Train loss 0.27602624893188477\n",
      "Train Accuracy 89.90476190476191 | Test Accuracy 88.88888888888889\n",
      "Epoch 451 | Train loss 0.36990779638290405\n",
      "Train Accuracy 89.0 | Test Accuracy 88.33333333333333\n",
      "Epoch 452 | Train loss 0.2676551938056946\n",
      "Train Accuracy 86.38095238095238 | Test Accuracy 86.11111111111111\n",
      "Epoch 453 | Train loss 0.3222082555294037\n",
      "Train Accuracy 81.42857142857143 | Test Accuracy 80.44444444444444\n",
      "Epoch 454 | Train loss 0.2341771125793457\n",
      "Train Accuracy 88.14285714285714 | Test Accuracy 86.66666666666667\n",
      "Epoch 455 | Train loss 0.28994297981262207\n",
      "Train Accuracy 89.66666666666666 | Test Accuracy 88.33333333333333\n",
      "Epoch 456 | Train loss 0.28451836109161377\n",
      "Train Accuracy 86.76190476190476 | Test Accuracy 85.66666666666667\n",
      "Epoch 457 | Train loss 0.33670833706855774\n",
      "Train Accuracy 89.52380952380953 | Test Accuracy 88.1111111111111\n",
      "Epoch 458 | Train loss 0.38672584295272827\n",
      "Train Accuracy 88.28571428571429 | Test Accuracy 87.44444444444444\n",
      "Epoch 459 | Train loss 0.2900379002094269\n",
      "Train Accuracy 90.14285714285715 | Test Accuracy 88.77777777777777\n",
      "Epoch 460 | Train loss 0.23658062517642975\n",
      "Train Accuracy 88.14285714285714 | Test Accuracy 87.33333333333333\n"
     ]
    },
    {
     "name": "stdout",
     "output_type": "stream",
     "text": [
      "Epoch 461 | Train loss 0.542967677116394\n",
      "Train Accuracy 89.90476190476191 | Test Accuracy 88.55555555555556\n",
      "Epoch 462 | Train loss 0.18926750123500824\n",
      "Train Accuracy 77.76190476190476 | Test Accuracy 77.88888888888889\n",
      "Epoch 463 | Train loss 0.4292251169681549\n",
      "Train Accuracy 88.66666666666667 | Test Accuracy 89.55555555555556\n",
      "Epoch 464 | Train loss 0.24333256483078003\n",
      "Train Accuracy 87.38095238095238 | Test Accuracy 86.44444444444444\n",
      "Epoch 465 | Train loss 0.1639043688774109\n",
      "Train Accuracy 88.90476190476191 | Test Accuracy 87.66666666666667\n",
      "Epoch 466 | Train loss 0.3548066318035126\n",
      "Train Accuracy 87.95238095238095 | Test Accuracy 87.1111111111111\n",
      "Epoch 467 | Train loss 0.22790423035621643\n",
      "Train Accuracy 88.85714285714286 | Test Accuracy 87.77777777777777\n",
      "Epoch 468 | Train loss 0.37360313534736633\n",
      "Train Accuracy 87.80952380952381 | Test Accuracy 86.11111111111111\n",
      "Epoch 469 | Train loss 0.5079984664916992\n",
      "Train Accuracy 79.14285714285715 | Test Accuracy 79.11111111111111\n",
      "Epoch 470 | Train loss 0.31713563203811646\n",
      "Train Accuracy 89.04761904761904 | Test Accuracy 88.33333333333333\n",
      "Epoch 471 | Train loss 0.22831057012081146\n",
      "Train Accuracy 89.66666666666666 | Test Accuracy 89.0\n",
      "Epoch 472 | Train loss 0.23852494359016418\n",
      "Train Accuracy 89.80952380952381 | Test Accuracy 89.11111111111111\n",
      "Epoch 473 | Train loss 0.2222764641046524\n",
      "Train Accuracy 88.09523809523809 | Test Accuracy 86.8888888888889\n",
      "Epoch 474 | Train loss 0.2615971565246582\n",
      "Train Accuracy 89.23809523809524 | Test Accuracy 88.22222222222223\n",
      "Epoch 475 | Train loss 0.20925837755203247\n",
      "Train Accuracy 88.38095238095238 | Test Accuracy 86.11111111111111\n",
      "Epoch 476 | Train loss 0.1333456188440323\n",
      "Train Accuracy 87.85714285714286 | Test Accuracy 86.77777777777777\n",
      "Epoch 477 | Train loss 0.3679563105106354\n",
      "Train Accuracy 85.80952380952381 | Test Accuracy 86.11111111111111\n",
      "Epoch 478 | Train loss 0.3333704173564911\n",
      "Train Accuracy 89.76190476190476 | Test Accuracy 89.88888888888889\n",
      "Epoch 479 | Train loss 0.2550080716609955\n",
      "Train Accuracy 86.71428571428571 | Test Accuracy 86.0\n",
      "Epoch 480 | Train loss 0.3338850438594818\n",
      "Train Accuracy 89.95238095238095 | Test Accuracy 88.22222222222223\n",
      "Epoch 481 | Train loss 0.30874988436698914\n",
      "Train Accuracy 89.19047619047619 | Test Accuracy 88.22222222222223\n",
      "Epoch 482 | Train loss 0.32482925057411194\n",
      "Train Accuracy 88.47619047619048 | Test Accuracy 87.1111111111111\n",
      "Epoch 483 | Train loss 0.2968013882637024\n",
      "Train Accuracy 84.76190476190476 | Test Accuracy 83.88888888888889\n",
      "Epoch 484 | Train loss 0.2394959032535553\n",
      "Train Accuracy 86.0 | Test Accuracy 85.33333333333334\n",
      "Epoch 485 | Train loss 0.295073926448822\n",
      "Train Accuracy 86.57142857142858 | Test Accuracy 86.66666666666667\n",
      "Epoch 486 | Train loss 0.30423644185066223\n",
      "Train Accuracy 84.42857142857143 | Test Accuracy 85.0\n",
      "Epoch 487 | Train loss 0.1333993822336197\n",
      "Train Accuracy 88.19047619047619 | Test Accuracy 87.33333333333333\n",
      "Epoch 488 | Train loss 0.2780020534992218\n",
      "Train Accuracy 89.57142857142857 | Test Accuracy 88.55555555555556\n",
      "Epoch 489 | Train loss 0.3669719696044922\n",
      "Train Accuracy 89.66666666666666 | Test Accuracy 87.44444444444444\n",
      "Epoch 490 | Train loss 0.2825135588645935\n",
      "Train Accuracy 87.19047619047619 | Test Accuracy 87.0\n",
      "Epoch 491 | Train loss 0.3528432846069336\n",
      "Train Accuracy 85.85714285714286 | Test Accuracy 84.88888888888889\n",
      "Epoch 492 | Train loss 0.4662680923938751\n",
      "Train Accuracy 81.61904761904762 | Test Accuracy 82.33333333333334\n",
      "Epoch 493 | Train loss 0.47790226340293884\n",
      "Train Accuracy 87.52380952380953 | Test Accuracy 87.22222222222223\n",
      "Epoch 494 | Train loss 0.38161641359329224\n",
      "Train Accuracy 89.23809523809524 | Test Accuracy 89.55555555555556\n",
      "Epoch 495 | Train loss 0.3052285313606262\n",
      "Train Accuracy 88.61904761904762 | Test Accuracy 87.33333333333333\n",
      "Epoch 496 | Train loss 0.2990973889827728\n",
      "Train Accuracy 86.28571428571429 | Test Accuracy 85.88888888888889\n",
      "Epoch 497 | Train loss 0.2355063557624817\n",
      "Train Accuracy 87.47619047619047 | Test Accuracy 87.1111111111111\n",
      "Epoch 498 | Train loss 0.30626070499420166\n",
      "Train Accuracy 87.90476190476191 | Test Accuracy 86.33333333333333\n",
      "Epoch 499 | Train loss 0.2881990075111389\n",
      "Train Accuracy 88.90476190476191 | Test Accuracy 87.55555555555556\n",
      "Epoch 500 | Train loss 0.21887826919555664\n",
      "Train Accuracy 87.95238095238095 | Test Accuracy 88.0\n",
      "Epoch 501 | Train loss 0.3509378731250763\n",
      "Train Accuracy 87.33333333333333 | Test Accuracy 87.22222222222223\n",
      "Epoch 502 | Train loss 0.27870112657546997\n",
      "Train Accuracy 88.52380952380953 | Test Accuracy 88.1111111111111\n",
      "Epoch 503 | Train loss 0.1678503155708313\n",
      "Train Accuracy 89.47619047619048 | Test Accuracy 88.44444444444444\n",
      "Epoch 504 | Train loss 0.31983134150505066\n",
      "Train Accuracy 89.61904761904762 | Test Accuracy 89.0\n",
      "Epoch 505 | Train loss 0.2327566146850586\n",
      "Train Accuracy 83.14285714285714 | Test Accuracy 83.11111111111111\n",
      "Epoch 506 | Train loss 0.1407395750284195\n",
      "Train Accuracy 89.14285714285714 | Test Accuracy 89.77777777777777\n",
      "Epoch 507 | Train loss 0.2690216302871704\n",
      "Train Accuracy 88.47619047619048 | Test Accuracy 87.33333333333333\n",
      "Epoch 508 | Train loss 0.19125255942344666\n",
      "Train Accuracy 88.71428571428571 | Test Accuracy 88.88888888888889\n",
      "Epoch 509 | Train loss 0.16813863813877106\n",
      "Train Accuracy 89.80952380952381 | Test Accuracy 90.33333333333333\n",
      "Epoch 510 | Train loss 0.2828293442726135\n",
      "Train Accuracy 86.28571428571429 | Test Accuracy 86.33333333333333\n",
      "Epoch 511 | Train loss 0.39820873737335205\n",
      "Train Accuracy 89.71428571428571 | Test Accuracy 89.22222222222223\n",
      "Epoch 512 | Train loss 0.20254360139369965\n",
      "Train Accuracy 89.66666666666666 | Test Accuracy 88.44444444444444\n",
      "Epoch 513 | Train loss 0.3721734881401062\n",
      "Train Accuracy 89.47619047619048 | Test Accuracy 87.1111111111111\n",
      "Epoch 514 | Train loss 0.2617085576057434\n",
      "Train Accuracy 88.0 | Test Accuracy 86.44444444444444\n",
      "Epoch 515 | Train loss 0.21200506389141083\n",
      "Train Accuracy 89.09523809523809 | Test Accuracy 88.55555555555556\n",
      "Epoch 516 | Train loss 0.22953534126281738\n",
      "Train Accuracy 90.28571428571428 | Test Accuracy 89.22222222222223\n",
      "Epoch 517 | Train loss 0.13825832307338715\n",
      "Train Accuracy 86.76190476190476 | Test Accuracy 86.0\n",
      "Epoch 518 | Train loss 0.223308727145195\n",
      "Train Accuracy 89.47619047619048 | Test Accuracy 90.11111111111111\n",
      "Epoch 519 | Train loss 0.3664589524269104\n",
      "Train Accuracy 87.61904761904762 | Test Accuracy 86.66666666666667\n",
      "Epoch 520 | Train loss 0.5865146517753601\n",
      "Train Accuracy 75.61904761904762 | Test Accuracy 75.33333333333333\n",
      "Epoch 521 | Train loss 0.46651431918144226\n",
      "Train Accuracy 81.95238095238095 | Test Accuracy 82.44444444444444\n",
      "Epoch 522 | Train loss 0.2518281638622284\n",
      "Train Accuracy 85.80952380952381 | Test Accuracy 87.55555555555556\n",
      "Epoch 523 | Train loss 0.2935384213924408\n",
      "Train Accuracy 88.76190476190476 | Test Accuracy 87.44444444444444\n",
      "Epoch 524 | Train loss 0.22110889852046967\n",
      "Train Accuracy 84.14285714285714 | Test Accuracy 85.33333333333334\n",
      "Epoch 525 | Train loss 0.3017706573009491\n",
      "Train Accuracy 89.38095238095238 | Test Accuracy 88.55555555555556\n",
      "Epoch 526 | Train loss 0.270616739988327\n",
      "Train Accuracy 89.04761904761904 | Test Accuracy 87.44444444444444\n",
      "Epoch 527 | Train loss 0.389551043510437\n",
      "Train Accuracy 85.33333333333334 | Test Accuracy 85.88888888888889\n",
      "Epoch 528 | Train loss 0.1700805127620697\n",
      "Train Accuracy 88.33333333333333 | Test Accuracy 87.66666666666667\n",
      "Epoch 529 | Train loss 0.39864790439605713\n",
      "Train Accuracy 79.76190476190477 | Test Accuracy 80.55555555555556\n",
      "Epoch 530 | Train loss 0.30632707476615906\n",
      "Train Accuracy 86.61904761904762 | Test Accuracy 87.77777777777777\n",
      "Epoch 531 | Train loss 0.2517007291316986\n",
      "Train Accuracy 89.23809523809524 | Test Accuracy 88.44444444444444\n",
      "Epoch 532 | Train loss 0.08049262315034866\n",
      "Train Accuracy 89.19047619047619 | Test Accuracy 88.33333333333333\n",
      "Epoch 533 | Train loss 0.46904456615448\n",
      "Train Accuracy 89.76190476190476 | Test Accuracy 88.66666666666667\n",
      "Epoch 534 | Train loss 0.2568681836128235\n",
      "Train Accuracy 90.0 | Test Accuracy 87.77777777777777\n",
      "Epoch 535 | Train loss 0.2690148651599884\n",
      "Train Accuracy 88.80952380952381 | Test Accuracy 87.44444444444444\n",
      "Epoch 536 | Train loss 0.15568844974040985\n",
      "Train Accuracy 78.95238095238095 | Test Accuracy 81.55555555555556\n",
      "Epoch 537 | Train loss 0.20279242098331451\n"
     ]
    },
    {
     "name": "stdout",
     "output_type": "stream",
     "text": [
      "Train Accuracy 88.90476190476191 | Test Accuracy 89.66666666666666\n",
      "Epoch 538 | Train loss 0.25088244676589966\n",
      "Train Accuracy 89.76190476190476 | Test Accuracy 88.44444444444444\n",
      "Epoch 539 | Train loss 0.2106350064277649\n",
      "Train Accuracy 88.95238095238095 | Test Accuracy 88.22222222222223\n",
      "Epoch 540 | Train loss 0.26601773500442505\n",
      "Train Accuracy 89.61904761904762 | Test Accuracy 87.77777777777777\n",
      "Epoch 541 | Train loss 0.1739797592163086\n",
      "Train Accuracy 89.23809523809524 | Test Accuracy 89.44444444444444\n",
      "Epoch 542 | Train loss 0.22197677195072174\n",
      "Train Accuracy 88.0 | Test Accuracy 87.8888888888889\n",
      "Epoch 543 | Train loss 0.21220214664936066\n",
      "Train Accuracy 89.90476190476191 | Test Accuracy 88.77777777777777\n",
      "Epoch 544 | Train loss 0.4023815393447876\n",
      "Train Accuracy 84.33333333333334 | Test Accuracy 85.44444444444444\n",
      "Epoch 545 | Train loss 0.2973431944847107\n",
      "Train Accuracy 89.52380952380953 | Test Accuracy 89.22222222222223\n",
      "Epoch 546 | Train loss 0.1724952757358551\n",
      "Train Accuracy 83.0 | Test Accuracy 82.77777777777777\n",
      "Epoch 547 | Train loss 0.4408606290817261\n",
      "Train Accuracy 86.80952380952381 | Test Accuracy 86.0\n",
      "Epoch 548 | Train loss 0.25823405385017395\n",
      "Train Accuracy 86.85714285714286 | Test Accuracy 87.0\n",
      "Epoch 549 | Train loss 0.2284688949584961\n",
      "Train Accuracy 89.33333333333333 | Test Accuracy 89.22222222222223\n",
      "Epoch 550 | Train loss 0.18440596759319305\n",
      "Train Accuracy 90.42857142857143 | Test Accuracy 89.22222222222223\n",
      "Epoch 551 | Train loss 0.12735126912593842\n",
      "Train Accuracy 89.57142857142857 | Test Accuracy 88.66666666666667\n",
      "Epoch 552 | Train loss 0.25902771949768066\n",
      "Train Accuracy 89.80952380952381 | Test Accuracy 89.88888888888889\n",
      "Epoch 553 | Train loss 0.2623310387134552\n",
      "Train Accuracy 88.85714285714286 | Test Accuracy 90.0\n",
      "Epoch 554 | Train loss 0.156962051987648\n",
      "Train Accuracy 89.95238095238095 | Test Accuracy 89.0\n",
      "Epoch 555 | Train loss 0.31558340787887573\n",
      "Train Accuracy 87.57142857142857 | Test Accuracy 86.44444444444444\n",
      "Epoch 556 | Train loss 0.2956371605396271\n",
      "Train Accuracy 89.09523809523809 | Test Accuracy 88.55555555555556\n",
      "Epoch 557 | Train loss 0.29159435629844666\n",
      "Train Accuracy 89.76190476190476 | Test Accuracy 88.77777777777777\n",
      "Epoch 558 | Train loss 0.27504315972328186\n",
      "Train Accuracy 90.66666666666666 | Test Accuracy 88.55555555555556\n",
      "Epoch 559 | Train loss 0.2785169780254364\n",
      "Train Accuracy 89.85714285714286 | Test Accuracy 88.1111111111111\n",
      "Epoch 560 | Train loss 0.2488606870174408\n",
      "Train Accuracy 90.0952380952381 | Test Accuracy 88.1111111111111\n",
      "Epoch 561 | Train loss 0.21930305659770966\n",
      "Train Accuracy 89.71428571428571 | Test Accuracy 88.33333333333333\n",
      "Epoch 562 | Train loss 0.2733328938484192\n",
      "Train Accuracy 89.66666666666666 | Test Accuracy 87.44444444444444\n",
      "Epoch 563 | Train loss 0.19943976402282715\n",
      "Train Accuracy 91.0 | Test Accuracy 88.88888888888889\n",
      "Epoch 564 | Train loss 0.3757345378398895\n",
      "Train Accuracy 85.47619047619047 | Test Accuracy 84.44444444444444\n",
      "Epoch 565 | Train loss 0.30945760011672974\n",
      "Train Accuracy 88.04761904761905 | Test Accuracy 87.1111111111111\n",
      "Epoch 566 | Train loss 0.4688909947872162\n",
      "Train Accuracy 81.80952380952381 | Test Accuracy 82.33333333333334\n",
      "Epoch 567 | Train loss 0.5656570792198181\n",
      "Train Accuracy 78.52380952380953 | Test Accuracy 79.11111111111111\n",
      "Epoch 568 | Train loss 0.4837743639945984\n",
      "Train Accuracy 87.90476190476191 | Test Accuracy 87.55555555555556\n",
      "Epoch 569 | Train loss 0.36410167813301086\n",
      "Train Accuracy 90.0952380952381 | Test Accuracy 89.22222222222223\n",
      "Epoch 570 | Train loss 0.38398176431655884\n",
      "Train Accuracy 88.52380952380953 | Test Accuracy 87.8888888888889\n",
      "Epoch 571 | Train loss 0.23828604817390442\n",
      "Train Accuracy 87.80952380952381 | Test Accuracy 86.11111111111111\n",
      "Epoch 572 | Train loss 0.18317770957946777\n",
      "Train Accuracy 90.33333333333333 | Test Accuracy 89.11111111111111\n",
      "Epoch 573 | Train loss 0.19997337460517883\n",
      "Train Accuracy 90.33333333333333 | Test Accuracy 88.66666666666667\n",
      "Epoch 574 | Train loss 0.24094250798225403\n",
      "Train Accuracy 90.42857142857143 | Test Accuracy 89.0\n",
      "Epoch 575 | Train loss 0.278022825717926\n",
      "Train Accuracy 87.80952380952381 | Test Accuracy 86.77777777777777\n",
      "Epoch 576 | Train loss 0.3187173008918762\n",
      "Train Accuracy 90.19047619047619 | Test Accuracy 88.33333333333333\n",
      "Epoch 577 | Train loss 0.32379376888275146\n",
      "Train Accuracy 89.38095238095238 | Test Accuracy 89.11111111111111\n",
      "Epoch 578 | Train loss 0.17859402298927307\n",
      "Train Accuracy 88.80952380952381 | Test Accuracy 88.33333333333333\n",
      "Epoch 579 | Train loss 0.36495476961135864\n",
      "Train Accuracy 90.38095238095238 | Test Accuracy 88.88888888888889\n",
      "Epoch 580 | Train loss 0.2680448293685913\n",
      "Train Accuracy 90.04761904761904 | Test Accuracy 88.88888888888889\n",
      "Epoch 581 | Train loss 0.23656386137008667\n",
      "Train Accuracy 88.90476190476191 | Test Accuracy 88.33333333333333\n",
      "Epoch 582 | Train loss 0.2116585522890091\n",
      "Train Accuracy 90.47619047619048 | Test Accuracy 89.44444444444444\n",
      "Epoch 583 | Train loss 0.12220115959644318\n",
      "Train Accuracy 90.9047619047619 | Test Accuracy 88.77777777777777\n",
      "Epoch 584 | Train loss 0.23281580209732056\n",
      "Train Accuracy 88.76190476190476 | Test Accuracy 87.44444444444444\n",
      "Epoch 585 | Train loss 0.2967991232872009\n",
      "Train Accuracy 82.28571428571428 | Test Accuracy 82.66666666666667\n",
      "Epoch 586 | Train loss 0.43562859296798706\n",
      "Train Accuracy 89.0 | Test Accuracy 88.1111111111111\n",
      "Epoch 587 | Train loss 0.15785743296146393\n",
      "Train Accuracy 90.14285714285715 | Test Accuracy 87.8888888888889\n",
      "Epoch 588 | Train loss 0.2993376851081848\n",
      "Train Accuracy 89.85714285714286 | Test Accuracy 88.33333333333333\n",
      "Epoch 589 | Train loss 0.20299537479877472\n",
      "Train Accuracy 89.85714285714286 | Test Accuracy 87.1111111111111\n",
      "Epoch 590 | Train loss 0.15560761094093323\n",
      "Train Accuracy 89.0 | Test Accuracy 88.22222222222223\n",
      "Epoch 591 | Train loss 0.28675973415374756\n",
      "Train Accuracy 89.42857142857143 | Test Accuracy 88.33333333333333\n",
      "Epoch 592 | Train loss 0.14596369862556458\n",
      "Train Accuracy 88.0 | Test Accuracy 87.1111111111111\n",
      "Epoch 593 | Train loss 0.2764524817466736\n",
      "Train Accuracy 83.42857142857143 | Test Accuracy 83.44444444444444\n",
      "Epoch 594 | Train loss 0.23745431005954742\n",
      "Train Accuracy 89.66666666666666 | Test Accuracy 87.77777777777777\n",
      "Epoch 595 | Train loss 0.3236541152000427\n",
      "Train Accuracy 87.61904761904762 | Test Accuracy 86.33333333333333\n",
      "Epoch 596 | Train loss 0.37700238823890686\n",
      "Train Accuracy 88.80952380952381 | Test Accuracy 87.0\n",
      "Epoch 597 | Train loss 0.362282395362854\n",
      "Train Accuracy 90.0 | Test Accuracy 89.33333333333333\n",
      "Epoch 598 | Train loss 0.2459796518087387\n",
      "Train Accuracy 90.38095238095238 | Test Accuracy 89.22222222222223\n",
      "Epoch 599 | Train loss 0.28914177417755127\n",
      "Train Accuracy 89.66666666666666 | Test Accuracy 88.44444444444444\n"
     ]
    }
   ],
   "source": [
    "print(\"Starting training...\")\n",
    "losses = []\n",
    "\n",
    "bestModel, highestAcc = None, 0\n",
    "\n",
    "for epoch in range(600):\n",
    "    loss, model = train(model, train_loader, [0, 1, 2, 3])\n",
    "    losses.append(loss)\n",
    "    print(f\"Epoch {epoch} | Train loss {loss}\")\n",
    "    train_acc, test_acc = check_accuracy(model, train_loader, [0, 1, 2, 3]), check_accuracy(model, test_loader, [0, 1, 2, 3])\n",
    "    print(f\"Train Accuracy {train_acc} | Test Accuracy {test_acc}\")\n",
    "    \n",
    "    if test_acc > highestAcc:\n",
    "        highestAcc = test_acc\n",
    "        bestModel = model"
   ]
  },
  {
   "cell_type": "code",
   "execution_count": 60,
   "metadata": {},
   "outputs": [],
   "source": [
    "# analyze which kinds of graph it succeeds versus fails on"
   ]
  },
  {
   "cell_type": "code",
   "execution_count": 61,
   "metadata": {},
   "outputs": [],
   "source": [
    "# look through the success and failure cases"
   ]
  },
  {
   "cell_type": "code",
   "execution_count": 55,
   "metadata": {},
   "outputs": [],
   "source": [
    "correct, failed = [], []\n",
    "num_rigid_wrong, num_flexible_wrong = 0, 0\n",
    "num_rigid, num_flexible = 0, 0\n",
    "for x in test_data:\n",
    "    # convert from torch_geometric.data.data.Data to networkx graph?\n",
    "    label = x.label[0]\n",
    "    if label == 0:\n",
    "        num_rigid += 1\n",
    "    elif label == 1:\n",
    "        num_flexible += 1\n",
    "        \n",
    "        \n",
    "    model.eval()\n",
    "    graph = to_networkx(x, to_undirected = True)\n",
    "    validation_set = DataLoader([x], batch_size = 1, shuffle=True)\n",
    "    for batch in validation_set:\n",
    "        pred = bestModel(batch.x[:, [0, 1, 2, 3]], batch.edge_index, batch.batch)\n",
    "        pred = pred[0][0][0]\n",
    "        if pred > 0.5:\n",
    "            pred = 1\n",
    "        else:\n",
    "            pred = 0\n",
    "            \n",
    "        if pred != label:\n",
    "            failed.append((graph, label))\n",
    "            if label == 1:\n",
    "                num_flexible_wrong += 1\n",
    "            if label == 0:\n",
    "                num_rigid_wrong += 1\n",
    "        else:\n",
    "            correct.append((graph, label))    "
   ]
  },
  {
   "cell_type": "code",
   "execution_count": 56,
   "metadata": {},
   "outputs": [
    {
     "name": "stdout",
     "output_type": "stream",
     "text": [
      "32\n",
      "55\n"
     ]
    }
   ],
   "source": [
    "print(num_rigid_wrong)\n",
    "print(num_flexible_wrong)"
   ]
  },
  {
   "cell_type": "code",
   "execution_count": 57,
   "metadata": {},
   "outputs": [
    {
     "name": "stdout",
     "output_type": "stream",
     "text": [
      "813\n"
     ]
    }
   ],
   "source": [
    "print(len(correct))"
   ]
  },
  {
   "cell_type": "code",
   "execution_count": null,
   "metadata": {},
   "outputs": [],
   "source": [
    "nx.draw(failed[1][0])"
   ]
  },
  {
   "cell_type": "code",
   "execution_count": null,
   "metadata": {},
   "outputs": [],
   "source": [
    "failed[3][0].number_of_edges()"
   ]
  },
  {
   "cell_type": "code",
   "execution_count": null,
   "metadata": {},
   "outputs": [],
   "source": [
    "from networkx.algorithms.isomorphism import subgraph_isomorphisms\n"
   ]
  },
  {
   "cell_type": "code",
   "execution_count": null,
   "metadata": {},
   "outputs": [],
   "source": [
    "import networkx as nx\n",
    "\n",
    "# Define the substructure you want to search for\n",
    "substructures = {\n",
    "    \"triangle\": triangle,\n",
    "    \"square\": square, \n",
    "    \"pentagon\": pentagon,\n",
    "}\n",
    "\n",
    "substructures_freqs = {\n",
    "    \"triangle\": 0,\n",
    "    \"square\": 0,\n",
    "    \"pentagon\": 0,\n",
    "}\n",
    "\n",
    "\n",
    "# Calculate the frequency of the substructure in each graph\n",
    "substructure_freqs = []\n",
    "for (graph, label) in failed:\n",
    "    for substructure_name, substructure_graph in substructures.items():\n",
    "        GM = nx.algorithms.isomorphism.GraphMatcher(graph,substructure_graph)\n",
    "        gm_iterator = nx.algorithms.isomorphism.GraphMatcher.subgraph_isomorphisms_iter(graph, substructure_graph)\n",
    "        for g in gm_iterator:\n",
    "            print(\"hi\")\n",
    "        print(len(gm_iterator))\n",
    "        if GM.subgraph_is_isomorphic():\n",
    "            substructures_freqs[substructure_name] += 1\n",
    "\n",
    "#         count = sum([1 for _ in nx.subgraph_isomorphisms(graph, substructure_graph)])\n",
    "\n",
    "# Print the frequency of the substructure in each graph\n",
    "print(substructures_freqs)\n"
   ]
  },
  {
   "cell_type": "code",
   "execution_count": null,
   "metadata": {},
   "outputs": [],
   "source": [
    "GM = nx.algorithms.isomorphism.GraphMatcher(pentagon_new,pentagon)"
   ]
  },
  {
   "cell_type": "code",
   "execution_count": null,
   "metadata": {},
   "outputs": [],
   "source": [
    "if GM.subgraph_is_isomorphic():\n",
    "    print(\"hi\")"
   ]
  },
  {
   "cell_type": "code",
   "execution_count": 28,
   "metadata": {},
   "outputs": [],
   "source": [
    "# analyze degree sequence\n",
    "failed_rigid_degree_sequences = []\n",
    "failed_flexible_degree_sequences = []\n",
    "\n",
    "failed_rigid_clustering = []\n",
    "failed_flexible_clustering = []\n",
    "\n",
    "for (graph, label) in failed:\n",
    "    degree_sequence = sorted((d for n, d in graph.degree()), reverse=True)\n",
    "    if label == 0:\n",
    "        failed_rigid_degree_sequences.append(degree_sequence)\n",
    "        failed_rigid_clustering.append(sorted(nx.clustering(graph).values()))\n",
    "    elif label == 1:\n",
    "        failed_flexible_degree_sequences.append(degree_sequence)\n",
    "        failed_flexible_clustering.append(sorted(nx.clustering(graph).values()))\n",
    "        \n",
    "# analyze degree sequence\n",
    "correct_rigid_degree_sequences = []\n",
    "correct_flexible_degree_sequences = []\n",
    "\n",
    "correct_rigid_clustering = []\n",
    "correct_flexible_clustering = []\n",
    "\n",
    "for (graph, label) in correct:\n",
    "    degree_sequence = sorted((d for n, d in graph.degree()), reverse=True)\n",
    "    if label == 0:\n",
    "        correct_rigid_degree_sequences.append(degree_sequence)\n",
    "        correct_rigid_clustering.append(sorted(nx.clustering(graph).values()))\n",
    "    elif label == 1:\n",
    "        correct_flexible_degree_sequences.append(degree_sequence)\n",
    "        correct_flexible_clustering.append(sorted(nx.clustering(graph).values()))\n"
   ]
  },
  {
   "cell_type": "code",
   "execution_count": 29,
   "metadata": {},
   "outputs": [],
   "source": [
    "for i in range(len(correct_rigid_degree_sequences)):\n",
    "    sm = np.sum(correct_rigid_degree_sequences[i])"
   ]
  },
  {
   "cell_type": "code",
   "execution_count": 30,
   "metadata": {},
   "outputs": [
    {
     "data": {
      "image/png": "[encoded data removed]",
      "text/plain": [
       "<Figure size 1000x500 with 2 Axes>"
      ]
     },
     "metadata": {},
     "output_type": "display_data"
    },
    {
     "name": "stdout",
     "output_type": "stream",
     "text": [
      "Mean degree for set 1: 5.5628695309420575\n",
      "Mean degree for set 2: 5.505780079533895\n",
      "Standard deviation of degrees for set 1: 4.178809009963009\n",
      "Standard deviation of degrees for set 2: 4.224650642967005\n"
     ]
    }
   ],
   "source": [
    "import networkx as nx\n",
    "import numpy as np\n",
    "import matplotlib.pyplot as plt\n",
    "\n",
    "# # Generate two sets of graphs\n",
    "# graphs1 = [correct[i][0] for i in range(len(correct))]\n",
    "# graphs2 = [failed[i][0] for i in range(len(failed))] # List of NetworkX graphs\n",
    "\n",
    "# Calculate degree sequences for each set of graphs\n",
    "degree_seqs1 = correct_rigid_degree_sequences\n",
    "degree_seqs2 = correct_flexible_degree_sequences\n",
    "\n",
    "# Plot degree distribution for each set of graphs\n",
    "fig, (ax1, ax2) = plt.subplots(1, 2, figsize=(10, 5))\n",
    "ax1.hist(np.concatenate(degree_seqs1), bins=range(max(np.concatenate(degree_seqs1))+2), density=True)\n",
    "ax1.set_title('Degree distribution for set 1')\n",
    "ax2.hist(np.concatenate(degree_seqs2), bins=range(max(np.concatenate(degree_seqs2))+2), density=True)\n",
    "ax2.set_title('Degree distribution for set 2')\n",
    "plt.show()\n",
    "\n",
    "# Compare mean and standard deviation of degree sequences\n",
    "print(\"Mean degree for set 1:\", np.mean(np.concatenate(degree_seqs1)))\n",
    "print(\"Mean degree for set 2:\", np.mean(np.concatenate(degree_seqs2)))\n",
    "print(\"Standard deviation of degrees for set 1:\", np.std(np.concatenate(degree_seqs1)))\n",
    "print(\"Standard deviation of degrees for set 2:\", np.std(np.concatenate(degree_seqs2)))\n"
   ]
  },
  {
   "cell_type": "code",
   "execution_count": 77,
   "metadata": {},
   "outputs": [
    {
     "data": {
      "image/png": "[encoded data removed]",
      "text/plain": [
       "<Figure size 1000x500 with 2 Axes>"
      ]
     },
     "metadata": {},
     "output_type": "display_data"
    },
    {
     "name": "stdout",
     "output_type": "stream",
     "text": [
      "Mean degree for set 1: 0.11866911708883897\n",
      "Mean degree for set 2: 0.12503432423197589\n",
      "Standard deviation of degrees for set 1: 0.2051805257989436\n",
      "Standard deviation of degrees for set 2: 0.21171815571600403\n"
     ]
    }
   ],
   "source": [
    "import networkx as nx\n",
    "import numpy as np\n",
    "import matplotlib.pyplot as plt\n",
    "\n",
    "# # Generate two sets of graphs\n",
    "# graphs1 = [correct[i][0] for i in range(len(correct))]\n",
    "# graphs2 = [failed[i][0] for i in range(len(failed))] # List of NetworkX graphs\n",
    "\n",
    "# Calculate degree sequences for each set of graphs\n",
    "degree_seqs1 = correct_rigid_clustering\n",
    "degree_seqs2 = correct_flexible_clustering\n",
    "\n",
    "# Plot degree distribution for each set of graphs\n",
    "fig, (ax1, ax2) = plt.subplots(1, 2, figsize=(10, 5))\n",
    "ax1.hist(np.concatenate(degree_seqs1))\n",
    "ax1.set_title('Degree distribution for set 1')\n",
    "ax2.hist(np.concatenate(degree_seqs2))\n",
    "ax2.set_title('Degree distribution for set 2')\n",
    "plt.show()\n",
    "\n",
    "# Compare mean and standard deviation of degree sequences\n",
    "print(\"Mean degree for set 1:\", np.mean(np.concatenate(degree_seqs1)))\n",
    "print(\"Mean degree for set 2:\", np.mean(np.concatenate(degree_seqs2)))\n",
    "print(\"Standard deviation of degrees for set 1:\", np.std(np.concatenate(degree_seqs1)))\n",
    "print(\"Standard deviation of degrees for set 2:\", np.std(np.concatenate(degree_seqs2)))\n"
   ]
  },
  {
   "cell_type": "code",
   "execution_count": 31,
   "metadata": {},
   "outputs": [
    {
     "data": {
      "image/png": "[encoded data removed]",
      "text/plain": [
       "<Figure size 1000x500 with 2 Axes>"
      ]
     },
     "metadata": {},
     "output_type": "display_data"
    },
    {
     "name": "stdout",
     "output_type": "stream",
     "text": [
      "Mean degree for set 1: 0.5196815267386051\n",
      "Mean degree for set 2: 0.5206570210833456\n",
      "Standard deviation of degrees for failed rigid clustering: 0.17229004073668602\n",
      "Standard deviation of degrees for set 2: 0.1752493536980138\n"
     ]
    }
   ],
   "source": [
    "import networkx as nx\n",
    "import numpy as np\n",
    "import matplotlib.pyplot as plt\n",
    "\n",
    "# # Generate two sets of graphs\n",
    "# graphs1 = [correct[i][0] for i in range(len(correct))]\n",
    "# graphs2 = [failed[i][0] for i in range(len(failed))] # List of NetworkX graphs\n",
    "\n",
    "# Calculate degree sequences for each set of graphs\n",
    "degree_seqs1 = failed_rigid_clustering\n",
    "degree_seqs2 = failed_flexible_clustering\n",
    "\n",
    "# Plot degree distribution for each set of graphs\n",
    "fig, (ax1, ax2) = plt.subplots(1, 2, figsize=(10, 5))\n",
    "ax1.hist(np.concatenate(degree_seqs1))\n",
    "ax1.set_title('Degree distribution for set 1')\n",
    "ax2.hist(np.concatenate(degree_seqs2))\n",
    "ax2.set_title('Degree distribution for set 2')\n",
    "plt.show()\n",
    "\n",
    "# Compare mean and standard deviation of degree sequences\n",
    "print(\"Mean degree for set 1:\", np.mean(np.concatenate(degree_seqs1)))\n",
    "print(\"Mean degree for set 2:\", np.mean(np.concatenate(degree_seqs2)))\n",
    "print(\"Standard deviation of degrees for failed rigid clustering:\", np.std(np.concatenate(degree_seqs1)))\n",
    "print(\"Standard deviation of degrees for set 2:\", np.std(np.concatenate(degree_seqs2)))\n"
   ]
  },
  {
   "cell_type": "code",
   "execution_count": 32,
   "metadata": {},
   "outputs": [
    {
     "data": {
      "image/png": "[encoded data removed]",
      "text/plain": [
       "<Figure size 1000x500 with 2 Axes>"
      ]
     },
     "metadata": {},
     "output_type": "display_data"
    },
    {
     "name": "stdout",
     "output_type": "stream",
     "text": [
      "Mean degree for set 1: 5.525143220878421\n",
      "Mean degree for set 2: 5.5098265895953755\n",
      "Standard deviation of degrees for set 1: 4.2504170494275595\n",
      "Standard deviation of degrees for set 2: 4.226008991122738\n"
     ]
    }
   ],
   "source": [
    "import networkx as nx\n",
    "import numpy as np\n",
    "import matplotlib.pyplot as plt\n",
    "\n",
    "# # Generate two sets of graphs\n",
    "# graphs1 = [correct[i][0] for i in range(len(correct))]\n",
    "# graphs2 = [failed[i][0] for i in range(len(failed))] # List of NetworkX graphs\n",
    "\n",
    "# Calculate degree sequences for each set of graphs\n",
    "degree_seqs1 = failed_rigid_degree_sequences\n",
    "degree_seqs2 = failed_flexible_degree_sequences\n",
    "\n",
    "# Plot degree distribution for each set of graphs\n",
    "fig, (ax1, ax2) = plt.subplots(1, 2, figsize=(10, 5))\n",
    "ax1.hist(np.concatenate(degree_seqs1))\n",
    "ax1.set_title('Degree distribution for set 1')\n",
    "ax2.hist(np.concatenate(degree_seqs2))\n",
    "ax2.set_title('Degree distribution for set 2')\n",
    "plt.show()\n",
    "\n",
    "# Compare mean and standard deviation of degree sequences\n",
    "print(\"Mean degree for set 1:\", np.mean(np.concatenate(degree_seqs1)))\n",
    "print(\"Mean degree for set 2:\", np.mean(np.concatenate(degree_seqs2)))\n",
    "print(\"Standard deviation of degrees for set 1:\", np.std(np.concatenate(degree_seqs1)))\n",
    "print(\"Standard deviation of degrees for set 2:\", np.std(np.concatenate(degree_seqs2)))\n"
   ]
  },
  {
   "cell_type": "code",
   "execution_count": 79,
   "metadata": {},
   "outputs": [
    {
     "data": {
      "image/png": "[encoded data removed]",
      "text/plain": [
       "<Figure size 1000x500 with 2 Axes>"
      ]
     },
     "metadata": {},
     "output_type": "display_data"
    },
    {
     "name": "stdout",
     "output_type": "stream",
     "text": [
      "Mean clustering coefficient for set 1: 0.19740015360983104\n",
      "Mean clustering coefficient for set 2: 0.16556707629288275\n",
      "Standard deviation of degrees for set 1: 0.26405963091601253\n",
      "Standard deviation of degrees for set 2: 0.2257134027741488\n"
     ]
    }
   ],
   "source": [
    "import networkx as nx\n",
    "import numpy as np\n",
    "import matplotlib.pyplot as plt\n",
    "\n",
    "# # Generate two sets of graphs\n",
    "# graphs1 = [correct[i][0] for i in range(len(correct))]\n",
    "# graphs2 = [failed[i][0] for i in range(len(failed))] # List of NetworkX graphs\n",
    "\n",
    "# Calculate degree sequences for each set of graphs\n",
    "degree_seqs1 = failed_flexible_clustering\n",
    "degree_seqs2 = correct_flexible_clustering[10:10+len(failed_flexible_clustering)]\n",
    "\n",
    "# Plot degree distribution for each set of graphs\n",
    "fig, (ax1, ax2) = plt.subplots(1, 2, figsize=(10, 5))\n",
    "ax1.hist(np.concatenate(degree_seqs1))\n",
    "ax1.set_title('Degree distribution for set 1')\n",
    "ax2.hist(np.concatenate(degree_seqs2))\n",
    "ax2.set_title('Degree distribution for set 2')\n",
    "plt.show()\n",
    "\n",
    "# Compare mean and standard deviation of degree sequences\n",
    "print(\"Mean clustering coefficient for set 1:\", np.mean(np.concatenate(degree_seqs1)))\n",
    "print(\"Mean clustering coefficient for set 2:\", np.mean(np.concatenate(degree_seqs2)))\n",
    "print(\"Standard deviation of degrees for set 1:\", np.std(np.concatenate(degree_seqs1)))\n",
    "print(\"Standard deviation of degrees for set 2:\", np.std(np.concatenate(degree_seqs2)))\n"
   ]
  },
  {
   "cell_type": "code",
   "execution_count": null,
   "metadata": {},
   "outputs": [],
   "source": []
  },
  {
   "cell_type": "code",
   "execution_count": 58,
   "metadata": {},
   "outputs": [
    {
     "name": "stdout",
     "output_type": "stream",
     "text": [
      "7.129032258064516\n",
      "7.032258064516129\n"
     ]
    }
   ],
   "source": [
    "degree_seqs1 = failed_flexible_degree_sequences\n",
    "degree_seqs2 = correct_flexible_degree_sequences[0:len(failed_flexible_degree_sequences)]\n",
    "\n",
    "degree_seqs1_max = [max(seq) for seq in degree_seqs1]\n",
    "degree_seqs2_max = [max(seq) for seq in degree_seqs2]\n",
    "\n",
    "print(np.average(degree_seqs1_max))\n",
    "print(np.average(degree_seqs2_max))"
   ]
  },
  {
   "cell_type": "code",
   "execution_count": 55,
   "metadata": {
    "scrolled": true
   },
   "outputs": [
    {
     "data": {
      "text/plain": [
       "[7,\n",
       " 8,\n",
       " 7,\n",
       " 7,\n",
       " 6,\n",
       " 8,\n",
       " 7,\n",
       " 6,\n",
       " 6,\n",
       " 6,\n",
       " 7,\n",
       " 8,\n",
       " 7,\n",
       " 7,\n",
       " 7,\n",
       " 6,\n",
       " 7,\n",
       " 6,\n",
       " 8,\n",
       " 8,\n",
       " 6,\n",
       " 6,\n",
       " 7,\n",
       " 8,\n",
       " 7,\n",
       " 6,\n",
       " 9,\n",
       " 8,\n",
       " 9,\n",
       " 8,\n",
       " 8]"
      ]
     },
     "execution_count": 55,
     "metadata": {},
     "output_type": "execute_result"
    }
   ],
   "source": [
    "degree_seqs1_max"
   ]
  },
  {
   "cell_type": "code",
   "execution_count": 56,
   "metadata": {
    "scrolled": true
   },
   "outputs": [
    {
     "data": {
      "text/plain": [
       "[7,\n",
       " 7,\n",
       " 9,\n",
       " 8,\n",
       " 7,\n",
       " 6,\n",
       " 7,\n",
       " 6,\n",
       " 7,\n",
       " 6,\n",
       " 8,\n",
       " 9,\n",
       " 8,\n",
       " 7,\n",
       " 6,\n",
       " 10,\n",
       " 8,\n",
       " 6,\n",
       " 7,\n",
       " 6,\n",
       " 7,\n",
       " 6,\n",
       " 7,\n",
       " 6,\n",
       " 8,\n",
       " 7,\n",
       " 6,\n",
       " 6,\n",
       " 7,\n",
       " 6,\n",
       " 7]"
      ]
     },
     "execution_count": 56,
     "metadata": {},
     "output_type": "execute_result"
    }
   ],
   "source": [
    "degree_seqs2_max"
   ]
  },
  {
   "cell_type": "code",
   "execution_count": null,
   "metadata": {},
   "outputs": [],
   "source": [
    "# compute the degree sequence for each node and run an SVM?"
   ]
  },
  {
   "cell_type": "code",
   "execution_count": 36,
   "metadata": {},
   "outputs": [
    {
     "name": "stdout",
     "output_type": "stream",
     "text": [
      "660\n",
      "657\n"
     ]
    }
   ],
   "source": [
    "print(len(correct_rigid_degree_sequences))\n",
    "print(len(correct_flexible_degree_sequences))"
   ]
  },
  {
   "cell_type": "code",
   "execution_count": 122,
   "metadata": {},
   "outputs": [],
   "source": [
    "ys = [0] * len(correct_rigid_clustering)"
   ]
  },
  {
   "cell_type": "code",
   "execution_count": 123,
   "metadata": {},
   "outputs": [],
   "source": [
    "ys += [1] * len(correct_flexible_clustering)"
   ]
  },
  {
   "cell_type": "code",
   "execution_count": 124,
   "metadata": {},
   "outputs": [],
   "source": [
    "Xs = correct_rigid_clustering + correct_flexible_clustering"
   ]
  },
  {
   "cell_type": "code",
   "execution_count": 130,
   "metadata": {},
   "outputs": [],
   "source": [
    "Xs_degrees = correct_rigid_degree_sequences + correct_flexible_degree_sequences"
   ]
  },
  {
   "cell_type": "code",
   "execution_count": 136,
   "metadata": {},
   "outputs": [
    {
     "name": "stdout",
     "output_type": "stream",
     "text": [
      "(10184, 20)\n",
      "(10184, 20)\n",
      "(10184, 40)\n"
     ]
    }
   ],
   "source": [
    "Xs_nparr = np.array(Xs)\n",
    "Xs_degrees_nparr = np.array(Xs_degrees)\n",
    "\n",
    "print(Xs_nparr.shape)\n",
    "print(Xs_degrees_nparr.shape)\n",
    "\n",
    "concatenated_nparr = np.concatenate((Xs_nparr, Xs_degrees_nparr), axis=1)\n",
    "print(concatenated_nparr.shape)"
   ]
  },
  {
   "cell_type": "code",
   "execution_count": 139,
   "metadata": {},
   "outputs": [
    {
     "name": "stdout",
     "output_type": "stream",
     "text": [
      "Accuracy: 0.6116838487972509\n"
     ]
    }
   ],
   "source": [
    "from sklearn import svm\n",
    "from sklearn.model_selection import train_test_split\n",
    "from sklearn.metrics import accuracy_score\n",
    "import numpy as np\n",
    "\n",
    "# Assume X and y are your degree sequences and binary labels, respectively\n",
    "\n",
    "# Split the data into training and testing sets\n",
    "X_train, X_test, y_train, y_test = train_test_split(concatenated_nparr, ys, test_size=0.2)\n",
    "\n",
    "# Initialize the SVM classifier\n",
    "clf = svm.SVC(kernel='linear')\n",
    "\n",
    "# Fit the SVM classifier on the training data\n",
    "clf.fit(X_train, y_train)\n",
    "\n",
    "# Use the trained SVM classifier to make predictions on the testing data\n",
    "y_pred = clf.predict(X_test)\n",
    "\n",
    "# Calculate the accuracy of the predictions\n",
    "accuracy = accuracy_score(y_test, y_pred)\n",
    "\n",
    "print(f\"Accuracy: {accuracy}\")"
   ]
  },
  {
   "cell_type": "code",
   "execution_count": null,
   "metadata": {},
   "outputs": [],
   "source": [
    "ys = [0] * len(correct_rigid_clustering)"
   ]
  },
  {
   "cell_type": "code",
   "execution_count": null,
   "metadata": {},
   "outputs": [],
   "source": []
  },
  {
   "cell_type": "code",
   "execution_count": null,
   "metadata": {},
   "outputs": [],
   "source": []
  },
  {
   "cell_type": "code",
   "execution_count": null,
   "metadata": {},
   "outputs": [],
   "source": []
  },
  {
   "cell_type": "code",
   "execution_count": null,
   "metadata": {},
   "outputs": [],
   "source": []
  },
  {
   "cell_type": "code",
   "execution_count": 150,
   "metadata": {},
   "outputs": [
    {
     "ename": "TypeError",
     "evalue": "float() argument must be a string or a real number, not 'ellipsis'",
     "output_type": "error",
     "traceback": [
      "\u001b[0;31m---------------------------------------------------------------------------\u001b[0m",
      "\u001b[0;31mTypeError\u001b[0m                                 Traceback (most recent call last)",
      "Cell \u001b[0;32mIn[150], line 8\u001b[0m\n\u001b[1;32m      5\u001b[0m y \u001b[38;5;241m=\u001b[39m \u001b[38;5;241m.\u001b[39m\u001b[38;5;241m.\u001b[39m\u001b[38;5;241m.\u001b[39m\n\u001b[1;32m      7\u001b[0m \u001b[38;5;66;03m# Train a logistic regression model to predict y based on X\u001b[39;00m\n\u001b[0;32m----> 8\u001b[0m logreg \u001b[38;5;241m=\u001b[39m \u001b[43mLogisticRegression\u001b[49m\u001b[43m(\u001b[49m\u001b[43m)\u001b[49m\u001b[38;5;241;43m.\u001b[39;49m\u001b[43mfit\u001b[49m\u001b[43m(\u001b[49m\u001b[43mX\u001b[49m\u001b[43m,\u001b[49m\u001b[43m \u001b[49m\u001b[43my\u001b[49m\u001b[43m)\u001b[49m\n\u001b[1;32m     10\u001b[0m \u001b[38;5;66;03m# Get the predicted labels for all data points\u001b[39;00m\n\u001b[1;32m     11\u001b[0m y_pred \u001b[38;5;241m=\u001b[39m logreg\u001b[38;5;241m.\u001b[39mpredict(X)\n",
      "File \u001b[0;32m/opt/anaconda3/envs/thesis/lib/python3.10/site-packages/sklearn/linear_model/_logistic.py:1196\u001b[0m, in \u001b[0;36mLogisticRegression.fit\u001b[0;34m(self, X, y, sample_weight)\u001b[0m\n\u001b[1;32m   1193\u001b[0m \u001b[38;5;28;01melse\u001b[39;00m:\n\u001b[1;32m   1194\u001b[0m     _dtype \u001b[38;5;241m=\u001b[39m [np\u001b[38;5;241m.\u001b[39mfloat64, np\u001b[38;5;241m.\u001b[39mfloat32]\n\u001b[0;32m-> 1196\u001b[0m X, y \u001b[38;5;241m=\u001b[39m \u001b[38;5;28;43mself\u001b[39;49m\u001b[38;5;241;43m.\u001b[39;49m\u001b[43m_validate_data\u001b[49m\u001b[43m(\u001b[49m\n\u001b[1;32m   1197\u001b[0m \u001b[43m    \u001b[49m\u001b[43mX\u001b[49m\u001b[43m,\u001b[49m\n\u001b[1;32m   1198\u001b[0m \u001b[43m    \u001b[49m\u001b[43my\u001b[49m\u001b[43m,\u001b[49m\n\u001b[1;32m   1199\u001b[0m \u001b[43m    \u001b[49m\u001b[43maccept_sparse\u001b[49m\u001b[38;5;241;43m=\u001b[39;49m\u001b[38;5;124;43m\"\u001b[39;49m\u001b[38;5;124;43mcsr\u001b[39;49m\u001b[38;5;124;43m\"\u001b[39;49m\u001b[43m,\u001b[49m\n\u001b[1;32m   1200\u001b[0m \u001b[43m    \u001b[49m\u001b[43mdtype\u001b[49m\u001b[38;5;241;43m=\u001b[39;49m\u001b[43m_dtype\u001b[49m\u001b[43m,\u001b[49m\n\u001b[1;32m   1201\u001b[0m \u001b[43m    \u001b[49m\u001b[43morder\u001b[49m\u001b[38;5;241;43m=\u001b[39;49m\u001b[38;5;124;43m\"\u001b[39;49m\u001b[38;5;124;43mC\u001b[39;49m\u001b[38;5;124;43m\"\u001b[39;49m\u001b[43m,\u001b[49m\n\u001b[1;32m   1202\u001b[0m \u001b[43m    \u001b[49m\u001b[43maccept_large_sparse\u001b[49m\u001b[38;5;241;43m=\u001b[39;49m\u001b[43msolver\u001b[49m\u001b[43m \u001b[49m\u001b[38;5;129;43;01mnot\u001b[39;49;00m\u001b[43m \u001b[49m\u001b[38;5;129;43;01min\u001b[39;49;00m\u001b[43m \u001b[49m\u001b[43m[\u001b[49m\u001b[38;5;124;43m\"\u001b[39;49m\u001b[38;5;124;43mliblinear\u001b[39;49m\u001b[38;5;124;43m\"\u001b[39;49m\u001b[43m,\u001b[49m\u001b[43m \u001b[49m\u001b[38;5;124;43m\"\u001b[39;49m\u001b[38;5;124;43msag\u001b[39;49m\u001b[38;5;124;43m\"\u001b[39;49m\u001b[43m,\u001b[49m\u001b[43m \u001b[49m\u001b[38;5;124;43m\"\u001b[39;49m\u001b[38;5;124;43msaga\u001b[39;49m\u001b[38;5;124;43m\"\u001b[39;49m\u001b[43m]\u001b[49m\u001b[43m,\u001b[49m\n\u001b[1;32m   1203\u001b[0m \u001b[43m\u001b[49m\u001b[43m)\u001b[49m\n\u001b[1;32m   1204\u001b[0m check_classification_targets(y)\n\u001b[1;32m   1205\u001b[0m \u001b[38;5;28mself\u001b[39m\u001b[38;5;241m.\u001b[39mclasses_ \u001b[38;5;241m=\u001b[39m np\u001b[38;5;241m.\u001b[39munique(y)\n",
      "File \u001b[0;32m/opt/anaconda3/envs/thesis/lib/python3.10/site-packages/sklearn/base.py:554\u001b[0m, in \u001b[0;36mBaseEstimator._validate_data\u001b[0;34m(self, X, y, reset, validate_separately, **check_params)\u001b[0m\n\u001b[1;32m    552\u001b[0m         y \u001b[38;5;241m=\u001b[39m check_array(y, input_name\u001b[38;5;241m=\u001b[39m\u001b[38;5;124m\"\u001b[39m\u001b[38;5;124my\u001b[39m\u001b[38;5;124m\"\u001b[39m, \u001b[38;5;241m*\u001b[39m\u001b[38;5;241m*\u001b[39mcheck_y_params)\n\u001b[1;32m    553\u001b[0m     \u001b[38;5;28;01melse\u001b[39;00m:\n\u001b[0;32m--> 554\u001b[0m         X, y \u001b[38;5;241m=\u001b[39m \u001b[43mcheck_X_y\u001b[49m\u001b[43m(\u001b[49m\u001b[43mX\u001b[49m\u001b[43m,\u001b[49m\u001b[43m \u001b[49m\u001b[43my\u001b[49m\u001b[43m,\u001b[49m\u001b[43m \u001b[49m\u001b[38;5;241;43m*\u001b[39;49m\u001b[38;5;241;43m*\u001b[39;49m\u001b[43mcheck_params\u001b[49m\u001b[43m)\u001b[49m\n\u001b[1;32m    555\u001b[0m     out \u001b[38;5;241m=\u001b[39m X, y\n\u001b[1;32m    557\u001b[0m \u001b[38;5;28;01mif\u001b[39;00m \u001b[38;5;129;01mnot\u001b[39;00m no_val_X \u001b[38;5;129;01mand\u001b[39;00m check_params\u001b[38;5;241m.\u001b[39mget(\u001b[38;5;124m\"\u001b[39m\u001b[38;5;124mensure_2d\u001b[39m\u001b[38;5;124m\"\u001b[39m, \u001b[38;5;28;01mTrue\u001b[39;00m):\n",
      "File \u001b[0;32m/opt/anaconda3/envs/thesis/lib/python3.10/site-packages/sklearn/utils/validation.py:1104\u001b[0m, in \u001b[0;36mcheck_X_y\u001b[0;34m(X, y, accept_sparse, accept_large_sparse, dtype, order, copy, force_all_finite, ensure_2d, allow_nd, multi_output, ensure_min_samples, ensure_min_features, y_numeric, estimator)\u001b[0m\n\u001b[1;32m   1099\u001b[0m         estimator_name \u001b[38;5;241m=\u001b[39m _check_estimator_name(estimator)\n\u001b[1;32m   1100\u001b[0m     \u001b[38;5;28;01mraise\u001b[39;00m \u001b[38;5;167;01mValueError\u001b[39;00m(\n\u001b[1;32m   1101\u001b[0m         \u001b[38;5;124mf\u001b[39m\u001b[38;5;124m\"\u001b[39m\u001b[38;5;132;01m{\u001b[39;00mestimator_name\u001b[38;5;132;01m}\u001b[39;00m\u001b[38;5;124m requires y to be passed, but the target y is None\u001b[39m\u001b[38;5;124m\"\u001b[39m\n\u001b[1;32m   1102\u001b[0m     )\n\u001b[0;32m-> 1104\u001b[0m X \u001b[38;5;241m=\u001b[39m \u001b[43mcheck_array\u001b[49m\u001b[43m(\u001b[49m\n\u001b[1;32m   1105\u001b[0m \u001b[43m    \u001b[49m\u001b[43mX\u001b[49m\u001b[43m,\u001b[49m\n\u001b[1;32m   1106\u001b[0m \u001b[43m    \u001b[49m\u001b[43maccept_sparse\u001b[49m\u001b[38;5;241;43m=\u001b[39;49m\u001b[43maccept_sparse\u001b[49m\u001b[43m,\u001b[49m\n\u001b[1;32m   1107\u001b[0m \u001b[43m    \u001b[49m\u001b[43maccept_large_sparse\u001b[49m\u001b[38;5;241;43m=\u001b[39;49m\u001b[43maccept_large_sparse\u001b[49m\u001b[43m,\u001b[49m\n\u001b[1;32m   1108\u001b[0m \u001b[43m    \u001b[49m\u001b[43mdtype\u001b[49m\u001b[38;5;241;43m=\u001b[39;49m\u001b[43mdtype\u001b[49m\u001b[43m,\u001b[49m\n\u001b[1;32m   1109\u001b[0m \u001b[43m    \u001b[49m\u001b[43morder\u001b[49m\u001b[38;5;241;43m=\u001b[39;49m\u001b[43morder\u001b[49m\u001b[43m,\u001b[49m\n\u001b[1;32m   1110\u001b[0m \u001b[43m    \u001b[49m\u001b[43mcopy\u001b[49m\u001b[38;5;241;43m=\u001b[39;49m\u001b[43mcopy\u001b[49m\u001b[43m,\u001b[49m\n\u001b[1;32m   1111\u001b[0m \u001b[43m    \u001b[49m\u001b[43mforce_all_finite\u001b[49m\u001b[38;5;241;43m=\u001b[39;49m\u001b[43mforce_all_finite\u001b[49m\u001b[43m,\u001b[49m\n\u001b[1;32m   1112\u001b[0m \u001b[43m    \u001b[49m\u001b[43mensure_2d\u001b[49m\u001b[38;5;241;43m=\u001b[39;49m\u001b[43mensure_2d\u001b[49m\u001b[43m,\u001b[49m\n\u001b[1;32m   1113\u001b[0m \u001b[43m    \u001b[49m\u001b[43mallow_nd\u001b[49m\u001b[38;5;241;43m=\u001b[39;49m\u001b[43mallow_nd\u001b[49m\u001b[43m,\u001b[49m\n\u001b[1;32m   1114\u001b[0m \u001b[43m    \u001b[49m\u001b[43mensure_min_samples\u001b[49m\u001b[38;5;241;43m=\u001b[39;49m\u001b[43mensure_min_samples\u001b[49m\u001b[43m,\u001b[49m\n\u001b[1;32m   1115\u001b[0m \u001b[43m    \u001b[49m\u001b[43mensure_min_features\u001b[49m\u001b[38;5;241;43m=\u001b[39;49m\u001b[43mensure_min_features\u001b[49m\u001b[43m,\u001b[49m\n\u001b[1;32m   1116\u001b[0m \u001b[43m    \u001b[49m\u001b[43mestimator\u001b[49m\u001b[38;5;241;43m=\u001b[39;49m\u001b[43mestimator\u001b[49m\u001b[43m,\u001b[49m\n\u001b[1;32m   1117\u001b[0m \u001b[43m    \u001b[49m\u001b[43minput_name\u001b[49m\u001b[38;5;241;43m=\u001b[39;49m\u001b[38;5;124;43m\"\u001b[39;49m\u001b[38;5;124;43mX\u001b[39;49m\u001b[38;5;124;43m\"\u001b[39;49m\u001b[43m,\u001b[49m\n\u001b[1;32m   1118\u001b[0m \u001b[43m\u001b[49m\u001b[43m)\u001b[49m\n\u001b[1;32m   1120\u001b[0m y \u001b[38;5;241m=\u001b[39m _check_y(y, multi_output\u001b[38;5;241m=\u001b[39mmulti_output, y_numeric\u001b[38;5;241m=\u001b[39my_numeric, estimator\u001b[38;5;241m=\u001b[39mestimator)\n\u001b[1;32m   1122\u001b[0m check_consistent_length(X, y)\n",
      "File \u001b[0;32m/opt/anaconda3/envs/thesis/lib/python3.10/site-packages/sklearn/utils/validation.py:877\u001b[0m, in \u001b[0;36mcheck_array\u001b[0;34m(array, accept_sparse, accept_large_sparse, dtype, order, copy, force_all_finite, ensure_2d, allow_nd, ensure_min_samples, ensure_min_features, estimator, input_name)\u001b[0m\n\u001b[1;32m    875\u001b[0m         array \u001b[38;5;241m=\u001b[39m xp\u001b[38;5;241m.\u001b[39mastype(array, dtype, copy\u001b[38;5;241m=\u001b[39m\u001b[38;5;28;01mFalse\u001b[39;00m)\n\u001b[1;32m    876\u001b[0m     \u001b[38;5;28;01melse\u001b[39;00m:\n\u001b[0;32m--> 877\u001b[0m         array \u001b[38;5;241m=\u001b[39m \u001b[43m_asarray_with_order\u001b[49m\u001b[43m(\u001b[49m\u001b[43marray\u001b[49m\u001b[43m,\u001b[49m\u001b[43m \u001b[49m\u001b[43morder\u001b[49m\u001b[38;5;241;43m=\u001b[39;49m\u001b[43morder\u001b[49m\u001b[43m,\u001b[49m\u001b[43m \u001b[49m\u001b[43mdtype\u001b[49m\u001b[38;5;241;43m=\u001b[39;49m\u001b[43mdtype\u001b[49m\u001b[43m,\u001b[49m\u001b[43m \u001b[49m\u001b[43mxp\u001b[49m\u001b[38;5;241;43m=\u001b[39;49m\u001b[43mxp\u001b[49m\u001b[43m)\u001b[49m\n\u001b[1;32m    878\u001b[0m \u001b[38;5;28;01mexcept\u001b[39;00m ComplexWarning \u001b[38;5;28;01mas\u001b[39;00m complex_warning:\n\u001b[1;32m    879\u001b[0m     \u001b[38;5;28;01mraise\u001b[39;00m \u001b[38;5;167;01mValueError\u001b[39;00m(\n\u001b[1;32m    880\u001b[0m         \u001b[38;5;124m\"\u001b[39m\u001b[38;5;124mComplex data not supported\u001b[39m\u001b[38;5;130;01m\\n\u001b[39;00m\u001b[38;5;132;01m{}\u001b[39;00m\u001b[38;5;130;01m\\n\u001b[39;00m\u001b[38;5;124m\"\u001b[39m\u001b[38;5;241m.\u001b[39mformat(array)\n\u001b[1;32m    881\u001b[0m     ) \u001b[38;5;28;01mfrom\u001b[39;00m \u001b[38;5;21;01mcomplex_warning\u001b[39;00m\n",
      "File \u001b[0;32m/opt/anaconda3/envs/thesis/lib/python3.10/site-packages/sklearn/utils/_array_api.py:185\u001b[0m, in \u001b[0;36m_asarray_with_order\u001b[0;34m(array, dtype, order, copy, xp)\u001b[0m\n\u001b[1;32m    182\u001b[0m     xp, _ \u001b[38;5;241m=\u001b[39m get_namespace(array)\n\u001b[1;32m    183\u001b[0m \u001b[38;5;28;01mif\u001b[39;00m xp\u001b[38;5;241m.\u001b[39m\u001b[38;5;18m__name__\u001b[39m \u001b[38;5;129;01min\u001b[39;00m {\u001b[38;5;124m\"\u001b[39m\u001b[38;5;124mnumpy\u001b[39m\u001b[38;5;124m\"\u001b[39m, \u001b[38;5;124m\"\u001b[39m\u001b[38;5;124mnumpy.array_api\u001b[39m\u001b[38;5;124m\"\u001b[39m}:\n\u001b[1;32m    184\u001b[0m     \u001b[38;5;66;03m# Use NumPy API to support order\u001b[39;00m\n\u001b[0;32m--> 185\u001b[0m     array \u001b[38;5;241m=\u001b[39m \u001b[43mnumpy\u001b[49m\u001b[38;5;241;43m.\u001b[39;49m\u001b[43masarray\u001b[49m\u001b[43m(\u001b[49m\u001b[43marray\u001b[49m\u001b[43m,\u001b[49m\u001b[43m \u001b[49m\u001b[43morder\u001b[49m\u001b[38;5;241;43m=\u001b[39;49m\u001b[43morder\u001b[49m\u001b[43m,\u001b[49m\u001b[43m \u001b[49m\u001b[43mdtype\u001b[49m\u001b[38;5;241;43m=\u001b[39;49m\u001b[43mdtype\u001b[49m\u001b[43m)\u001b[49m\n\u001b[1;32m    186\u001b[0m     \u001b[38;5;28;01mreturn\u001b[39;00m xp\u001b[38;5;241m.\u001b[39masarray(array, copy\u001b[38;5;241m=\u001b[39mcopy)\n\u001b[1;32m    187\u001b[0m \u001b[38;5;28;01melse\u001b[39;00m:\n",
      "\u001b[0;31mTypeError\u001b[0m: float() argument must be a string or a real number, not 'ellipsis'"
     ]
    }
   ],
   "source": [
    "from sklearn.linear_model import LogisticRegression\n",
    "\n",
    "# X is a matrix of features and y is a vector of labels\n",
    "X = ...\n",
    "y = ...\n",
    "\n",
    "# Train a logistic regression model to predict y based on X\n",
    "logreg = LogisticRegression().fit(X, y)\n",
    "\n",
    "# Get the predicted labels for all data points\n",
    "y_pred = logreg.predict(X)\n",
    "\n",
    "# Find the indices of data points that are easily predictable (i.e., where the predicted label matches the true label)\n",
    "easy_indices = [i for i in range(len(y)) if y[i] == y_pred[i]]\n",
    "\n",
    "# Filter out the data points with easily predictable labels\n",
    "X_filtered = np.delete(X, easy_indices, axis=0)\n",
    "y_filtered = np.delete(y, easy_indices)\n"
   ]
  },
  {
   "cell_type": "code",
   "execution_count": null,
   "metadata": {},
   "outputs": [],
   "source": [
    "failed[1][0].number_of_nodes()"
   ]
  },
  {
   "cell_type": "code",
   "execution_count": null,
   "metadata": {},
   "outputs": [],
   "source": [
    "(failed[1][1])"
   ]
  },
  {
   "cell_type": "code",
   "execution_count": null,
   "metadata": {},
   "outputs": [],
   "source": [
    "# look at how far the pebble game goes in those cases"
   ]
  },
  {
   "cell_type": "code",
   "execution_count": null,
   "metadata": {},
   "outputs": [],
   "source": [
    "num_nodes = 50\n",
    "model.eval()\n",
    "for num_graphs in range(10):\n",
    "    G = nx.erdos_renyi_graph(num_nodes, 0.2)\n",
    "    graph_as_data = from_networkx(G)\n",
    "    graph_as_data.x = generate_feature_vector(G)\n",
    "    graph_as_data.label = 1\n",
    "    validation_set = DataLoader([graph_as_data], batch_size = 1, shuffle=True)\n",
    "    for batch in validation_set:\n",
    "        with torch.no_grad():\n",
    "            pred = model(batch.x[:, [0, 1, 2, 3]], batch.edge_index, batch.batch)\n",
    "            if (pred[0][0][0] < 0.5):\n",
    "                print(\"WRONG\")\n"
   ]
  },
  {
   "cell_type": "code",
   "execution_count": null,
   "metadata": {},
   "outputs": [],
   "source": []
  },
  {
   "cell_type": "code",
   "execution_count": null,
   "metadata": {},
   "outputs": [],
   "source": []
  },
  {
   "cell_type": "code",
   "execution_count": null,
   "metadata": {},
   "outputs": [],
   "source": [
    "print(num_rigid)\n",
    "print(num_flexible)"
   ]
  },
  {
   "cell_type": "code",
   "execution_count": null,
   "metadata": {},
   "outputs": [],
   "source": [
    "g = nx.Graph()"
   ]
  },
  {
   "cell_type": "code",
   "execution_count": null,
   "metadata": {},
   "outputs": [],
   "source": [
    "for i in range(0, 30):\n",
    "    j = (np.random.randint(0, 30))\n",
    "    while j == i:\n",
    "        j = (np.random.randint(0, 30))\n",
    "        \n",
    "    print(j == i)\n",
    "    g.add_edge(i, j)"
   ]
  },
  {
   "cell_type": "code",
   "execution_count": null,
   "metadata": {},
   "outputs": [],
   "source": [
    "all_possible_edges = set()\n",
    "for i in range(0, 30):\n",
    "    for j in range(i+1, 30):\n",
    "        if not g.has_edge(i, j):\n",
    "            all_possible_edges.add((i,j))"
   ]
  },
  {
   "cell_type": "code",
   "execution_count": null,
   "metadata": {},
   "outputs": [],
   "source": [
    "print(all_possible_edges)"
   ]
  },
  {
   "cell_type": "code",
   "execution_count": null,
   "metadata": {},
   "outputs": [],
   "source": [
    "import random \n",
    "non_edges_sample_order = random.sample(all_possible_edges, 57 - 31)"
   ]
  },
  {
   "cell_type": "code",
   "execution_count": null,
   "metadata": {},
   "outputs": [],
   "source": [
    "for (u,v) in non_edges_sample_order:\n",
    "    g.add_edge(u, v)"
   ]
  },
  {
   "cell_type": "code",
   "execution_count": null,
   "metadata": {},
   "outputs": [],
   "source": [
    "print(g.number_of_edges())"
   ]
  },
  {
   "cell_type": "code",
   "execution_count": null,
   "metadata": {},
   "outputs": [],
   "source": [
    "model.eval()\n",
    "with torch.no_grad():\n",
    "    graph_as_data = from_networkx(g)\n",
    "    graph_as_data.x = generate_feature_vector(g)\n",
    "    validation_set = DataLoader([graph_as_data], batch_size = 1, shuffle=True)\n",
    "    for batch in validation_set:\n",
    "        pred = model(batch.x[:, [0]], batch.edge_index, batch.batch)\n",
    "        print(pred)\n"
   ]
  },
  {
   "cell_type": "code",
   "execution_count": null,
   "metadata": {},
   "outputs": [],
   "source": [
    "check_accuracy(model, test_loader, [0])"
   ]
  },
  {
   "cell_type": "code",
   "execution_count": null,
   "metadata": {},
   "outputs": [],
   "source": [
    "check_accuracy(model, train_loader, [0, 1, 2, 3])"
   ]
  },
  {
   "cell_type": "code",
   "execution_count": null,
   "metadata": {},
   "outputs": [],
   "source": [
    "# sanity check"
   ]
  },
  {
   "cell_type": "code",
   "execution_count": null,
   "metadata": {},
   "outputs": [],
   "source": [
    "# test on best model"
   ]
  },
  {
   "cell_type": "code",
   "execution_count": 58,
   "metadata": {},
   "outputs": [],
   "source": [
    "# square\n",
    "import networkx as nx\n",
    "square = nx.Graph()\n",
    "square.add_edge(0, 1)\n",
    "square.add_edge(1, 3)\n",
    "square.add_edge(0, 2)\n",
    "square.add_edge(2, 3)"
   ]
  },
  {
   "cell_type": "code",
   "execution_count": 59,
   "metadata": {},
   "outputs": [],
   "source": [
    "# square with cross bar (rigid)\n",
    "import networkx as nx\n",
    "square_bar = nx.Graph()\n",
    "square_bar.add_edge(0, 1)\n",
    "square_bar.add_edge(1, 3)\n",
    "square_bar.add_edge(0, 2)\n",
    "square_bar.add_edge(2, 3)\n",
    "square_bar.add_edge(0, 3)\n",
    "square_bar.add_edge(1, 2)"
   ]
  },
  {
   "cell_type": "code",
   "execution_count": 60,
   "metadata": {},
   "outputs": [],
   "source": [
    "# triangle\n",
    "import networkx as nx\n",
    "triangle = nx.Graph()\n",
    "triangle.add_edge(0, 1)\n",
    "triangle.add_edge(0, 2)\n",
    "triangle.add_edge(1, 2)"
   ]
  },
  {
   "cell_type": "code",
   "execution_count": 61,
   "metadata": {},
   "outputs": [],
   "source": [
    "# pentagon\n",
    "import networkx as nx\n",
    "pentagon = nx.Graph()\n",
    "pentagon.add_edge(0, 1)\n",
    "pentagon.add_edge(1, 3)\n",
    "pentagon.add_edge(3, 4)\n",
    "pentagon.add_edge(4, 2)\n",
    "pentagon.add_edge(2, 0)"
   ]
  },
  {
   "cell_type": "code",
   "execution_count": 62,
   "metadata": {},
   "outputs": [],
   "source": [
    "# pentagon\n",
    "import networkx as nx\n",
    "pentagon_new = nx.Graph()\n",
    "pentagon_new.add_edge(0, 1)\n",
    "pentagon_new.add_edge(1, 3)\n",
    "pentagon_new.add_edge(3, 4)\n",
    "pentagon_new.add_edge(4, 2)\n",
    "pentagon_new.add_edge(2, 0)\n",
    "pentagon_new.add_edge(1, 2)"
   ]
  },
  {
   "cell_type": "code",
   "execution_count": 63,
   "metadata": {},
   "outputs": [],
   "source": [
    "# no triangle and rigid\n",
    "rigid = nx.Graph()\n",
    "rigid.add_edge(0, 1)\n",
    "rigid.add_edge(0, 2)\n",
    "rigid.add_edge(0, 4)\n",
    "rigid.add_edge(1, 2)\n",
    "rigid.add_edge(1, 5)\n",
    "rigid.add_edge(2, 3)\n",
    "rigid.add_edge(3, 4)\n",
    "rigid.add_edge(3, 5)\n",
    "rigid.add_edge(4, 5)"
   ]
  },
  {
   "cell_type": "code",
   "execution_count": 64,
   "metadata": {},
   "outputs": [],
   "source": [
    "# two triangles\n",
    "two_triangles = nx.Graph()\n",
    "two_triangles.add_edge(0, 1)\n",
    "two_triangles.add_edge(0, 2)\n",
    "two_triangles.add_edge(1, 2)\n",
    "two_triangles.add_edge(2, 3)\n",
    "two_triangles.add_edge(1, 3)"
   ]
  },
  {
   "cell_type": "code",
   "execution_count": 65,
   "metadata": {},
   "outputs": [],
   "source": [
    "# three triangles\n",
    "three_triangles = nx.Graph()\n",
    "three_triangles.add_edge(0, 1)\n",
    "three_triangles.add_edge(0, 2)\n",
    "three_triangles.add_edge(1, 2)\n",
    "three_triangles.add_edge(2, 3)\n",
    "three_triangles.add_edge(1, 3)\n",
    "three_triangles.add_edge(1, 4)\n",
    "three_triangles.add_edge(3, 4)\n",
    "three_triangles.add_edge(4, 2)\n",
    "three_triangles.add_edge(0, 4)"
   ]
  },
  {
   "cell_type": "code",
   "execution_count": 66,
   "metadata": {},
   "outputs": [
    {
     "ename": "NameError",
     "evalue": "name 'cg' is not defined",
     "output_type": "error",
     "traceback": [
      "\u001b[0;31m---------------------------------------------------------------------------\u001b[0m",
      "\u001b[0;31mNameError\u001b[0m                                 Traceback (most recent call last)",
      "Cell \u001b[0;32mIn[66], line 1\u001b[0m\n\u001b[0;32m----> 1\u001b[0m \u001b[43mcg\u001b[49m\u001b[38;5;241m.\u001b[39mnumber_of_nodes()\n",
      "\u001b[0;31mNameError\u001b[0m: name 'cg' is not defined"
     ]
    }
   ],
   "source": [
    "cg.number_of_nodes()"
   ]
  },
  {
   "cell_type": "code",
   "execution_count": 68,
   "metadata": {},
   "outputs": [
    {
     "name": "stdout",
     "output_type": "stream",
     "text": [
      "tensor([[1.]])\n",
      "tensor([[1.]])\n",
      "tensor([[1.]])\n",
      "tensor([[1.]])\n",
      "tensor([[1.]])\n",
      "tensor([[1.]])\n",
      "tensor([[1.0000]])\n"
     ]
    }
   ],
   "source": [
    "toy_problems = [square, square_bar, triangle, pentagon, rigid, two_triangles, three_triangles]\n",
    "labels = [1, 0, 0, 1, 0, 0, 1, 0]\n",
    "\n",
    "for index, toy_problem in enumerate(toy_problems):\n",
    "    model.eval()\n",
    "    with torch.no_grad():\n",
    "        graph_as_data = from_networkx(toy_problem)\n",
    "        graph_as_data.x = generate_feature_vector(toy_problem)\n",
    "#         graph_as_data.label = labels[index]\n",
    "        validation_set = DataLoader([graph_as_data], batch_size = 1, shuffle=True)\n",
    "        for batch in validation_set:\n",
    "            pred = model(batch.x[:, [0, 1, 2,3]], batch.edge_index, batch.batch)\n",
    "            print(pred[0])\n",
    "    "
   ]
  },
  {
   "cell_type": "code",
   "execution_count": 96,
   "metadata": {},
   "outputs": [
    {
     "data": {
      "text/plain": [
       "0"
      ]
     },
     "execution_count": 96,
     "metadata": {},
     "output_type": "execute_result"
    }
   ],
   "source": [
    "cg.number_of_edges(0)"
   ]
  },
  {
   "cell_type": "code",
   "execution_count": null,
   "metadata": {},
   "outputs": [],
   "source": []
  },
  {
   "cell_type": "code",
   "execution_count": null,
   "metadata": {},
   "outputs": [],
   "source": [
    "graph_as_data"
   ]
  },
  {
   "cell_type": "code",
   "execution_count": null,
   "metadata": {},
   "outputs": [],
   "source": [
    "# get the distribution of examples that it fails on"
   ]
  },
  {
   "cell_type": "code",
   "execution_count": null,
   "metadata": {},
   "outputs": [],
   "source": []
  },
  {
   "cell_type": "code",
   "execution_count": null,
   "metadata": {},
   "outputs": [],
   "source": [
    "validation_set = DataLoader([graph_as_data], batch_size = 1, shuffle=True)"
   ]
  },
  {
   "cell_type": "code",
   "execution_count": null,
   "metadata": {
    "scrolled": true
   },
   "outputs": [],
   "source": [
    "for batch in validation_set:\n",
    "    pred = bestModel(batch.x, batch.edge_index, batch.batch)\n",
    "    print(pred[0])\n",
    "    print(pred[1])"
   ]
  },
  {
   "cell_type": "code",
   "execution_count": 69,
   "metadata": {},
   "outputs": [],
   "source": [
    "class LamanTestDataset(InMemoryDataset):\n",
    "    def __init__(self, root, data_dir, transform=None, pre_transform=None, pre_filter=None):\n",
    "        self.data_dir = data_dir\n",
    "        super().__init__(root, transform, pre_transform, pre_filter)\n",
    "        self.data, self.slices = torch.load(self.processed_paths[0])\n",
    "        \n",
    "    @property\n",
    "    def processed_file_names(self):\n",
    "        return ['data_test.pt']\n",
    "        \n",
    "    def process(self):\n",
    "        # processing code here\n",
    "        total_laman_data = None\n",
    "        with gzip.open(self.data_dir, 'r') as f:\n",
    "            total_laman_data = pickle.load(f)\n",
    "            \n",
    "        data_list = []\n",
    "        ind = 0\n",
    "        # convert from graph to Data object\n",
    "        for graph in total_laman_data[0]:\n",
    "#             print(ind)\n",
    "            ind += 1\n",
    "            num_nodes = nx.number_of_nodes(graph)\n",
    "#             x = torch.randn(num_nodes, 1)\n",
    "            x = generate_feature_vector(graph)\n",
    "            graph_as_data = from_networkx(graph)\n",
    "            graph_as_data.x = x\n",
    "            graph_as_data.label = 0\n",
    "            data_list.append(graph_as_data)\n",
    "            \n",
    "        ind = 0\n",
    "        for graph in total_laman_data[1]:\n",
    "#             print(ind)\n",
    "            ind += 1\n",
    "            num_nodes = nx.number_of_nodes(graph)\n",
    "#             x = torch.randn(num_nodes, 64)\n",
    "            x = generate_feature_vector(graph)\n",
    "            graph_as_data = from_networkx(graph)\n",
    "            graph_as_data.x = x\n",
    "            graph_as_data.label = 1\n",
    "            data_list.append(graph_as_data)\n",
    "            \n",
    "        data, slices = self.collate(data_list)\n",
    "        torch.save((data, slices), self.processed_paths[0])"
   ]
  },
  {
   "cell_type": "code",
   "execution_count": 70,
   "metadata": {},
   "outputs": [
    {
     "name": "stderr",
     "output_type": "stream",
     "text": [
      "Processing...\n",
      "Done!\n"
     ]
    }
   ],
   "source": [
    "# add functionality to support a test dataset\n",
    "TEST_DATA_PATH = \"data/lim1-4-output.pkl.gz\"\n",
    "laman_test_set = LamanTestDataset(\"\", TEST_DATA_PATH)"
   ]
  },
  {
   "cell_type": "code",
   "execution_count": 71,
   "metadata": {},
   "outputs": [],
   "source": [
    "from torch_geometric.loader import DataLoader\n",
    "laman_test_loader = DataLoader(laman_test_set, batch_size = 2, shuffle=True)"
   ]
  },
  {
   "cell_type": "code",
   "execution_count": 73,
   "metadata": {},
   "outputs": [
    {
     "name": "stdout",
     "output_type": "stream",
     "text": [
      "Accuracy 50.0\n"
     ]
    }
   ],
   "source": [
    "random_test_acc = check_accuracy(model, laman_test_loader, [0, 1, 2, 3])\n",
    "print(f\"Accuracy {random_test_acc}\")"
   ]
  },
  {
   "cell_type": "code",
   "execution_count": 99,
   "metadata": {},
   "outputs": [],
   "source": [
    "cg = nx.complete_graph(20)"
   ]
  },
  {
   "cell_type": "code",
   "execution_count": 100,
   "metadata": {},
   "outputs": [
    {
     "data": {
      "text/plain": [
       "190"
      ]
     },
     "execution_count": 100,
     "metadata": {},
     "output_type": "execute_result"
    }
   ],
   "source": [
    "cg.number_of_edges()"
   ]
  },
  {
   "cell_type": "code",
   "execution_count": null,
   "metadata": {},
   "outputs": [],
   "source": [
    "clustering_coefficient(square, 0)"
   ]
  },
  {
   "cell_type": "code",
   "execution_count": null,
   "metadata": {},
   "outputs": [],
   "source": [
    "clustering_coefficient(triangle, 0)"
   ]
  },
  {
   "cell_type": "code",
   "execution_count": null,
   "metadata": {},
   "outputs": [],
   "source": [
    "clustering_coefficient(square_bar, 0)"
   ]
  },
  {
   "cell_type": "code",
   "execution_count": null,
   "metadata": {},
   "outputs": [],
   "source": [
    "# generate graph correlating clustering coefficient to rigidity"
   ]
  },
  {
   "cell_type": "code",
   "execution_count": null,
   "metadata": {},
   "outputs": [],
   "source": [
    "for item in train_data:\n",
    "    item = to_networkx(item)\n",
    "    print(type(item))\n",
    "    \n",
    "    break"
   ]
  },
  {
   "cell_type": "code",
   "execution_count": null,
   "metadata": {},
   "outputs": [],
   "source": [
    "torch_geometric.utils.convert.to_networkx()"
   ]
  },
  {
   "cell_type": "markdown",
   "metadata": {},
   "source": [
    "# Scratch Work: Sahil"
   ]
  },
  {
   "cell_type": "code",
   "execution_count": null,
   "metadata": {},
   "outputs": [],
   "source": [
    "total_laman_data = None\n",
    "with gzip.open(DATA_PATH, 'r') as f:\n",
    "    total_laman_data = pickle.load(f)"
   ]
  },
  {
   "cell_type": "code",
   "execution_count": null,
   "metadata": {},
   "outputs": [],
   "source": [
    "sample_graph = total_laman_data[0][0]"
   ]
  },
  {
   "cell_type": "code",
   "execution_count": null,
   "metadata": {},
   "outputs": [],
   "source": [
    "print(type(sample_graph))"
   ]
  },
  {
   "cell_type": "code",
   "execution_count": null,
   "metadata": {},
   "outputs": [],
   "source": [
    "to_data = from_networkx(sample_graph)\n",
    "from_data = to_networkx(to_data, to_undirected = True)"
   ]
  },
  {
   "cell_type": "code",
   "execution_count": null,
   "metadata": {},
   "outputs": [],
   "source": [
    "print(type(from_data))"
   ]
  },
  {
   "cell_type": "code",
   "execution_count": null,
   "metadata": {},
   "outputs": [],
   "source": [
    "def compute_min_clustering_coefficient(G):\n",
    "    min_coefficient = 1\n",
    "    for node in G.nodes():\n",
    "        min_coefficient = min(min_coefficient, clustering_coefficient(G, node))\n",
    "        \n",
    "    return min_coefficient"
   ]
  },
  {
   "cell_type": "code",
   "execution_count": null,
   "metadata": {},
   "outputs": [],
   "source": [
    "for index, sample_graph in enumerate(train_data):\n",
    "    label = sample_graph.label\n",
    "    networkx_sample_graph = to_networkx(sample_graph, to_undirected = True)\n",
    "    print(label, \" \", index, \" \", compute_min_clustering_coefficient(networkx_sample_graph))\n",
    "    \n",
    "    if index == 10:\n",
    "        break"
   ]
  },
  {
   "cell_type": "code",
   "execution_count": null,
   "metadata": {},
   "outputs": [],
   "source": [
    "print(compute_min_clustering_coefficient(from_data))"
   ]
  },
  {
   "cell_type": "code",
   "execution_count": null,
   "metadata": {},
   "outputs": [],
   "source": [
    "compute_min_clustering_coefficient(triangle)"
   ]
  },
  {
   "cell_type": "code",
   "execution_count": null,
   "metadata": {},
   "outputs": [],
   "source": [
    "# what if instead of training a gnn – you just trained on "
   ]
  },
  {
   "cell_type": "code",
   "execution_count": null,
   "metadata": {},
   "outputs": [],
   "source": [
    "# train a binary classifier on just the degrees of the nodes\n",
    "\n"
   ]
  },
  {
   "cell_type": "code",
   "execution_count": null,
   "metadata": {},
   "outputs": [],
   "source": [
    "# train a binary classifier on just the triangle feature"
   ]
  },
  {
   "cell_type": "code",
   "execution_count": null,
   "metadata": {},
   "outputs": [],
   "source": [
    "# train a binary classifier on the triangle features and the degree"
   ]
  },
  {
   "cell_type": "code",
   "execution_count": null,
   "metadata": {},
   "outputs": [],
   "source": [
    "# train a network with just degree of the node "
   ]
  },
  {
   "cell_type": "code",
   "execution_count": null,
   "metadata": {
    "scrolled": true
   },
   "outputs": [],
   "source": [
    "model_just_degree = GIN(num_features=1)\n",
    "print(model_just_degree)\n",
    "print(\"Number of parameters: \", sum(p.numel() for p in model.parameters()))"
   ]
  },
  {
   "cell_type": "code",
   "execution_count": null,
   "metadata": {},
   "outputs": [],
   "source": [
    "print(\"Starting training...\")\n",
    "losses = []\n",
    "\n",
    "bestModel, highestAcc = None, 0\n",
    "\n",
    "for epoch in range(1000):\n",
    "    loss, h = train(train_loader, [0])\n",
    "    losses.append(loss)\n",
    "    print(f\"Epoch {epoch} | Train loss {loss}\")\n",
    "    train_acc, test_acc = check_accuracy(model_just_degree, train_loader), check_accuracy(model_just_degree, test_loader)\n",
    "    print(f\"Train Accuracy {train_acc} | Test Accuracy {test_acc}\")\n",
    "#     scheduler.step(test_acc)\n",
    "    \n",
    "    if test_acc > highestAcc:\n",
    "        highestAcc = test_acc\n",
    "        bestModel = model"
   ]
  },
  {
   "cell_type": "code",
   "execution_count": null,
   "metadata": {},
   "outputs": [],
   "source": [
    "generate_feature_vector(sample_graph)"
   ]
  },
  {
   "cell_type": "code",
   "execution_count": null,
   "metadata": {},
   "outputs": [],
   "source": [
    "sample_graph.x[:, [0, 1]]"
   ]
  },
  {
   "cell_type": "code",
   "execution_count": null,
   "metadata": {},
   "outputs": [],
   "source": [
    "proportions = [.6, .2, .2]\n",
    "lengths = [int(p * len(laman_data)) for p in proportions]\n",
    "lengths[-1] = len(laman_data) - sum(lengths[:-1])\n",
    "\n",
    "generator1 = torch.Generator().manual_seed(42)\n",
    "train_data_list, test_data_list, val_data_list = random_split(laman_data, lengths, generator=generator1)\n"
   ]
  },
  {
   "cell_type": "code",
   "execution_count": null,
   "metadata": {},
   "outputs": [],
   "source": [
    "train_data_list"
   ]
  },
  {
   "cell_type": "code",
   "execution_count": null,
   "metadata": {},
   "outputs": [],
   "source": [
    "train_loader = DataLoader(train_data_list, batch_size=2, shuffle=True)\n",
    "val_loader = DataLoader(val_data_list, batch_size=2)\n",
    "test_loader = DataLoader(test_data_list, batch_size=2)\n"
   ]
  },
  {
   "cell_type": "code",
   "execution_count": null,
   "metadata": {},
   "outputs": [],
   "source": [
    "for data in train_loader:\n",
    "    print(data)"
   ]
  },
  {
   "cell_type": "code",
   "execution_count": 163,
   "metadata": {},
   "outputs": [],
   "source": [
    "# go through the and calculate summary statistics"
   ]
  },
  {
   "cell_type": "code",
   "execution_count": null,
   "metadata": {},
   "outputs": [],
   "source": [
    "correct, failed = [], []\n",
    "num_rigid_wrong, num_flexible_wrong = 0, 0\n",
    "num_rigid, num_flexible = 0, 0\n",
    "for x in train_data:\n",
    "    # convert from torch_geometric.data.data.Data to networkx graph?\n",
    "    label = x.label[0]\n",
    "    if label == 0:\n",
    "        num_rigid += 1\n",
    "    elif label == 1:\n",
    "        num_flexible += 1\n",
    "        \n",
    "        \n",
    "    model.eval()\n",
    "    graph = to_networkx(x, to_undirected = True)\n",
    "    validation_set = DataLoader([x], batch_size = 1, shuffle=True)\n",
    "    for batch in validation_set:\n",
    "        pred = bestModel(batch.x[:, [0, 1, 2, 3]], batch.edge_index, batch.batch)\n",
    "        pred = pred[0][0][0]\n",
    "        if pred > 0.5:\n",
    "            pred = 1\n",
    "        else:\n",
    "            pred = 0\n",
    "            \n",
    "        if pred != label:\n",
    "            failed.append((graph, label))\n",
    "            if label == 1:\n",
    "                num_flexible_wrong += 1\n",
    "            if label == 0:\n",
    "                num_rigid_wrong += 1\n",
    "        else:\n",
    "            correct.append((graph, label))    "
   ]
  },
  {
   "cell_type": "code",
   "execution_count": 166,
   "metadata": {},
   "outputs": [],
   "source": [
    "rigid, flexible = [], []\n",
    "\n",
    "for g in laman_data:\n",
    "    graph = to_networkx(g, to_undirected = True)\n",
    "    if g.label == 0:\n",
    "        rigid.append(graph)\n",
    "    elif g.label == 1:\n",
    "        flexible.append(graph)\n"
   ]
  },
  {
   "cell_type": "code",
   "execution_count": 174,
   "metadata": {},
   "outputs": [],
   "source": [
    "# analyze degree sequence\n",
    "rigid_degree_sequences = []\n",
    "flexible_degree_sequences = []\n",
    "\n",
    "rigid_clustering = []\n",
    "flexible_clustering = []\n",
    "\n",
    "for g in laman_data:\n",
    "    graph = to_networkx(g, to_undirected = True)\n",
    "    degree_sequence = sorted((d for n, d in graph.degree()), reverse=True)\n",
    "    if g.label == 0:\n",
    "        rigid.append(graph)\n",
    "        rigid_degree_sequences.append(degree_sequence)\n",
    "        rigid_clustering.append(sorted(nx.clustering(graph).values()))\n",
    "    elif g.label == 1:\n",
    "        flexible.append(graph)\n",
    "        flexible_degree_sequences.append(degree_sequence)\n",
    "        flexible_clustering.append(sorted(nx.clustering(graph).values()))\n",
    "        \n",
    "        \n",
    "\n",
    "    "
   ]
  },
  {
   "cell_type": "code",
   "execution_count": 175,
   "metadata": {},
   "outputs": [
    {
     "data": {
      "image/png": "[encoded data removed]",
      "text/plain": [
       "<Figure size 1000x500 with 2 Axes>"
      ]
     },
     "metadata": {},
     "output_type": "display_data"
    },
    {
     "name": "stdout",
     "output_type": "stream",
     "text": [
      "Mean clustering coefficient for set 1: 3.7\n",
      "Mean clustering coefficient for set 2: 3.7\n",
      "Standard deviation of degrees for set 1: 1.3714350305560938\n",
      "Standard deviation of degrees for set 2: 1.4847763588319705\n"
     ]
    }
   ],
   "source": [
    "import networkx as nx\n",
    "import numpy as np\n",
    "import matplotlib.pyplot as plt\n",
    "\n",
    "# # Generate two sets of graphs\n",
    "# graphs1 = [correct[i][0] for i in range(len(correct))]\n",
    "# graphs2 = [failed[i][0] for i in range(len(failed))] # List of NetworkX graphs\n",
    "\n",
    "# Calculate degree sequences for each set of graphs\n",
    "degree_seqs1 = rigid_degree_sequences\n",
    "degree_seqs2 = flexible_degree_sequences\n",
    "\n",
    "# Plot degree distribution for each set of graphs\n",
    "fig, (ax1, ax2) = plt.subplots(1, 2, figsize=(10, 5))\n",
    "ax1.hist(np.concatenate(degree_seqs1))\n",
    "ax1.set_title('Degree distribution for set 1')\n",
    "ax2.hist(np.concatenate(degree_seqs2))\n",
    "ax2.set_title('Degree distribution for set 2')\n",
    "plt.show()\n",
    "\n",
    "# Compare mean and standard deviation of degree sequences\n",
    "print(\"Mean clustering coefficient for set 1:\", np.mean(np.concatenate(degree_seqs1)))\n",
    "print(\"Mean clustering coefficient for set 2:\", np.mean(np.concatenate(degree_seqs2)))\n",
    "print(\"Standard deviation of degrees for set 1:\", np.std(np.concatenate(degree_seqs1)))\n",
    "print(\"Standard deviation of degrees for set 2:\", np.std(np.concatenate(degree_seqs2)))\n"
   ]
  },
  {
   "cell_type": "code",
   "execution_count": 176,
   "metadata": {},
   "outputs": [
    {
     "data": {
      "image/png": "[encoded data removed]",
      "text/plain": [
       "<Figure size 1000x500 with 2 Axes>"
      ]
     },
     "metadata": {},
     "output_type": "display_data"
    },
    {
     "name": "stdout",
     "output_type": "stream",
     "text": [
      "Mean clustering coefficient for set 1: 0.14796666731515995\n",
      "Mean clustering coefficient for set 2: 0.16717775228676263\n",
      "Standard deviation of degrees for set 1: 0.2221143237643182\n",
      "Standard deviation of degrees for set 2: 0.23393295316039922\n"
     ]
    }
   ],
   "source": [
    "import networkx as nx\n",
    "import numpy as np\n",
    "import matplotlib.pyplot as plt\n",
    "\n",
    "# # Generate two sets of graphs\n",
    "# graphs1 = [correct[i][0] for i in range(len(correct))]\n",
    "# graphs2 = [failed[i][0] for i in range(len(failed))] # List of NetworkX graphs\n",
    "\n",
    "# Calculate degree sequences for each set of graphs\n",
    "degree_seqs1 = rigid_clustering\n",
    "degree_seqs2 = flexible_clustering\n",
    "\n",
    "# Plot degree distribution for each set of graphs\n",
    "fig, (ax1, ax2) = plt.subplots(1, 2, figsize=(10, 5))\n",
    "ax1.hist(np.concatenate(degree_seqs1))\n",
    "ax1.set_title('Degree distribution for set 1')\n",
    "ax2.hist(np.concatenate(degree_seqs2))\n",
    "ax2.set_title('Degree distribution for set 2')\n",
    "plt.show()\n",
    "\n",
    "# Compare mean and standard deviation of degree sequences\n",
    "print(\"Mean clustering coefficient for set 1:\", np.mean(np.concatenate(degree_seqs1)))\n",
    "print(\"Mean clustering coefficient for set 2:\", np.mean(np.concatenate(degree_seqs2)))\n",
    "print(\"Standard deviation of degrees for set 1:\", np.std(np.concatenate(degree_seqs1)))\n",
    "print(\"Standard deviation of degrees for set 2:\", np.std(np.concatenate(degree_seqs2)))\n"
   ]
  },
  {
   "cell_type": "code",
   "execution_count": null,
   "metadata": {},
   "outputs": [],
   "source": []
  }
 ],
 "metadata": {
  "kernelspec": {
   "display_name": "Python 3 (ipykernel)",
   "language": "python",
   "name": "python3"
  },
  "language_info": {
   "codemirror_mode": {
    "name": "ipython",
    "version": 3
   },
   "file_extension": ".py",
   "mimetype": "text/x-python",
   "name": "python",
   "nbconvert_exporter": "python",
   "pygments_lexer": "ipython3",
   "version": "3.10.9"
  }
 },
 "nbformat": 4,
 "nbformat_minor": 4
}
